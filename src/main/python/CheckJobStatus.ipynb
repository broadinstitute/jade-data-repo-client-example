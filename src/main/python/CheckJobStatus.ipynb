{
 "cells": [
  {
   "cell_type": "markdown",
   "metadata": {},
   "source": [
    "# Job Status Check\n",
    "Provide a list of job IDs and it will print out the status for each"
   ]
  },
  {
   "cell_type": "code",
   "execution_count": 14,
   "metadata": {},
   "outputs": [],
   "source": [
    "%%capture\n",
    "import sys\n",
    "!{sys.executable} -m pip install --upgrade pip\n",
    "!{sys.executable} -m pip install --upgrade data_repo_client\n",
    "!{sys.executable} -m pip install google-cloud-storage\n",
    "\n",
    "\n",
    "from data_repo_client import Configuration, JobsApi, ApiClient"
   ]
  },
  {
   "cell_type": "code",
   "execution_count": 15,
   "metadata": {},
   "outputs": [],
   "source": [
    "# Set up configuration\n",
    "config = Configuration()\n",
    "config.host=\"https://data.terra.bio/\"\n",
    "token=!gcloud auth print-access-token <Your Email>\n",
    "config.access_token = token[0]\n",
    "\n",
    "apiClient = ApiClient(configuration=config)\n",
    "apiClient.client_side_validation = False\n",
    "\n",
    "# Create required API Clients\n",
    "jobs_api = JobsApi(api_client=apiClient)"
   ]
  },
  {
   "cell_type": "code",
   "execution_count": 17,
   "metadata": {},
   "outputs": [
    {
     "name": "stdout",
     "output_type": "stream",
     "text": [
      "0 Jobs\n"
     ]
    }
   ],
   "source": [
    "jobids = []\n",
    "\n",
    "print(f'{len(jobids)} Jobs')\n",
    "\n",
    "for job in jobids:\n",
    "    try:\n",
    "        print(jobs_api.retrieve_job(job).job_status)\n",
    "    except:\n",
    "        print('Job not found: ' + job)"
   ]
  }
 ],
 "metadata": {
  "kernelspec": {
   "display_name": "Python 3",
   "language": "python",
   "name": "python3"
  },
  "language_info": {
   "codemirror_mode": {
    "name": "ipython",
    "version": 3
   },
   "file_extension": ".py",
   "mimetype": "text/x-python",
   "name": "python",
   "nbconvert_exporter": "python",
   "pygments_lexer": "ipython3",
   "version": "3.9.6"
  }
 },
 "nbformat": 4,
 "nbformat_minor": 2
}
