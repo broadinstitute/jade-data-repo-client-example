{
 "cells": [
  {
   "cell_type": "markdown",
   "id": "composed-vacuum",
   "metadata": {},
   "source": [
    "# Terra Data Repository on Azure Year 1 Demo\n",
    "\n",
    "This notebook runs through the following steps:\n",
    "- Authenticate using B2C\n",
    "- Create an Azure *billing Profile* in TDR\n",
    "- Create a *dataset*\n",
    "- Ingest 1000 Genomes data into the *dataset*\n",
    "- Create a *snapshot* from the *dataset*\n",
    "- Read the the metadata from the *snapshot* into a Pandas data frame\n",
    "- Read a Drs object from the metadata and use it to access file data\n"
   ]
  },
  {
   "cell_type": "markdown",
   "id": "difficult-youth",
   "metadata": {},
   "source": [
    "## Import dependencies"
   ]
  },
  {
   "cell_type": "code",
   "execution_count": null,
   "id": "ready-original",
   "metadata": {},
   "outputs": [],
   "source": [
    "%%capture\n",
    "import sys\n",
    "!{sys.executable} -m pip install --upgrade pip\n",
    "!{sys.executable} -m pip install pandas\n",
    "!{sys.executable} -m pip install --upgrade data_repo_client\n",
    "!{sys.executable} -m pip install pyarrow\n",
    "!{sys.executable} -m pip install fastparquet\n",
    "\n",
    "import pandas as pd\n",
    "import datetime, uuid, urllib, os, time\n",
    "from tdr_utils import TdrUtils\n",
    "import logging\n",
    "logger = logging.getLogger()\n",
    "logger.setLevel(logging.CRITICAL)\n",
    "from data_repo_client import ApiClient, ApiException, Configuration, DatasetsApi, SnapshotsApi, JobsApi, ResourcesApi, DataRepositoryServiceApi"
   ]
  },
  {
   "cell_type": "markdown",
   "id": "continuing-stomach",
   "metadata": {
    "pycharm": {
     "name": "#%% md\n"
    }
   },
   "source": [
    "## Set configuration\n",
    "\n",
    "Obtain a JWT by going through the auth flow here:\n",
    "\n",
    "https://terradevb2c.b2clogin.com/terradevb2c.onmicrosoft.com/b2c_1a_signup_signin_tdr/oauth2/v2.0/authorize?client_id=bbd07d43-01cb-4b69-8fd0-5746d9a5c9fe&nonce=defaultNonce&redirect_uri=https%3A%2F%2Fjwt.ms&scope=openid&response_type=id_token&prompt=login\n",
    "\n",
    "Save the JWT into the token field"
   ]
  },
  {
   "cell_type": "code",
   "execution_count": null,
   "id": "ecological-facility",
   "metadata": {},
   "outputs": [],
   "source": [
    "# Set up configuration\n",
    "config = Configuration()\n",
    "config.host=\"https://jade.datarepo-dev.broadinstitute.org/\"\n",
    "# Paste in the JWT token obtained via the auth link above\n",
    "token=\"\"\n",
    "config.access_token = token\n",
    "api_client = ApiClient(configuration=config)\n",
    "api_client.client_side_validation = False\n",
    "\n",
    "# Obtain a sas token for the folder that contains the source metadata to ingest\n",
    "ingest_sas_token = \"\"\n",
    "\n",
    "# Azure managed managed application configuration.  These are obtained from the Azure portal\n",
    "application_deployment_name = \"tdrdeployment1\"\n",
    "resource_group_name = \"TDR\"\n",
    "subscription_id = \"71d52ec1-5886-480a-9d6e-ed98cbf1f69f\"\n",
    "tenant_id = \"efc08443-0082-4d6c-8931-c5794c156abd\"\n",
    "\n",
    "# Enter a billing profile or leave blank to generate a new one when creating a new billing profile\n",
    "billing_profile_id = \"2c4b516b-c827-4b70-92a2-a025d8e5d20a\"\n",
    "\n",
    "ingest_file_base = \"https://tdrtestdatauscentral.blob.core.windows.net/1000genomes/metadata\"\n",
    "\n",
    "local_parquet_dir = \"/tmp/az\"\n",
    "\n",
    "# Create required API Clients\n",
    "jobs_api = JobsApi(api_client=api_client)\n",
    "resources_api = ResourcesApi(api_client=api_client)\n",
    "datasets_api = DatasetsApi(api_client=api_client)\n",
    "snapshots_api = SnapshotsApi(api_client=api_client)\n",
    "drs_api = DataRepositoryServiceApi(api_client=api_client)\n",
    "tdr_utils = TdrUtils(jobs_api)"
   ]
  },
  {
   "cell_type": "markdown",
   "id": "urban-reduction",
   "metadata": {
    "pycharm": {
     "name": "#%% md\n"
    }
   },
   "source": [
    "## Create the Terra Data Repo billing profile\n",
    "This will check the current logged in user against the user specified when deploying the TDR managed application.  The following step can be skipped if a billing profile already exists in TDR that you wish to use.  Just be sure to record the billing profile id in the `billing_profile_id` variable."
   ]
  },
  {
   "cell_type": "code",
   "execution_count": null,
   "id": "stylish-category",
   "metadata": {
    "pycharm": {
     "name": "#%%\n"
    }
   },
   "outputs": [],
   "source": [
    "# Create Billing Profile\n",
    "if (billing_profile_id == None or billing_profile_id == \"\"):\n",
    "    billing_profile_id = str(uuid.uuid4());\n",
    "\n",
    "profile_request = {\n",
    "  \"id\": billing_profile_id,\n",
    "  \"biller\": \"direct\",\n",
    "  \"description\": \"Billing profile that demonstrates use of Azure resources within TDR\",\n",
    "  \"profileName\": \"azureprofile\",\n",
    "  \"cloudPlatform\": \"azure\",\n",
    "  \"applicationDeploymentName\": application_deployment_name,\n",
    "  \"resourceGroupName\": resource_group_name,\n",
    "  \"subscriptionId\": subscription_id,\n",
    "  \"tenantId\": tenant_id\n",
    "}\n",
    "\n",
    "\n",
    "create_profile_result = tdr_utils.wait_for_job(resources_api.create_profile(billing_profile_request=profile_request))"
   ]
  },
  {
   "cell_type": "markdown",
   "id": "correct-street",
   "metadata": {
    "pycharm": {
     "name": "#%% md\n"
    }
   },
   "source": [
    "## Create Dataset\n",
    "This process will trigger the creation of a storage account in the managed resource group that exists within the TDR managed application that was deployed by an Azure user in the Azure portal.  This storage account will store:\n",
    "- Arbitrary table data as Parqet files\n",
    "- Files that are ingested into the dataset\n",
    "- Metadata for the files stored in Azure Storage Tables"
   ]
  },
  {
   "cell_type": "code",
   "execution_count": null,
   "id": "becoming-contest",
   "metadata": {},
   "outputs": [],
   "source": [
    "dataset_request = {\n",
    "  \"defaultProfileId\": billing_profile_id,\n",
    "  \"name\": \"1000genomesdataset_azure\",\n",
    "  \"description\": \"Dataset to demonstrate storing TDR data and metadata in Azure resources\",\n",
    "  \"cloudPlatform\": \"azure\",\n",
    "  \"region\": \"westus2\",\n",
    "  \"schema\": {\n",
    "    \"tables\": [\n",
    "      {\n",
    "        \"name\": \"demo_pheno_data\",\n",
    "        \"columns\": [\n",
    "          {\n",
    "            \"name\": \"pheno_data_id\",\n",
    "            \"datatype\": \"string\",\n",
    "            \"array_of\": False\n",
    "          },\n",
    "          {\n",
    "            \"name\": \"age\",\n",
    "            \"datatype\": \"integer\",\n",
    "            \"array_of\": False\n",
    "          },\n",
    "          {\n",
    "            \"name\": \"bmi_baseline\",\n",
    "            \"datatype\": \"float\",\n",
    "            \"array_of\": False\n",
    "          },\n",
    "          {\n",
    "            \"name\": \"dbgap_accession_number\",\n",
    "            \"datatype\": \"string\",\n",
    "            \"array_of\": False\n",
    "          },\n",
    "          {\n",
    "            \"name\": \"height_baseline\",\n",
    "            \"datatype\": \"float\",\n",
    "            \"array_of\": False\n",
    "          },\n",
    "          {\n",
    "            \"name\": \"ldl\",\n",
    "            \"datatype\": \"float\",\n",
    "            \"array_of\": False\n",
    "          },\n",
    "          {\n",
    "            \"name\": \"hdl\",\n",
    "            \"datatype\": \"float\",\n",
    "            \"array_of\": False\n",
    "          },\n",
    "          {\n",
    "            \"name\": \"population\",\n",
    "            \"datatype\": \"string\",\n",
    "            \"array_of\": False\n",
    "          },\n",
    "          {\n",
    "            \"name\": \"program_name\",\n",
    "            \"datatype\": \"string\",\n",
    "            \"array_of\": False\n",
    "          },\n",
    "          {\n",
    "            \"name\": \"sample_specimen_id\",\n",
    "            \"datatype\": \"string\",\n",
    "            \"array_of\": False\n",
    "          },\n",
    "          {\n",
    "            \"name\": \"sex\",\n",
    "            \"datatype\": \"string\",\n",
    "            \"array_of\": False\n",
    "          },\n",
    "          {\n",
    "            \"name\": \"total_cholesterol\",\n",
    "            \"datatype\": \"float\",\n",
    "            \"array_of\": False\n",
    "          },\n",
    "          {\n",
    "            \"name\": \"triglycerides\",\n",
    "            \"datatype\": \"float\",\n",
    "            \"array_of\": False\n",
    "          },\n",
    "          {\n",
    "            \"name\": \"bam_file\",\n",
    "            \"datatype\": \"fileref\",\n",
    "            \"array_of\": False\n",
    "          },\n",
    "          {\n",
    "            \"name\": \"bam_file_index\",\n",
    "            \"datatype\": \"fileref\",\n",
    "            \"array_of\": False\n",
    "          }\n",
    "        ],\n",
    "        \"primaryKey\": []\n",
    "      }\n",
    "    ],\n",
    "    \"assets\": [\n",
    "      {\n",
    "        \"name\": \"default\",\n",
    "        \"tables\": [\n",
    "          {\n",
    "            \"name\": \"demo_pheno_data\",\n",
    "            \"columns\": []\n",
    "          }\n",
    "        ],\n",
    "        \"rootTable\": \"demo_pheno_data\",\n",
    "        \"rootColumn\": \"pheno_data_id\",\n",
    "        \"follow\": []\n",
    "      }\n",
    "    ]\n",
    "  }\n",
    "}\n",
    "\n",
    "create_dataset_result = tdr_utils.wait_for_job(datasets_api.create_dataset(dataset=dataset_request))"
   ]
  },
  {
   "cell_type": "markdown",
   "id": "plastic-music",
   "metadata": {},
   "source": [
    "Read in the dataset that was just created with full information"
   ]
  },
  {
   "cell_type": "code",
   "execution_count": null,
   "id": "healthy-hopkins",
   "metadata": {
    "pycharm": {
     "name": "#%%\n"
    }
   },
   "outputs": [],
   "source": [
    "dataset = datasets_api.retrieve_dataset(create_dataset_result['id'])\n",
    "tdr_utils.pretty_print_tdr_object(dataset)"
   ]
  },
  {
   "cell_type": "markdown",
   "id": "reserved-defeat",
   "metadata": {},
   "source": [
    "# Ingest Pedigree Data\n",
    "Ingest metadata and file data into TDR.  This will use Azure Synapse to convert metadata that exists in a storage account in either CSV or newline delimited JSON into Parquet files.\n",
    "\n",
    "If the input metadata is JSON, `fileref` fields can be specified as pointers to storage account files that will be copied into the storage account.\n",
    "\n",
    "An example metadata record may look like:\n",
    "\n",
    "```{\"pheno_data_id\":\"HG00096\",\"age\":75,\"bam_file\": {\"description\":\"my bam file\",\"mimeType\":\"application/octet-stream\",\"sourcePath\": \"https://myaccount.blob.core.windows.net/mycontainer/path/to/blob.bam?<sas token>\",\"targetPath\":\"/my/custom/path/file.bam\"}}```"
   ]
  },
  {
   "cell_type": "code",
   "execution_count": null,
   "id": "atomic-bacteria",
   "metadata": {},
   "outputs": [],
   "source": [
    "ingest_request = {\n",
    "  \"format\": \"json\",\n",
    "  \"ignore_unknown_values\": True,\n",
    "  \"load_tag\": \"smallload\",\n",
    "  \"max_bad_records\": 0,\n",
    "  \"path\": ingest_file_base + \"/demo-pheno-data-small.json?\" + ingest_sas_token,\n",
    "  \"profile_id\": billing_profile_id,\n",
    "  \"resolve_existing_files\": True,\n",
    "  \"table\": \"demo_pheno_data\"\n",
    "}\n",
    "ingest_request_result = tdr_utils.wait_for_job(datasets_api.ingest_dataset(dataset.id, ingest=ingest_request))"
   ]
  },
  {
   "cell_type": "markdown",
   "id": "permanent-namibia",
   "metadata": {},
   "source": [
    "## Read the Ingested Metadata\n",
    "\n",
    "The following cells demonstrate obtaining access to download metadata from the controlled storage account and viewing them with Pandas"
   ]
  },
  {
   "cell_type": "code",
   "execution_count": null,
   "id": "subjective-retro",
   "metadata": {},
   "outputs": [],
   "source": [
    "dataset_access = datasets_api.retrieve_dataset(dataset.id, include=[\"ACCESS_INFORMATION\"])\n",
    "table = next(iter(dataset_access.access_information.parquet.tables), lambda t: t.name == \"demo_pheno_data\")\n",
    "tdr_utils.pretty_print_tdr_object(table)"
   ]
  },
  {
   "cell_type": "code",
   "execution_count": null,
   "id": "proof-seller",
   "metadata": {},
   "outputs": [],
   "source": [
    "os.system(\"rm -r %s/%s\" % (local_parquet_dir, table.name))\n",
    "os.system(\"azcopy cp '%s?%s' '%s' --recursive > /dev/null\" % (table.url, table.sas_token, local_parquet_dir))\n",
    "df = pd.read_parquet(\"%s/%s\" % (local_parquet_dir, table.name))\n",
    "# Convert the UUID from binary to readable UUID\n",
    "df[\"datarepo_row_id\"] = df[\"datarepo_row_id\"].apply(tdr_utils.UUID)\n",
    "df.head(5)"
   ]
  },
  {
   "cell_type": "markdown",
   "id": "informed-creativity",
   "metadata": {},
   "source": [
    "## Create a Snapshot\n",
    "Snapshots are the mechanism by which datasets are shared with users.  The process:\n",
    "- Triggers the creation of a storage account to store metadata related to the snapshot (note: file data is _not_ copied into the snapshot storage account)\n",
    "- Copies relevate metadata and file information into the new storage account\n",
    "- Resolved DRS URIs"
   ]
  },
  {
   "cell_type": "code",
   "execution_count": null,
   "id": "musical-straight",
   "metadata": {},
   "outputs": [],
   "source": [
    "snapshot_request = {\n",
    "  \"contents\": [\n",
    "    {\n",
    "      \"datasetName\": dataset.name,\n",
    "      \"mode\": \"byFullView\"\n",
    "    }\n",
    "  ],\n",
    "  \"description\": \"Demonstration of Azure resource backed snapshot\",\n",
    "  \"name\": dataset.name+\"_snp\",\n",
    "  \"profileId\": billing_profile_id,\n",
    "  \"readers\": []\n",
    "}\n",
    "\n",
    "create_snapshot_result = tdr_utils.wait_for_job(snapshots_api.create_snapshot(snapshot=snapshot_request))"
   ]
  },
  {
   "cell_type": "markdown",
   "id": "continental-multiple",
   "metadata": {},
   "source": [
    "# Read the Generated Snapshot Metadata"
   ]
  },
  {
   "cell_type": "code",
   "execution_count": null,
   "id": "thermal-communist",
   "metadata": {},
   "outputs": [],
   "source": [
    "snapshot = snapshots_api.retrieve_snapshot(create_snapshot_result['id'], include=[\"ACCESS_INFORMATION\"])\n",
    "table = next(iter(snapshot.access_information.parquet.tables), lambda t: t.name == \"demo_pheno_data\")\n",
    "tdr_utils.pretty_print_tdr_object(table)"
   ]
  },
  {
   "cell_type": "code",
   "execution_count": null,
   "id": "promotional-trinidad",
   "metadata": {},
   "outputs": [],
   "source": [
    "pd.set_option('display.max_colwidth', 1000)\n",
    "os.system(\"rm -r %s/%s.parquet\" % (local_parquet_dir, table.name))\n",
    "os.system(\"azcopy cp '%s?%s' '%s' --recursive > /dev/null\" % (table.url, table.sas_token, local_parquet_dir))\n",
    "df = pd.read_parquet(\"%s/%s.parquet\" % (local_parquet_dir, table.name))\n",
    "# Convert the UUID from binary to readable UUID\n",
    "df[\"datarepo_row_id\"] = df[\"datarepo_row_id\"].apply(tdr_utils.UUID)\n",
    "df.head(5)"
   ]
  },
  {
   "cell_type": "markdown",
   "id": "liquid-violin",
   "metadata": {},
   "source": [
    "# Share the Snapshot\n",
    "Below is an example of how to share the created snapshot with a Terra user"
   ]
  },
  {
   "cell_type": "code",
   "execution_count": null,
   "id": "spatial-safety",
   "metadata": {},
   "outputs": [],
   "source": [
    "policy_member_request = {\n",
    "    \"email\": \"rtitle@broadinstitute.org\"\n",
    "}\n",
    "tdr_utils.pretty_print_tdr_object(snapshots_api.add_snapshot_policy_member(snapshot.id, 'steward', policy_member = policy_member_request))\n"
   ]
  },
  {
   "cell_type": "markdown",
   "id": "tested-defeat",
   "metadata": {
    "pycharm": {
     "name": "#%% md\n"
    }
   },
   "source": [
    "## Given a Drs ID, access file data\n",
    "From the previous cell, copy a DRS ID and extract the object ID (in the format `v1_<uuid>_<uuid>`) and save if in the drs_id variable.\n",
    "\n",
    "The following cell obtains a signed URL from TDR using a DRS ID then reads the first few bytes."
   ]
  },
  {
   "cell_type": "code",
   "execution_count": null,
   "id": "likely-dispatch",
   "metadata": {},
   "outputs": [],
   "source": [
    "# Get access to DRS object\n",
    "drs_id = \"\"\n",
    "drs_object = drs_api.get_object(drs_id)\n",
    "drs_access = drs_api.get_access_url(drs_id, drs_object.access_methods[0].access_id)\n",
    "tdr_utils.pretty_print_tdr_object(drs_access)"
   ]
  },
  {
   "cell_type": "markdown",
   "id": "opposed-china",
   "metadata": {
    "pycharm": {
     "name": "#%% md\n"
    }
   },
   "source": [
    "## Read the first 100 bytes of the file represented by DRS ID"
   ]
  },
  {
   "cell_type": "code",
   "execution_count": null,
   "id": "catholic-southwest",
   "metadata": {
    "pycharm": {
     "name": "#%%\n"
    }
   },
   "outputs": [],
   "source": [
    "# Read the first 100 bytes of the file represented by DRS ID\n",
    "print(urllib.request.urlopen(drs_access.url).read()[:100])"
   ]
  },
  {
   "cell_type": "markdown",
   "id": "exotic-space",
   "metadata": {},
   "source": [
    "## Delete Objects That Were Created\n",
    "Run through the following steps in order for objects that were created in this notebook"
   ]
  },
  {
   "cell_type": "code",
   "execution_count": null,
   "id": "individual-carrier",
   "metadata": {},
   "outputs": [],
   "source": [
    "tdr_utils.wait_for_job(snapshots_api.delete_snapshot(snapshot.id))"
   ]
  },
  {
   "cell_type": "code",
   "execution_count": null,
   "id": "lonely-discipline",
   "metadata": {},
   "outputs": [],
   "source": [
    "tdr_utils.wait_for_job(datasets_api.delete_dataset(dataset.id))"
   ]
  }
 ],
 "metadata": {
  "kernelspec": {
   "display_name": "Python 3 (ipykernel)",
   "language": "python",
   "name": "python3"
  },
  "language_info": {
   "codemirror_mode": {
    "name": "ipython",
    "version": 3
   },
   "file_extension": ".py",
   "mimetype": "text/x-python",
   "name": "python",
   "nbconvert_exporter": "python",
   "pygments_lexer": "ipython3",
   "version": "3.8.2"
  }
 },
 "nbformat": 4,
 "nbformat_minor": 5
}