{
 "cells": [
  {
   "cell_type": "markdown",
   "id": "composed-vacuum",
   "metadata": {},
   "source": [
    "# Terra Data Repository on Azure Year 1 Demo\n",
    "\n",
    "This notebook runs through the following steps:\n",
    "- Authenticate using B2C\n",
    "- Create an Azure *billing Profile* in TDR\n",
    "- Create a *dataset*\n",
    "- Ingest 1000 Genomes data into the *dataset*\n",
    "- Create a *snapshot* from the *dataset*\n",
    "- Read the the metadata from the *snapshot* into a Pandas data frame\n",
    "- Read a Drs object from the metadata and use it to access file data\n"
   ]
  },
  {
   "cell_type": "markdown",
   "id": "difficult-youth",
   "metadata": {},
   "source": [
    "## Import dependencies"
   ]
  },
  {
   "cell_type": "code",
   "execution_count": null,
   "id": "ready-original",
   "metadata": {},
   "outputs": [],
   "source": [
    "!{sys.executable} -m pip install --upgrade pip\n",
    "!{sys.executable} -m pip install pandas\n",
    "!{sys.executable} -m pip install --upgrade data_repo_client\n",
    "\n",
    "import pandas as pd\n",
    "import datetime, uuid, urllib, os, time, json\n",
    "from IPython.core.display import display, clear_output, HTML\n",
    "from data_repo_client import DatasetsApi\n",
    "from data_repo_client import SnapshotsApi\n",
    "from data_repo_client import JobsApi\n",
    "from data_repo_client import ResourcesApi\n",
    "from data_repo_client import ApiClient\n",
    "from data_repo_client import Configuration\n",
    "from data_repo_client import DataRepositoryServiceApi\n",
    "from data_repo_client import ApiException\n"
   ]
  },
  {
   "cell_type": "code",
   "execution_count": null,
   "id": "vanilla-shooting",
   "metadata": {
    "pycharm": {
     "name": "#%%\n"
    }
   },
   "outputs": [],
   "source": [
    "# Create require methods for demo\n",
    "\n",
    "# Format TDR object\n",
    "def pretty_print_tdr_object(obj):\n",
    "  if (hasattr(obj, \"to_dict\")):\n",
    "    return json.dumps(obj.to_dict(), indent=4)\n",
    "  else:\n",
    "    return json.dumps(obj, indent=4)\n",
    "  a = ApiException();\n",
    "\n",
    "# Check status of job\n",
    "def wait_for_job(job_model):\n",
    "  counter = 0\n",
    "  max_dots = 8\n",
    "  result = job_model\n",
    "  job_str = '\"%s\" (%s)' % (job_model.description, job_model.id)\n",
    "  while True:\n",
    "    counter += 1\n",
    "    clear_output(wait=True)\n",
    "    if (result == None or result.job_status == \"running\"):\n",
    "      num_dots = counter % max_dots\n",
    "      dots = '.' * (num_dots)\n",
    "      display(HTML('<b>Running job %s %s</b>' %(job_str, dots)))\n",
    "      time.sleep(3)\n",
    "      result = jobs_api.retrieve_job(job_model.id)\n",
    "    elif (result.job_status == 'failed'):\n",
    "      display(HTML('<b>Running job %s: <span style=\"color:rgb(219, 50, 20);\">failed</span></b>' % job_str))\n",
    "      try:\n",
    "        result = jobs_api.retrieve_job_result(job_model.id)\n",
    "      except ApiException as e:\n",
    "        result = display(HTML('<p>Job result is:</p><pre>%s</pre>' % e))\n",
    "      return result\n",
    "    elif (result.job_status == \"succeeded\"):\n",
    "      display(HTML('<b>Running job %s: <span style=\"color:rgb(116, 174, 6);\">succeeded</span></b>' % job_str))\n",
    "      result = jobs_api.retrieve_job_result(job_model.id)\n",
    "      display(HTML('<p>Job result is:</p><hr/><pre>%s</pre>' % pretty_print_tdr_object(result)))\n",
    "      return result\n",
    "    else:\n",
    "      raise \"Unrecognized job state %s\" % result.job_status\n",
    "\n",
    "\n",
    "# Convert bytes representation of UUID into string representation\n",
    "def UUID(bytes):\n",
    "  return str(uuid.UUID(bytes=bytes))"
   ]
  },
  {
   "cell_type": "markdown",
   "id": "continuing-stomach",
   "metadata": {
    "pycharm": {
     "name": "#%% md\n"
    }
   },
   "source": [
    "## Set configuration\n",
    "\n",
    "Obtain a JWT by going through the auth flow here:\n",
    "\n",
    "https://tdrb2ctest.b2clogin.com/tdrb2ctest.onmicrosoft.com/oauth2/v2.0/authorize?p=B2C_1A_SIGNUP_SIGNIN&client_id=bc8119eb-e425-4ff7-945a-05f90a37fca7&nonce=defaultNonce&redirect_uri=https%3A%2F%2Fjwt.ms&scope=openid&response_type=id_token&prompt=login\n",
    "\n",
    "Save the JWT into the token field"
   ]
  },
  {
   "cell_type": "code",
   "execution_count": null,
   "id": "ecological-facility",
   "metadata": {},
   "outputs": [],
   "source": [
    "# Set up configuration\n",
    "config = Configuration()\n",
    "config.host=\"https://jade-nm.datarepo-dev.broadinstitute.org/\"\n",
    "# Paste in the JWT token obtained via the auth link above\n",
    "token=\"\"\n",
    "config.access_token = token\n",
    "api_client = ApiClient(configuration=config)\n",
    "api_client.client_side_validation = False\n",
    "\n",
    "# Obtain a sas token for the folder that contains the source metadata to ingest\n",
    "ingest_sas_token = \"\"\n",
    "\n",
    "# Azure managed managed application configuration.  These are obtained from the Azure portal\n",
    "application_deployment_name = \"tdrdeployment1\"\n",
    "resource_group_name = \"TDR\"\n",
    "subscription_id = \"71d52ec1-5886-480a-9d6e-ed98cbf1f69f\"\n",
    "tenant_id = \"efc08443-0082-4d6c-8931-c5794c156abd\"\n",
    "profile_name = \"azureprofile\"\n",
    "profile_description = \"Billing profile that demonstrates use of Azure resources within TDR\"\n",
    "\n",
    "# Remove this once GCP cleanup is merged\n",
    "billing_account_id = \"00708C-45D19D-27AAFA\"\n",
    "\n",
    "# Enter a billing profile or leave blank to generate a new one when creating a new billing profile\n",
    "billing_profile_id = \"cdac1ca4-049c-4711-8f4b-1010d71680cb\"\n",
    "\n",
    "dataset_name = \"1000genomes13\"\n",
    "dataset_description = \"1000 genomes dataset\"\n",
    "ingest_file_base = \"https://tdrtestdatauscentral.blob.core.windows.net/1000genomes/metadata\"\n",
    "\n",
    "snapshot_name = \"1000genomessnp13\"\n",
    "snapshot_description = \"1000 genomes snapshot\"\n",
    "\n",
    "local_parquet_dir = \"/tmp/az\"\n",
    "\n",
    "# Create required API Clients\n",
    "jobs_api = JobsApi(api_client=api_client)\n",
    "resources_api = ResourcesApi(api_client=api_client)\n",
    "datasets_api = DatasetsApi(api_client=api_client)\n",
    "snapshots_api = SnapshotsApi(api_client=api_client)\n",
    "drs_api = DataRepositoryServiceApi(api_client=api_client)"
   ]
  },
  {
   "cell_type": "markdown",
   "id": "urban-reduction",
   "metadata": {
    "pycharm": {
     "name": "#%% md\n"
    }
   },
   "source": [
    "## Create the Terra Data Repo billing profile"
   ]
  },
  {
   "cell_type": "code",
   "execution_count": null,
   "id": "stylish-category",
   "metadata": {
    "pycharm": {
     "name": "#%%\n"
    }
   },
   "outputs": [],
   "source": [
    "# Create Billing Profile\n",
    "if (billing_profile_id == None or billing_profile_id == \"\"):\n",
    "  billing_profile_id = str(uuid.uuid4());\n",
    "\n",
    "profile_request = {\n",
    "  \"biller\": \"direct\",\n",
    "  \"billingAccountId\": billing_account_id,\n",
    "  \"description\": profile_description,\n",
    "  \"id\": billing_profile_id,\n",
    "  \"profileName\": profile_name,\n",
    "  \"cloudPlatform\": \"azure\",\n",
    "  \"applicationDeploymentName\": application_deployment_name,\n",
    "  \"resourceGroupName\": resource_group_name,\n",
    "  \"subscriptionId\": subscription_id,\n",
    "  \"tenantId\": tenant_id\n",
    "}\n",
    "\n",
    "\n",
    "create_profile_result = wait_for_job(resources_api.create_profile(billing_profile_request=profile_request))"
   ]
  },
  {
   "cell_type": "markdown",
   "id": "correct-street",
   "metadata": {
    "pycharm": {
     "name": "#%% md\n"
    }
   },
   "source": [
    "## Create Dataset and ingest data"
   ]
  },
  {
   "cell_type": "code",
   "execution_count": null,
   "id": "becoming-contest",
   "metadata": {},
   "outputs": [],
   "source": [
    "dataset_request = {\n",
    "  \"defaultProfileId\": billing_profile_id,\n",
    "  \"description\": dataset_description,\n",
    "  \"name\": dataset_name,\n",
    "  \"cloudPlatform\": \"azure\",\n",
    "  \"region\": \"westus2\",\n",
    "  \"gcpRegion\": \"us-east1\",\n",
    "  \"schema\": {\n",
    "    \"tables\": [\n",
    "      {\n",
    "        \"name\": \"demo_pheno_data\",\n",
    "        \"columns\": [\n",
    "          {\n",
    "            \"name\": \"pheno_data_id\",\n",
    "            \"datatype\": \"string\",\n",
    "            \"array_of\": False\n",
    "          },\n",
    "          {\n",
    "            \"name\": \"age\",\n",
    "            \"datatype\": \"integer\",\n",
    "            \"array_of\": False\n",
    "          },\n",
    "          {\n",
    "            \"name\": \"bmi_baseline\",\n",
    "            \"datatype\": \"float\",\n",
    "            \"array_of\": False\n",
    "          },\n",
    "          {\n",
    "            \"name\": \"dbgap_accession_number\",\n",
    "            \"datatype\": \"string\",\n",
    "            \"array_of\": False\n",
    "          },\n",
    "          {\n",
    "            \"name\": \"height_baseline\",\n",
    "            \"datatype\": \"float\",\n",
    "            \"array_of\": False\n",
    "          },\n",
    "          {\n",
    "            \"name\": \"ldl\",\n",
    "            \"datatype\": \"float\",\n",
    "            \"array_of\": False\n",
    "          },\n",
    "          {\n",
    "            \"name\": \"hdl\",\n",
    "            \"datatype\": \"float\",\n",
    "            \"array_of\": False\n",
    "          },\n",
    "          {\n",
    "            \"name\": \"population\",\n",
    "            \"datatype\": \"string\",\n",
    "            \"array_of\": False\n",
    "          },\n",
    "          {\n",
    "            \"name\": \"program_name\",\n",
    "            \"datatype\": \"string\",\n",
    "            \"array_of\": False\n",
    "          },\n",
    "          {\n",
    "            \"name\": \"sample_specimen_id\",\n",
    "            \"datatype\": \"string\",\n",
    "            \"array_of\": False\n",
    "          },\n",
    "          {\n",
    "            \"name\": \"sex\",\n",
    "            \"datatype\": \"string\",\n",
    "            \"array_of\": False\n",
    "          },\n",
    "          {\n",
    "            \"name\": \"total_cholesterol\",\n",
    "            \"datatype\": \"float\",\n",
    "            \"array_of\": False\n",
    "          },\n",
    "          {\n",
    "            \"name\": \"triglycerides\",\n",
    "            \"datatype\": \"float\",\n",
    "            \"array_of\": False\n",
    "          },\n",
    "          {\n",
    "            \"name\": \"bam_file\",\n",
    "            \"datatype\": \"fileref\",\n",
    "            \"array_of\": False\n",
    "          },\n",
    "          {\n",
    "            \"name\": \"bam_file_index\",\n",
    "            \"datatype\": \"fileref\",\n",
    "            \"array_of\": False\n",
    "          }\n",
    "        ],\n",
    "        \"primaryKey\": []\n",
    "      }\n",
    "    ],\n",
    "    \"assets\": [\n",
    "      {\n",
    "        \"name\": \"default\",\n",
    "        \"tables\": [\n",
    "          {\n",
    "            \"name\": \"demo_pheno_data\",\n",
    "            \"columns\": []\n",
    "          }\n",
    "        ],\n",
    "        \"rootTable\": \"demo_pheno_data\",\n",
    "        \"rootColumn\": \"pheno_data_id\",\n",
    "        \"follow\": []\n",
    "      }\n",
    "    ]\n",
    "  }\n",
    "}\n",
    "\n",
    "create_dataset_result = wait_for_job(datasets_api.create_dataset(dataset=dataset_request))"
   ]
  },
  {
   "cell_type": "code",
   "execution_count": null,
   "id": "healthy-hopkins",
   "metadata": {
    "pycharm": {
     "name": "#%%\n"
    }
   },
   "outputs": [],
   "source": [
    "# Read in the dataset that was just created with full information\n",
    "dataset = datasets_api.retrieve_dataset(create_dataset_result['id'])\n",
    "print(pretty_print_tdr_object(dataset))"
   ]
  },
  {
   "cell_type": "code",
   "execution_count": null,
   "id": "atomic-bacteria",
   "metadata": {},
   "outputs": [],
   "source": [
    "# Ingest Pedigree Data\n",
    "ingest_request = {\n",
    "  \"format\": \"json\",\n",
    "  \"ignore_unknown_values\": True,\n",
    "  \"load_tag\": \"smallload2\",\n",
    "  \"max_bad_records\": 0,\n",
    "  \"path\": ingest_file_base + \"/demo-pheno-data-small.json?\" + ingest_sas_token,\n",
    "  \"profile_id\": billing_profile_id,\n",
    "  \"resolve_existing_files\": True,\n",
    "  \"table\": \"demo_pheno_data\"\n",
    "}\n",
    "ingest_request_result = wait_for_job(datasets_api.ingest_dataset(dataset.id, ingest=ingest_request))"
   ]
  },
  {
   "cell_type": "code",
   "execution_count": null,
   "id": "subjective-retro",
   "metadata": {},
   "outputs": [],
   "source": [
    "# Look at the dataset parquet location\n",
    "dataset = datasets_api.retrieve_dataset(dataset.id, include=[\"ACCESS_INFORMATION\"])\n",
    "table = next(iter(dataset.access_information.parquet.tables), lambda t: t.name == \"demo_pheno_data\")\n",
    "print(pretty_print_tdr_object(table))"
   ]
  },
  {
   "cell_type": "code",
   "execution_count": null,
   "id": "proof-seller",
   "metadata": {},
   "outputs": [],
   "source": [
    "os.system(\"rm -r %s/%s\" % (local_parquet_dir, table.name))\n",
    "os.system(\"azcopy cp '%s?%s' '%s' --recursive\" % (table.url, table.sas_token, local_parquet_dir))\n",
    "df = pd.read_parquet(\"%s/%s\" % (local_parquet_dir, table.name))\n",
    "# Convert the UUID from binary to readable UUID\n",
    "df[\"datarepo_row_id\"] = df[\"datarepo_row_id\"].apply(UUID)\n",
    "df.head(10)"
   ]
  },
  {
   "cell_type": "code",
   "execution_count": null,
   "id": "musical-straight",
   "metadata": {},
   "outputs": [],
   "source": [
    "snapshot_request = {\n",
    "  \"contents\": [\n",
    "    {\n",
    "      \"datasetName\": dataset_name,\n",
    "      \"mode\": \"byFullView\"\n",
    "    }\n",
    "  ],\n",
    "  \"description\": snapshot_description,\n",
    "  \"name\": snapshot_name,\n",
    "  \"profileId\": billing_profile_id,\n",
    "  \"readers\": []\n",
    "}\n",
    "\n",
    "create_snapshot_result = wait_for_job(snapshots_api.create_snapshot(snapshot=snapshot_request))"
   ]
  },
  {
   "cell_type": "code",
   "execution_count": null,
   "id": "thermal-communist",
   "metadata": {},
   "outputs": [],
   "source": [
    "# Look at the dataset parquet location\n",
    "snapshot = snapshots_api.retrieve_snapshot(create_snapshot_result['id'], include=[\"ACCESS_INFORMATION\"])\n",
    "table = next(iter(snapshot.access_information.parquet.tables), lambda t: t.name == \"demo_pheno_data\")\n",
    "print(pretty_print_tdr_object(table))"
   ]
  },
  {
   "cell_type": "code",
   "execution_count": null,
   "id": "promotional-trinidad",
   "metadata": {},
   "outputs": [],
   "source": [
    "os.system(\"rm -r %s/%s.parquet\" % (local_parquet_dir, table.name))\n",
    "os.system(\"azcopy cp '%s?%s' '%s' --recursive\" % (table.url, table.sas_token, local_parquet_dir))\n",
    "df = pd.read_parquet(\"%s/%s.parquet\" % (local_parquet_dir, table.name))\n",
    "# Convert the UUID from binary to readable UUID\n",
    "df[\"datarepo_row_id\"] = df[\"datarepo_row_id\"].apply(UUID)\n",
    "df.head(10)"
   ]
  },
  {
   "cell_type": "markdown",
   "id": "tested-defeat",
   "metadata": {
    "pycharm": {
     "name": "#%% md\n"
    }
   },
   "source": [
    "## Given a Drs ID, access file data\n",
    "From the previous cell, copy a DRS ID and extract the object ID (in the format `v1_<uuid>_<uuid>`) and save if in the drs_id variable.\n",
    "\n",
    "The following cell obtains a signed URL from TDR using a DRS ID then reads the first few bytes."
   ]
  },
  {
   "cell_type": "code",
   "execution_count": null,
   "id": "likely-dispatch",
   "metadata": {},
   "outputs": [],
   "source": [
    "# Get access to DRS object\n",
    "drs_id = \"\"\n",
    "drs_object = drs_api.get_object(drs_id)\n",
    "drs_access = drs_api.get_access_url(drs_id, drs_object.access_methods[0].access_id)\n",
    "print(drs_access)"
   ]
  },
  {
   "cell_type": "markdown",
   "id": "opposed-china",
   "metadata": {
    "pycharm": {
     "name": "#%% md\n"
    }
   },
   "source": [
    "## Read the first 100 bytes of the file represented by DRS ID"
   ]
  },
  {
   "cell_type": "code",
   "execution_count": null,
   "id": "catholic-southwest",
   "metadata": {
    "pycharm": {
     "name": "#%%\n"
    }
   },
   "outputs": [],
   "source": [
    "# Read the first 100 bytes of the file represented by DRS ID\n",
    "print(urllib.request.urlopen(drs_access.url).read()[:100])"
   ]
  }
 ],
 "metadata": {
  "kernelspec": {
   "display_name": "Python 3 (ipykernel)",
   "language": "python",
   "name": "python3"
  },
  "language_info": {
   "codemirror_mode": {
    "name": "ipython",
    "version": 3
   },
   "file_extension": ".py",
   "mimetype": "text/x-python",
   "name": "python",
   "nbconvert_exporter": "python",
   "pygments_lexer": "ipython3",
   "version": "3.8.2"
  }
 },
 "nbformat": 4,
 "nbformat_minor": 5
}