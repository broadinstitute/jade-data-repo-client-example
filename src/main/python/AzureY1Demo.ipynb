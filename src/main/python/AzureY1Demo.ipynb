{
 "cells": [
  {
   "cell_type": "markdown",
   "id": "composed-vacuum",
   "metadata": {},
   "source": [
    "# Azure Year 1 Demo\n",
    "\n",
    "This notebook runs through the following steps:\n",
    "- Authenticate using B2C\n",
    "- Create an Azure *billing Profile* in TDR\n",
    "- Create a *dataset*\n",
    "- Ingest 1000 Genomes data into the *dataset*\n",
    "- Create a *snapshot* from the *dataset*\n",
    "- Read the the metadata from the *snapshot* into a Pandas data frame\n",
    "- Read a Drs object from the metadata and use it to access file data\n"
   ]
  },
  {
   "cell_type": "markdown",
   "id": "difficult-youth",
   "metadata": {},
   "source": [
    "## Import dependencies"
   ]
  },
  {
   "cell_type": "code",
   "execution_count": 1,
   "id": "ready-original",
   "metadata": {},
   "outputs": [
    {
     "name": "stdout",
     "output_type": "stream",
     "text": [
      "Defaulting to user installation because normal site-packages is not writeable\n",
      "Requirement already satisfied: pip in /Users/nmalfroy/Library/Python/3.8/lib/python/site-packages (21.3.1)\n",
      "Defaulting to user installation because normal site-packages is not writeable\n",
      "Requirement already satisfied: pandas in /Users/nmalfroy/Library/Python/3.8/lib/python/site-packages (1.0.0)\n",
      "Requirement already satisfied: pytz>=2017.2 in /Users/nmalfroy/Library/Python/3.8/lib/python/site-packages (from pandas) (2021.1)\n",
      "Requirement already satisfied: numpy>=1.13.3 in /Users/nmalfroy/Library/Python/3.8/lib/python/site-packages (from pandas) (1.19.0)\n",
      "Requirement already satisfied: python-dateutil>=2.6.1 in /Users/nmalfroy/Library/Python/3.8/lib/python/site-packages (from pandas) (2.8.1)\n",
      "Requirement already satisfied: six>=1.5 in /Library/Developer/CommandLineTools/Library/Frameworks/Python3.framework/Versions/3.8/lib/python3.8/site-packages (from python-dateutil>=2.6.1->pandas) (1.15.0)\n",
      "Defaulting to user installation because normal site-packages is not writeable\n",
      "Requirement already satisfied: azure-storage-file-datalake in /Users/nmalfroy/Library/Python/3.8/lib/python/site-packages (12.3.0)\n",
      "Requirement already satisfied: msrest>=0.6.18 in /Users/nmalfroy/Library/Python/3.8/lib/python/site-packages (from azure-storage-file-datalake) (0.6.21)\n",
      "Requirement already satisfied: azure-storage-blob<13.0.0,>=12.8.0b1 in /Users/nmalfroy/Library/Python/3.8/lib/python/site-packages (from azure-storage-file-datalake) (12.8.0)\n",
      "Requirement already satisfied: azure-core<2.0.0,>=1.10.0 in /Users/nmalfroy/Library/Python/3.8/lib/python/site-packages (from azure-storage-file-datalake) (1.12.0)\n",
      "Requirement already satisfied: requests>=2.18.4 in /Users/nmalfroy/Library/Python/3.8/lib/python/site-packages (from azure-core<2.0.0,>=1.10.0->azure-storage-file-datalake) (2.25.1)\n",
      "Requirement already satisfied: six>=1.11.0 in /Library/Developer/CommandLineTools/Library/Frameworks/Python3.framework/Versions/3.8/lib/python3.8/site-packages (from azure-core<2.0.0,>=1.10.0->azure-storage-file-datalake) (1.15.0)\n",
      "Requirement already satisfied: cryptography>=2.1.4 in /Users/nmalfroy/Library/Python/3.8/lib/python/site-packages (from azure-storage-blob<13.0.0,>=12.8.0b1->azure-storage-file-datalake) (3.4.6)\n",
      "Requirement already satisfied: certifi>=2017.4.17 in /Users/nmalfroy/Library/Python/3.8/lib/python/site-packages (from msrest>=0.6.18->azure-storage-file-datalake) (2020.12.5)\n",
      "Requirement already satisfied: requests-oauthlib>=0.5.0 in /Users/nmalfroy/Library/Python/3.8/lib/python/site-packages (from msrest>=0.6.18->azure-storage-file-datalake) (1.3.0)\n",
      "Requirement already satisfied: isodate>=0.6.0 in /Users/nmalfroy/Library/Python/3.8/lib/python/site-packages (from msrest>=0.6.18->azure-storage-file-datalake) (0.6.0)\n",
      "Requirement already satisfied: cffi>=1.12 in /Users/nmalfroy/Library/Python/3.8/lib/python/site-packages (from cryptography>=2.1.4->azure-storage-blob<13.0.0,>=12.8.0b1->azure-storage-file-datalake) (1.14.5)\n",
      "Requirement already satisfied: idna<3,>=2.5 in /Users/nmalfroy/Library/Python/3.8/lib/python/site-packages (from requests>=2.18.4->azure-core<2.0.0,>=1.10.0->azure-storage-file-datalake) (2.10)\n",
      "Requirement already satisfied: urllib3<1.27,>=1.21.1 in /Users/nmalfroy/Library/Python/3.8/lib/python/site-packages (from requests>=2.18.4->azure-core<2.0.0,>=1.10.0->azure-storage-file-datalake) (1.26.4)\n",
      "Requirement already satisfied: chardet<5,>=3.0.2 in /Users/nmalfroy/Library/Python/3.8/lib/python/site-packages (from requests>=2.18.4->azure-core<2.0.0,>=1.10.0->azure-storage-file-datalake) (4.0.0)\n",
      "Requirement already satisfied: oauthlib>=3.0.0 in /Users/nmalfroy/Library/Python/3.8/lib/python/site-packages (from requests-oauthlib>=0.5.0->msrest>=0.6.18->azure-storage-file-datalake) (3.1.0)\n",
      "Requirement already satisfied: pycparser in /Users/nmalfroy/Library/Python/3.8/lib/python/site-packages (from cffi>=1.12->cryptography>=2.1.4->azure-storage-blob<13.0.0,>=12.8.0b1->azure-storage-file-datalake) (2.20)\n",
      "Defaulting to user installation because normal site-packages is not writeable\n",
      "Requirement already satisfied: pyarrowfs-adlgen2 in /Users/nmalfroy/Library/Python/3.8/lib/python/site-packages (0.2.0)\n",
      "Requirement already satisfied: pyarrow>=1.0.0 in /Users/nmalfroy/Library/Python/3.8/lib/python/site-packages (from pyarrowfs-adlgen2) (1.0.1)\n",
      "Requirement already satisfied: azure-storage-file-datalake in /Users/nmalfroy/Library/Python/3.8/lib/python/site-packages (from pyarrowfs-adlgen2) (12.3.0)\n",
      "Requirement already satisfied: numpy>=1.14 in /Users/nmalfroy/Library/Python/3.8/lib/python/site-packages (from pyarrow>=1.0.0->pyarrowfs-adlgen2) (1.19.0)\n",
      "Requirement already satisfied: azure-core<2.0.0,>=1.10.0 in /Users/nmalfroy/Library/Python/3.8/lib/python/site-packages (from azure-storage-file-datalake->pyarrowfs-adlgen2) (1.12.0)\n",
      "Requirement already satisfied: azure-storage-blob<13.0.0,>=12.8.0b1 in /Users/nmalfroy/Library/Python/3.8/lib/python/site-packages (from azure-storage-file-datalake->pyarrowfs-adlgen2) (12.8.0)\n",
      "Requirement already satisfied: msrest>=0.6.18 in /Users/nmalfroy/Library/Python/3.8/lib/python/site-packages (from azure-storage-file-datalake->pyarrowfs-adlgen2) (0.6.21)\n",
      "Requirement already satisfied: six>=1.11.0 in /Library/Developer/CommandLineTools/Library/Frameworks/Python3.framework/Versions/3.8/lib/python3.8/site-packages (from azure-core<2.0.0,>=1.10.0->azure-storage-file-datalake->pyarrowfs-adlgen2) (1.15.0)\n",
      "Requirement already satisfied: requests>=2.18.4 in /Users/nmalfroy/Library/Python/3.8/lib/python/site-packages (from azure-core<2.0.0,>=1.10.0->azure-storage-file-datalake->pyarrowfs-adlgen2) (2.25.1)\n",
      "Requirement already satisfied: cryptography>=2.1.4 in /Users/nmalfroy/Library/Python/3.8/lib/python/site-packages (from azure-storage-blob<13.0.0,>=12.8.0b1->azure-storage-file-datalake->pyarrowfs-adlgen2) (3.4.6)\n",
      "Requirement already satisfied: requests-oauthlib>=0.5.0 in /Users/nmalfroy/Library/Python/3.8/lib/python/site-packages (from msrest>=0.6.18->azure-storage-file-datalake->pyarrowfs-adlgen2) (1.3.0)\n",
      "Requirement already satisfied: certifi>=2017.4.17 in /Users/nmalfroy/Library/Python/3.8/lib/python/site-packages (from msrest>=0.6.18->azure-storage-file-datalake->pyarrowfs-adlgen2) (2020.12.5)\n",
      "Requirement already satisfied: isodate>=0.6.0 in /Users/nmalfroy/Library/Python/3.8/lib/python/site-packages (from msrest>=0.6.18->azure-storage-file-datalake->pyarrowfs-adlgen2) (0.6.0)\n",
      "Requirement already satisfied: cffi>=1.12 in /Users/nmalfroy/Library/Python/3.8/lib/python/site-packages (from cryptography>=2.1.4->azure-storage-blob<13.0.0,>=12.8.0b1->azure-storage-file-datalake->pyarrowfs-adlgen2) (1.14.5)\n",
      "Requirement already satisfied: idna<3,>=2.5 in /Users/nmalfroy/Library/Python/3.8/lib/python/site-packages (from requests>=2.18.4->azure-core<2.0.0,>=1.10.0->azure-storage-file-datalake->pyarrowfs-adlgen2) (2.10)\n",
      "Requirement already satisfied: chardet<5,>=3.0.2 in /Users/nmalfroy/Library/Python/3.8/lib/python/site-packages (from requests>=2.18.4->azure-core<2.0.0,>=1.10.0->azure-storage-file-datalake->pyarrowfs-adlgen2) (4.0.0)\n",
      "Requirement already satisfied: urllib3<1.27,>=1.21.1 in /Users/nmalfroy/Library/Python/3.8/lib/python/site-packages (from requests>=2.18.4->azure-core<2.0.0,>=1.10.0->azure-storage-file-datalake->pyarrowfs-adlgen2) (1.26.4)\n",
      "Requirement already satisfied: oauthlib>=3.0.0 in /Users/nmalfroy/Library/Python/3.8/lib/python/site-packages (from requests-oauthlib>=0.5.0->msrest>=0.6.18->azure-storage-file-datalake->pyarrowfs-adlgen2) (3.1.0)\n",
      "Requirement already satisfied: pycparser in /Users/nmalfroy/Library/Python/3.8/lib/python/site-packages (from cffi>=1.12->cryptography>=2.1.4->azure-storage-blob<13.0.0,>=12.8.0b1->azure-storage-file-datalake->pyarrowfs-adlgen2) (2.20)\n",
      "Defaulting to user installation because normal site-packages is not writeable\n",
      "Requirement already satisfied: data_repo_client in /Users/nmalfroy/Library/Python/3.8/lib/python/site-packages (1.214.0)\n",
      "Collecting data_repo_client\n",
      "  Downloading data_repo_client-1.217.0-py3-none-any.whl (339 kB)\n",
      "     |████████████████████████████████| 339 kB 3.2 MB/s            \n",
      "\u001B[?25hRequirement already satisfied: certifi in /Users/nmalfroy/Library/Python/3.8/lib/python/site-packages (from data_repo_client) (2020.12.5)\n",
      "Requirement already satisfied: python-dateutil in /Users/nmalfroy/Library/Python/3.8/lib/python/site-packages (from data_repo_client) (2.8.1)\n",
      "Requirement already satisfied: urllib3>=1.15 in /Users/nmalfroy/Library/Python/3.8/lib/python/site-packages (from data_repo_client) (1.26.4)\n",
      "Requirement already satisfied: six>=1.10 in /Library/Developer/CommandLineTools/Library/Frameworks/Python3.framework/Versions/3.8/lib/python3.8/site-packages (from data_repo_client) (1.15.0)\n"
     ]
    },
    {
     "name": "stdout",
     "output_type": "stream",
     "text": [
      "Installing collected packages: data-repo-client\n",
      "  Attempting uninstall: data-repo-client\n",
      "    Found existing installation: data-repo-client 1.214.0\n",
      "    Uninstalling data-repo-client-1.214.0:\n",
      "      Successfully uninstalled data-repo-client-1.214.0\n",
      "Successfully installed data-repo-client-1.217.0\n"
     ]
    }
   ],
   "source": [
    "import sys\n",
    "!{sys.executable} -m pip install --upgrade pip\n",
    "!{sys.executable} -m pip install pandas\n",
    "!{sys.executable} -m pip install --upgrade data_repo_client\n",
    "\n",
    "import pandas as pd\n",
    "import datetime, uuid, urllib, os, time, json\n",
    "from IPython.core.display import display, clear_output, HTML\n",
    "from data_repo_client import RepositoryApi\n",
    "from data_repo_client import DatasetsApi\n",
    "from data_repo_client import SnapshotsApi\n",
    "from data_repo_client import JobsApi\n",
    "from data_repo_client import ResourcesApi\n",
    "from data_repo_client import ApiClient\n",
    "from data_repo_client import Configuration\n",
    "from data_repo_client import UnauthenticatedApi\n",
    "from data_repo_client import DataRepositoryServiceApi\n",
    "from data_repo_client import ApiException\n"
   ]
  },
  {
   "cell_type": "code",
   "id": "vanilla-shooting",
   "metadata": {
    "pycharm": {
     "name": "#%%\n"
    }
   },
   "source": [
    "# Create require methods for demo\n",
    "\n",
    "# Format TDR object\n",
    "def pretty_print_tdr_object(obj):\n",
    "  if (hasattr(obj, \"to_dict\")):\n",
    "    return json.dumps(obj.to_dict(), indent=4)\n",
    "  else:\n",
    "    return json.dumps(obj, indent=4)\n",
    "  a = ApiException();\n",
    "\n",
    "# Check status of job\n",
    "def wait_for_job(job_model):\n",
    "  counter = 0\n",
    "  max_dots = 8\n",
    "  result = job_model\n",
    "  job_str = '\"%s\" (%s)' % (job_model.description, job_model.id)\n",
    "  while True:\n",
    "    counter += 1\n",
    "    clear_output(wait=True)\n",
    "    if (result == None or result.job_status == \"running\"):\n",
    "      num_dots = counter % max_dots\n",
    "      dots = '.' * (num_dots)\n",
    "      display(HTML('<b>Running job %s %s</b>' %(job_str, dots)))\n",
    "      time.sleep(3)\n",
    "      result = jobs_api.retrieve_job(job_model.id)\n",
    "    elif (result.job_status == 'failed'):\n",
    "      display(HTML('<b>Running job %s: <span style=\"color:rgb(219, 50, 20);\">failed</span></b>' % job_str))\n",
    "      try:\n",
    "        result = jobs_api.retrieve_job_result(job_model.id)\n",
    "      except ApiException as e:\n",
    "        result = display(HTML('<p>Job result is:</p><pre>%s</pre>' % e))\n",
    "      return result\n",
    "    elif (result.job_status == \"succeeded\"):\n",
    "      display(HTML('<b>Running job %s: <span style=\"color:rgb(116, 174, 6);\">succeeded</span></b>' % job_str))\n",
    "      result = jobs_api.retrieve_job_result(job_model.id)\n",
    "      display(HTML('<p>Job result is:</p><hr/><pre>%s</pre>' % pretty_print_tdr_object(result)))\n",
    "      return result\n",
    "    else:\n",
    "      raise \"Unrecognized job state %s\" % result.job_status\n",
    "\n",
    "\n",
    "# Convert bytes representation of UUID into string representation\n",
    "def UUID(bytes):\n",
    "  return str(uuid.UUID(bytes=bytes))"
   ],
   "execution_count": null,
   "outputs": []
  },
  {
   "cell_type": "markdown",
   "id": "continuing-stomach",
   "metadata": {
    "pycharm": {
     "name": "#%% md\n"
    }
   },
   "source": [
    "## Set configuration\n",
    "\n",
    "Obtain a JWT by going through the auth flow here:\n",
    "https://tdrb2ctest.b2clogin.com/tdrb2ctest.onmicrosoft.com/oauth2/v2.0/authorize?p=B2C_1A_SIGNUP_SIGNIN&client_id=bc8119eb-e425-4ff7-945a-05f90a37fca7&nonce=defaultNonce&redirect_uri=https%3A%2F%2Fjwt.ms&scope=openid&response_type=id_token&prompt=login\n",
    "\n",
    "Save the JWT into the token field"
   ]
  },
  {
   "cell_type": "code",
   "execution_count": 4,
   "id": "ecological-facility",
   "metadata": {},
   "outputs": [
    {
     "name": "stdout",
     "output_type": "stream",
     "text": [
      "Billing Profile Id: f396d290-58ba-4f6c-8492-e53463d657e6\n"
     ]
    }
   ],
   "source": [
    "# Set up configuration\n",
    "config = Configuration()\n",
    "config.host=\"https://jade-nm.datarepo-dev.broadinstitute.org/\"\n",
    "# Paste in the JWT token obtained via the auth link above\n",
    "token=\"\"\n",
    "config.access_token = token\n",
    "api_client = ApiClient(configuration=config)\n",
    "api_client.client_side_validation = False\n",
    "\n",
    "# Obtain a sas token for the folder that contains the source metadata to ingest\n",
    "ingest_sas_token = \"\"\n",
    "\n",
    "# Azure managed managed application configuration.  These are obtained from the Azure portal\n",
    "application_deployment_name = \"tdrdeployment1\"\n",
    "resource_group_name = \"TDR\"\n",
    "subscription_id = \"71d52ec1-5886-480a-9d6e-ed98cbf1f69f\"\n",
    "tenant_id = \"efc08443-0082-4d6c-8931-c5794c156abd\"\n",
    "profile_name = \"azureprofile\"\n",
    "profile_description = \"Billing profile that demonstrates use of Azure resources within TDR\"\n",
    "\n",
    "# Remove this once GCP cleanup is merged\n",
    "billing_account_id = \"00708C-45D19D-27AAFA\"\n",
    "\n",
    "# Enter a billing profile or leave blank to generate a new one when creating a new billing profile\n",
    "billing_profile_id = \"cdac1ca4-049c-4711-8f4b-1010d71680cb\"\n",
    "\n",
    "dataset_name = \"1000genomes13\"\n",
    "dataset_description = \"1000 genomes dataset\"\n",
    "ingest_file_base = \"https://tdrtestdatauscentral.blob.core.windows.net/1000genomes/metadata\"\n",
    "\n",
    "snapshot_name = \"1000genomessnp13\"\n",
    "snapshot_description = \"1000 genomes snapshot\"\n",
    "\n",
    "local_parquet_dir = \"/tmp/az\"\n",
    "\n",
    "# Create required API Clients\n",
    "jobs_api = JobsApi(api_client=api_client)\n",
    "resources_api = ResourcesApi(api_client=api_client)\n",
    "datasets_api = DatasetsApi(api_client=api_client)\n",
    "snapshots_api = SnapshotsApi(api_client=api_client)\n",
    "drs_api = DataRepositoryServiceApi(api_client=api_client)"
   ]
  },
  {
   "cell_type": "markdown",
   "id": "urban-reduction",
   "metadata": {
    "pycharm": {
     "name": "#%% md\n"
    }
   },
   "source": [
    "## Create the Terra Data Repo billing profile"
   ]
  },
  {
   "cell_type": "code",
   "id": "stylish-category",
   "metadata": {
    "pycharm": {
     "name": "#%%\n"
    }
   },
   "source": [
    "# Create Billing Profile\n",
    "if (billing_profile_id == None or billing_profile_id == \"\"):\n",
    "  billing_profile_id = str(uuid.uuid4());\n",
    "\n",
    "profile_request = {\n",
    "  \"biller\": \"direct\",\n",
    "  \"billingAccountId\": billing_account_id,\n",
    "  \"description\": profile_description,\n",
    "  \"id\": billing_profile_id,\n",
    "  \"profileName\": profile_name,\n",
    "  \"cloudPlatform\": \"azure\",\n",
    "  \"applicationDeploymentName\": application_deployment_name,\n",
    "  \"resourceGroupName\": resource_group_name,\n",
    "  \"subscriptionId\": subscription_id,\n",
    "  \"tenantId\": tenant_id\n",
    "}\n",
    "\n",
    "\n",
    "create_profile_result = wait_for_job(resources_api.create_profile(billing_profile_request=profile_request))"
   ],
   "execution_count": null,
   "outputs": []
  },
  {
   "cell_type": "markdown",
   "id": "correct-street",
   "metadata": {
    "pycharm": {
     "name": "#%% md\n"
    }
   },
   "source": [
    "## Create Dataset and ingest data"
   ]
  },
  {
   "cell_type": "code",
   "execution_count": 7,
   "id": "becoming-contest",
   "metadata": {},
   "outputs": [
    {
     "data": {
      "text/plain": [
       "{'id': 'f396d290-58ba-4f6c-8492-e53463d657e6',\n",
       " 'billingAccountId': '00708C-45D19D-27AAFA',\n",
       " 'profileName': 'azureprofile-f396d290-2021-11-03',\n",
       " 'biller': 'direct',\n",
       " 'description': 'Azure profile f396d290 created on 2021-11-03',\n",
       " 'cloudPlatform': 'azure',\n",
       " 'tenantId': 'efc08443-0082-4d6c-8931-c5794c156abd',\n",
       " 'subscriptionId': '71d52ec1-5886-480a-9d6e-ed98cbf1f69f',\n",
       " 'resourceGroupName': 'TDR',\n",
       " 'applicationDeploymentName': 'tdrdeployment1',\n",
       " 'createdDate': '2021-11-03T13:48:12.975426Z',\n",
       " 'createdBy': 'nmalfroy@azure.dev.envs-terra.bio'}"
      ]
     },
     "execution_count": 7,
     "metadata": {},
     "output_type": "execute_result"
    }
   ],
   "source": [
    "dataset_request = {\n",
    "  \"defaultProfileId\": billing_profile_id,\n",
    "  \"description\": dataset_description,\n",
    "  \"name\": dataset_name,\n",
    "  \"cloudPlatform\": \"azure\",\n",
    "  \"region\": \"westus2\",\n",
    "  \"gcpRegion\": \"us-east1\",\n",
    "  \"schema\": {\n",
    "    \"tables\": [\n",
    "      {\n",
    "        \"name\": \"demo_pheno_data\",\n",
    "        \"columns\": [\n",
    "          {\n",
    "            \"name\": \"pheno_data_id\",\n",
    "            \"datatype\": \"string\",\n",
    "            \"array_of\": False\n",
    "          },\n",
    "          {\n",
    "            \"name\": \"age\",\n",
    "            \"datatype\": \"integer\",\n",
    "            \"array_of\": False\n",
    "          },\n",
    "          {\n",
    "            \"name\": \"bmi_baseline\",\n",
    "            \"datatype\": \"float\",\n",
    "            \"array_of\": False\n",
    "          },\n",
    "          {\n",
    "            \"name\": \"dbgap_accession_number\",\n",
    "            \"datatype\": \"string\",\n",
    "            \"array_of\": False\n",
    "          },\n",
    "          {\n",
    "            \"name\": \"height_baseline\",\n",
    "            \"datatype\": \"float\",\n",
    "            \"array_of\": False\n",
    "          },\n",
    "          {\n",
    "            \"name\": \"ldl\",\n",
    "            \"datatype\": \"float\",\n",
    "            \"array_of\": False\n",
    "          },\n",
    "          {\n",
    "            \"name\": \"hdl\",\n",
    "            \"datatype\": \"float\",\n",
    "            \"array_of\": False\n",
    "          },\n",
    "          {\n",
    "            \"name\": \"population\",\n",
    "            \"datatype\": \"string\",\n",
    "            \"array_of\": False\n",
    "          },\n",
    "          {\n",
    "            \"name\": \"program_name\",\n",
    "            \"datatype\": \"string\",\n",
    "            \"array_of\": False\n",
    "          },\n",
    "          {\n",
    "            \"name\": \"sample_specimen_id\",\n",
    "            \"datatype\": \"string\",\n",
    "            \"array_of\": False\n",
    "          },\n",
    "          {\n",
    "            \"name\": \"sex\",\n",
    "            \"datatype\": \"string\",\n",
    "            \"array_of\": False\n",
    "          },\n",
    "          {\n",
    "            \"name\": \"total_cholesterol\",\n",
    "            \"datatype\": \"float\",\n",
    "            \"array_of\": False\n",
    "          },\n",
    "          {\n",
    "            \"name\": \"triglycerides\",\n",
    "            \"datatype\": \"float\",\n",
    "            \"array_of\": False\n",
    "          },\n",
    "          {\n",
    "            \"name\": \"bam_file\",\n",
    "            \"datatype\": \"fileref\",\n",
    "            \"array_of\": False\n",
    "          },\n",
    "          {\n",
    "            \"name\": \"bam_file_index\",\n",
    "            \"datatype\": \"fileref\",\n",
    "            \"array_of\": False\n",
    "          }\n",
    "        ],\n",
    "        \"primaryKey\": []\n",
    "      }\n",
    "    ],\n",
    "    \"assets\": [\n",
    "      {\n",
    "        \"name\": \"default\",\n",
    "        \"tables\": [\n",
    "          {\n",
    "            \"name\": \"demo_pheno_data\",\n",
    "            \"columns\": []\n",
    "          }\n",
    "        ],\n",
    "        \"rootTable\": \"demo_pheno_data\",\n",
    "        \"rootColumn\": \"pheno_data_id\",\n",
    "        \"follow\": []\n",
    "      }\n",
    "    ]\n",
    "  }\n",
    "}\n",
    "\n",
    "create_dataset_result = wait_for_job(datasets_api.create_dataset(dataset=dataset_request))"
   ]
  },
  {
   "cell_type": "code",
   "id": "healthy-hopkins",
   "metadata": {
    "pycharm": {
     "name": "#%%\n"
    }
   },
   "source": [
    "# Read in the dataset that was just created with full information\n",
    "dataset = datasets_api.retrieve_dataset(create_dataset_result['id'])\n",
    "print(pretty_print_tdr_object(dataset))"
   ],
   "execution_count": null,
   "outputs": []
  },
  {
   "cell_type": "code",
   "execution_count": 18,
   "id": "atomic-bacteria",
   "metadata": {},
   "outputs": [
    {
     "data": {
      "text/plain": [
       "{'completed': None,\n",
       " 'description': 'Create dataset 1000genomestest2',\n",
       " 'id': 'njT7LOQERLe1TEswoI5t7Q',\n",
       " 'job_status': 'running',\n",
       " 'status_code': 202,\n",
       " 'submitted': '2021-11-03T13:51:29.174337Z'}"
      ]
     },
     "execution_count": 18,
     "metadata": {},
     "output_type": "execute_result"
    }
   ],
   "source": [
    "# Ingest Pedigree Data\n",
    "ingest_request = {\n",
    "  \"format\": \"json\",\n",
    "  \"ignore_unknown_values\": True,\n",
    "  \"load_tag\": \"smallload2\",\n",
    "  \"max_bad_records\": 0,\n",
    "  \"path\": ingest_file_base + \"/demo-pheno-data-small.json?\" + ingest_sas_token,\n",
    "  \"profile_id\": billing_profile_id,\n",
    "  \"resolve_existing_files\": True,\n",
    "  \"table\": \"demo_pheno_data\"\n",
    "}\n",
    "ingest_request_result = wait_for_job(datasets_api.ingest_dataset(dataset.id, ingest=ingest_request))"
   ]
  },
  {
   "cell_type": "code",
   "execution_count": 21,
   "id": "subjective-retro",
   "metadata": {},
   "outputs": [
    {
     "data": {
      "text/plain": [
       "{'completed': '2021-11-03T13:51:55.621331Z',\n",
       " 'description': 'Create dataset 1000genomestest2',\n",
       " 'id': 'njT7LOQERLe1TEswoI5t7Q',\n",
       " 'job_status': 'succeeded',\n",
       " 'status_code': 200,\n",
       " 'submitted': '2021-11-03T13:51:29.174337Z'}"
      ]
     },
     "execution_count": 21,
     "metadata": {},
     "output_type": "execute_result"
    }
   ],
   "source": [
    "# Look at the dataset parquet location\n",
    "dataset = datasets_api.retrieve_dataset(dataset.id, include=[\"ACCESS_INFORMATION\"])\n",
    "table = next(iter(dataset.access_information.parquet.tables), lambda t: t.name == \"demo_pheno_data\")\n",
    "print(pretty_print_tdr_object(table))"
   ]
  },
  {
   "cell_type": "code",
   "execution_count": 22,
   "id": "proof-seller",
   "metadata": {},
   "outputs": [
    {
     "name": "stdout",
     "output_type": "stream",
     "text": [
      "{'id': '1d350fb7-c793-4f52-8db6-7e41a8cf68d7', 'name': '1000genomestest2', 'description': '1000 genomes dataset', 'defaultProfileId': 'cdac1ca4-049c-4711-8f4b-1010d71680cb', 'createdDate': '2021-11-03T13:51:54.942571Z', 'storage': [{'region': 'centralus', 'cloudResource': 'application_deployment', 'cloudPlatform': 'azure'}, {'region': 'centralus', 'cloudResource': 'storage_account', 'cloudPlatform': 'azure'}]}\n"
     ]
    }
   ],
   "source": [
    "os.system(\"rm -r %s/%s\" % (local_parquet_dir, table.name))\n",
    "os.system(\"azcopy cp '%s?%s' '%s' --recursive\" % (table.url, table.sas_token, local_parquet_dir))\n",
    "df = pd.read_parquet(\"%s/%s\" % (local_parquet_dir, table.name))\n",
    "# Convert the UUID from binary to readable UUID\n",
    "df[\"datarepo_row_id\"] = df[\"datarepo_row_id\"].apply(UUID)\n",
    "df.head(10)"
   ]
  },
  {
   "cell_type": "code",
   "execution_count": 26,
   "id": "musical-straight",
   "metadata": {},
   "outputs": [
    {
     "data": {
      "text/plain": [
       "{'completed': None,\n",
       " 'description': 'Ingest from '\n",
       "                'https://tdrtestdatauscentral.blob.core.windows.net/1000genomes/metadata/1000-genomes-pedigree.json '\n",
       "                'to pedigree in dataset id '\n",
       "                '9810515b-fa0f-4cc5-927c-7343b1cdfb09',\n",
       " 'id': 'YzB3XbdaRI-tK3YE6XePlA',\n",
       " 'job_status': 'running',\n",
       " 'status_code': 202,\n",
       " 'submitted': '2021-11-03T14:48:40.804720Z'}"
      ]
     },
     "execution_count": 26,
     "metadata": {},
     "output_type": "execute_result"
    }
   ],
   "source": [
    "snapshot_request = {\n",
    "  \"contents\": [\n",
    "    {\n",
    "      \"datasetName\": dataset_name,\n",
    "      \"mode\": \"byFullView\"\n",
    "    }\n",
    "  ],\n",
    "  \"description\": snapshot_description,\n",
    "  \"name\": snapshot_name,\n",
    "  \"profileId\": billing_profile_id,\n",
    "  \"readers\": []\n",
    "}\n",
    "\n",
    "create_snapshot_result = wait_for_job(snapshots_api.create_snapshot(snapshot=snapshot_request))"
   ]
  },
  {
   "cell_type": "code",
   "execution_count": 28,
   "id": "thermal-communist",
   "metadata": {},
   "outputs": [
    {
     "ename": "ApiException",
     "evalue": "(500)\nReason: \nHTTP response headers: HTTPHeaderDict({'Date': 'Wed, 03 Nov 2021 14:48:55 GMT', 'Server': 'Apache', 'X-Frame-Options': 'SAMEORIGIN', 'Access-Control-Allow-Headers': 'DNT,User-Agent,X-Requested-With,If-Modified-Since,Cache-Control,Content-Type,Range,Authorization,Accept,Referer,X-App-Id,Origin', 'Access-Control-Allow-Methods': 'GET,POST,DELETE,PUT,PATCH,OPTIONS,HEAD', 'X-Content-Type-Options': 'nosniff', 'Strict-Transport-Security': 'max-age=31536000;includeSubDomains', 'Content-Type': 'application/json', 'Vary': 'Origin', 'Transfer-Encoding': 'chunked', 'Via': '1.1 google', 'Alt-Svc': 'clear'})\nHTTP response body: {\"message\":\"Failed to construct exception: com.azure.storage.blob.models.BlobStorageException; Exception message: Status code 401, \\\"﻿<?xml version=\\\"1.0\\\" encoding=\\\"utf-8\\\"?><Error><Code>InvalidAuthenticationInfo</Code><Message>Server failed to authenticate the request. Please refer to the information in the www-authenticate header.\\nRequestId:76c3d9e7-601e-004e-7ac1-d07962000000\\nTime:2021-11-03T14:48:42.4015069Z</Message><AuthenticationErrorDetail>Issuer validation failed. Issuer did not match.</AuthenticationErrorDetail></Error>\\\"\",\"errorDetail\":[]}\n",
     "output_type": "error",
     "traceback": [
      "\u001B[0;31m---------------------------------------------------------------------------\u001B[0m",
      "\u001B[0;31mApiException\u001B[0m                              Traceback (most recent call last)",
      "\u001B[0;32m<ipython-input-28-1e223122702d>\u001B[0m in \u001B[0;36m<module>\u001B[0;34m\u001B[0m\n\u001B[1;32m      1\u001B[0m \u001B[0;31m# Check status of job\u001B[0m\u001B[0;34m\u001B[0m\u001B[0;34m\u001B[0m\u001B[0;34m\u001B[0m\u001B[0m\n\u001B[0;32m----> 2\u001B[0;31m \u001B[0mjobsApi\u001B[0m\u001B[0;34m.\u001B[0m\u001B[0mretrieve_job_result\u001B[0m\u001B[0;34m(\u001B[0m\u001B[0mingestDatasetJobId\u001B[0m\u001B[0;34m)\u001B[0m\u001B[0;34m\u001B[0m\u001B[0;34m\u001B[0m\u001B[0m\n\u001B[0m",
      "\u001B[0;32m~/Library/Python/3.8/lib/python/site-packages/data_repo_client/api/jobs_api.py\u001B[0m in \u001B[0;36mretrieve_job_result\u001B[0;34m(self, id, **kwargs)\u001B[0m\n\u001B[1;32m    399\u001B[0m         \"\"\"\n\u001B[1;32m    400\u001B[0m         \u001B[0mkwargs\u001B[0m\u001B[0;34m[\u001B[0m\u001B[0;34m'_return_http_data_only'\u001B[0m\u001B[0;34m]\u001B[0m \u001B[0;34m=\u001B[0m \u001B[0;32mTrue\u001B[0m\u001B[0;34m\u001B[0m\u001B[0;34m\u001B[0m\u001B[0m\n\u001B[0;32m--> 401\u001B[0;31m         \u001B[0;32mreturn\u001B[0m \u001B[0mself\u001B[0m\u001B[0;34m.\u001B[0m\u001B[0mretrieve_job_result_with_http_info\u001B[0m\u001B[0;34m(\u001B[0m\u001B[0mid\u001B[0m\u001B[0;34m,\u001B[0m \u001B[0;34m**\u001B[0m\u001B[0mkwargs\u001B[0m\u001B[0;34m)\u001B[0m  \u001B[0;31m# noqa: E501\u001B[0m\u001B[0;34m\u001B[0m\u001B[0;34m\u001B[0m\u001B[0m\n\u001B[0m\u001B[1;32m    402\u001B[0m \u001B[0;34m\u001B[0m\u001B[0m\n\u001B[1;32m    403\u001B[0m     \u001B[0;32mdef\u001B[0m \u001B[0mretrieve_job_result_with_http_info\u001B[0m\u001B[0;34m(\u001B[0m\u001B[0mself\u001B[0m\u001B[0;34m,\u001B[0m \u001B[0mid\u001B[0m\u001B[0;34m,\u001B[0m \u001B[0;34m**\u001B[0m\u001B[0mkwargs\u001B[0m\u001B[0;34m)\u001B[0m\u001B[0;34m:\u001B[0m  \u001B[0;31m# noqa: E501\u001B[0m\u001B[0;34m\u001B[0m\u001B[0;34m\u001B[0m\u001B[0m\n",
      "\u001B[0;32m~/Library/Python/3.8/lib/python/site-packages/data_repo_client/api/jobs_api.py\u001B[0m in \u001B[0;36mretrieve_job_result_with_http_info\u001B[0;34m(self, id, **kwargs)\u001B[0m\n\u001B[1;32m    474\u001B[0m         \u001B[0mauth_settings\u001B[0m \u001B[0;34m=\u001B[0m \u001B[0;34m[\u001B[0m\u001B[0;34m'googleoauth'\u001B[0m\u001B[0;34m]\u001B[0m  \u001B[0;31m# noqa: E501\u001B[0m\u001B[0;34m\u001B[0m\u001B[0;34m\u001B[0m\u001B[0m\n\u001B[1;32m    475\u001B[0m \u001B[0;34m\u001B[0m\u001B[0m\n\u001B[0;32m--> 476\u001B[0;31m         return self.api_client.call_api(\n\u001B[0m\u001B[1;32m    477\u001B[0m             \u001B[0;34m'/api/repository/v1/jobs/{id}/result'\u001B[0m\u001B[0;34m,\u001B[0m \u001B[0;34m'GET'\u001B[0m\u001B[0;34m,\u001B[0m\u001B[0;34m\u001B[0m\u001B[0;34m\u001B[0m\u001B[0m\n\u001B[1;32m    478\u001B[0m             \u001B[0mpath_params\u001B[0m\u001B[0;34m,\u001B[0m\u001B[0;34m\u001B[0m\u001B[0;34m\u001B[0m\u001B[0m\n",
      "\u001B[0;32m~/Library/Python/3.8/lib/python/site-packages/data_repo_client/api_client.py\u001B[0m in \u001B[0;36mcall_api\u001B[0;34m(self, resource_path, method, path_params, query_params, header_params, body, post_params, files, response_type, auth_settings, async_req, _return_http_data_only, collection_formats, _preload_content, _request_timeout, _host)\u001B[0m\n\u001B[1;32m    362\u001B[0m         \"\"\"\n\u001B[1;32m    363\u001B[0m         \u001B[0;32mif\u001B[0m \u001B[0;32mnot\u001B[0m \u001B[0masync_req\u001B[0m\u001B[0;34m:\u001B[0m\u001B[0;34m\u001B[0m\u001B[0;34m\u001B[0m\u001B[0m\n\u001B[0;32m--> 364\u001B[0;31m             return self.__call_api(resource_path, method,\n\u001B[0m\u001B[1;32m    365\u001B[0m                                    \u001B[0mpath_params\u001B[0m\u001B[0;34m,\u001B[0m \u001B[0mquery_params\u001B[0m\u001B[0;34m,\u001B[0m \u001B[0mheader_params\u001B[0m\u001B[0;34m,\u001B[0m\u001B[0;34m\u001B[0m\u001B[0;34m\u001B[0m\u001B[0m\n\u001B[1;32m    366\u001B[0m                                    \u001B[0mbody\u001B[0m\u001B[0;34m,\u001B[0m \u001B[0mpost_params\u001B[0m\u001B[0;34m,\u001B[0m \u001B[0mfiles\u001B[0m\u001B[0;34m,\u001B[0m\u001B[0;34m\u001B[0m\u001B[0;34m\u001B[0m\u001B[0m\n",
      "\u001B[0;32m~/Library/Python/3.8/lib/python/site-packages/data_repo_client/api_client.py\u001B[0m in \u001B[0;36m__call_api\u001B[0;34m(self, resource_path, method, path_params, query_params, header_params, body, post_params, files, response_type, auth_settings, _return_http_data_only, collection_formats, _preload_content, _request_timeout, _host)\u001B[0m\n\u001B[1;32m    186\u001B[0m         \u001B[0;32mexcept\u001B[0m \u001B[0mApiException\u001B[0m \u001B[0;32mas\u001B[0m \u001B[0me\u001B[0m\u001B[0;34m:\u001B[0m\u001B[0;34m\u001B[0m\u001B[0;34m\u001B[0m\u001B[0m\n\u001B[1;32m    187\u001B[0m             \u001B[0me\u001B[0m\u001B[0;34m.\u001B[0m\u001B[0mbody\u001B[0m \u001B[0;34m=\u001B[0m \u001B[0me\u001B[0m\u001B[0;34m.\u001B[0m\u001B[0mbody\u001B[0m\u001B[0;34m.\u001B[0m\u001B[0mdecode\u001B[0m\u001B[0;34m(\u001B[0m\u001B[0;34m'utf-8'\u001B[0m\u001B[0;34m)\u001B[0m \u001B[0;32mif\u001B[0m \u001B[0msix\u001B[0m\u001B[0;34m.\u001B[0m\u001B[0mPY3\u001B[0m \u001B[0;32melse\u001B[0m \u001B[0me\u001B[0m\u001B[0;34m.\u001B[0m\u001B[0mbody\u001B[0m\u001B[0;34m\u001B[0m\u001B[0;34m\u001B[0m\u001B[0m\n\u001B[0;32m--> 188\u001B[0;31m             \u001B[0;32mraise\u001B[0m \u001B[0me\u001B[0m\u001B[0;34m\u001B[0m\u001B[0;34m\u001B[0m\u001B[0m\n\u001B[0m\u001B[1;32m    189\u001B[0m \u001B[0;34m\u001B[0m\u001B[0m\n\u001B[1;32m    190\u001B[0m         \u001B[0mcontent_type\u001B[0m \u001B[0;34m=\u001B[0m \u001B[0mresponse_data\u001B[0m\u001B[0;34m.\u001B[0m\u001B[0mgetheader\u001B[0m\u001B[0;34m(\u001B[0m\u001B[0;34m'content-type'\u001B[0m\u001B[0;34m)\u001B[0m\u001B[0;34m\u001B[0m\u001B[0;34m\u001B[0m\u001B[0m\n",
      "\u001B[0;32m~/Library/Python/3.8/lib/python/site-packages/data_repo_client/api_client.py\u001B[0m in \u001B[0;36m__call_api\u001B[0;34m(self, resource_path, method, path_params, query_params, header_params, body, post_params, files, response_type, auth_settings, _return_http_data_only, collection_formats, _preload_content, _request_timeout, _host)\u001B[0m\n\u001B[1;32m    179\u001B[0m         \u001B[0;32mtry\u001B[0m\u001B[0;34m:\u001B[0m\u001B[0;34m\u001B[0m\u001B[0;34m\u001B[0m\u001B[0m\n\u001B[1;32m    180\u001B[0m             \u001B[0;31m# perform request and return response\u001B[0m\u001B[0;34m\u001B[0m\u001B[0;34m\u001B[0m\u001B[0;34m\u001B[0m\u001B[0m\n\u001B[0;32m--> 181\u001B[0;31m             response_data = self.request(\n\u001B[0m\u001B[1;32m    182\u001B[0m                 \u001B[0mmethod\u001B[0m\u001B[0;34m,\u001B[0m \u001B[0murl\u001B[0m\u001B[0;34m,\u001B[0m \u001B[0mquery_params\u001B[0m\u001B[0;34m=\u001B[0m\u001B[0mquery_params\u001B[0m\u001B[0;34m,\u001B[0m \u001B[0mheaders\u001B[0m\u001B[0;34m=\u001B[0m\u001B[0mheader_params\u001B[0m\u001B[0;34m,\u001B[0m\u001B[0;34m\u001B[0m\u001B[0;34m\u001B[0m\u001B[0m\n\u001B[1;32m    183\u001B[0m                 \u001B[0mpost_params\u001B[0m\u001B[0;34m=\u001B[0m\u001B[0mpost_params\u001B[0m\u001B[0;34m,\u001B[0m \u001B[0mbody\u001B[0m\u001B[0;34m=\u001B[0m\u001B[0mbody\u001B[0m\u001B[0;34m,\u001B[0m\u001B[0;34m\u001B[0m\u001B[0;34m\u001B[0m\u001B[0m\n",
      "\u001B[0;32m~/Library/Python/3.8/lib/python/site-packages/data_repo_client/api_client.py\u001B[0m in \u001B[0;36mrequest\u001B[0;34m(self, method, url, query_params, headers, post_params, body, _preload_content, _request_timeout)\u001B[0m\n\u001B[1;32m    387\u001B[0m         \u001B[0;34m\"\"\"Makes the HTTP request using RESTClient.\"\"\"\u001B[0m\u001B[0;34m\u001B[0m\u001B[0;34m\u001B[0m\u001B[0m\n\u001B[1;32m    388\u001B[0m         \u001B[0;32mif\u001B[0m \u001B[0mmethod\u001B[0m \u001B[0;34m==\u001B[0m \u001B[0;34m\"GET\"\u001B[0m\u001B[0;34m:\u001B[0m\u001B[0;34m\u001B[0m\u001B[0;34m\u001B[0m\u001B[0m\n\u001B[0;32m--> 389\u001B[0;31m             return self.rest_client.GET(url,\n\u001B[0m\u001B[1;32m    390\u001B[0m                                         \u001B[0mquery_params\u001B[0m\u001B[0;34m=\u001B[0m\u001B[0mquery_params\u001B[0m\u001B[0;34m,\u001B[0m\u001B[0;34m\u001B[0m\u001B[0;34m\u001B[0m\u001B[0m\n\u001B[1;32m    391\u001B[0m                                         \u001B[0m_preload_content\u001B[0m\u001B[0;34m=\u001B[0m\u001B[0m_preload_content\u001B[0m\u001B[0;34m,\u001B[0m\u001B[0;34m\u001B[0m\u001B[0;34m\u001B[0m\u001B[0m\n",
      "\u001B[0;32m~/Library/Python/3.8/lib/python/site-packages/data_repo_client/rest.py\u001B[0m in \u001B[0;36mGET\u001B[0;34m(self, url, headers, query_params, _preload_content, _request_timeout)\u001B[0m\n\u001B[1;32m    228\u001B[0m     def GET(self, url, headers=None, query_params=None, _preload_content=True,\n\u001B[1;32m    229\u001B[0m             _request_timeout=None):\n\u001B[0;32m--> 230\u001B[0;31m         return self.request(\"GET\", url,\n\u001B[0m\u001B[1;32m    231\u001B[0m                             \u001B[0mheaders\u001B[0m\u001B[0;34m=\u001B[0m\u001B[0mheaders\u001B[0m\u001B[0;34m,\u001B[0m\u001B[0;34m\u001B[0m\u001B[0;34m\u001B[0m\u001B[0m\n\u001B[1;32m    232\u001B[0m                             \u001B[0m_preload_content\u001B[0m\u001B[0;34m=\u001B[0m\u001B[0m_preload_content\u001B[0m\u001B[0;34m,\u001B[0m\u001B[0;34m\u001B[0m\u001B[0;34m\u001B[0m\u001B[0m\n",
      "\u001B[0;32m~/Library/Python/3.8/lib/python/site-packages/data_repo_client/rest.py\u001B[0m in \u001B[0;36mrequest\u001B[0;34m(self, method, url, query_params, headers, body, post_params, _preload_content, _request_timeout)\u001B[0m\n\u001B[1;32m    222\u001B[0m \u001B[0;34m\u001B[0m\u001B[0m\n\u001B[1;32m    223\u001B[0m         \u001B[0;32mif\u001B[0m \u001B[0;32mnot\u001B[0m \u001B[0;36m200\u001B[0m \u001B[0;34m<=\u001B[0m \u001B[0mr\u001B[0m\u001B[0;34m.\u001B[0m\u001B[0mstatus\u001B[0m \u001B[0;34m<=\u001B[0m \u001B[0;36m299\u001B[0m\u001B[0;34m:\u001B[0m\u001B[0;34m\u001B[0m\u001B[0;34m\u001B[0m\u001B[0m\n\u001B[0;32m--> 224\u001B[0;31m             \u001B[0;32mraise\u001B[0m \u001B[0mApiException\u001B[0m\u001B[0;34m(\u001B[0m\u001B[0mhttp_resp\u001B[0m\u001B[0;34m=\u001B[0m\u001B[0mr\u001B[0m\u001B[0;34m)\u001B[0m\u001B[0;34m\u001B[0m\u001B[0;34m\u001B[0m\u001B[0m\n\u001B[0m\u001B[1;32m    225\u001B[0m \u001B[0;34m\u001B[0m\u001B[0m\n\u001B[1;32m    226\u001B[0m         \u001B[0;32mreturn\u001B[0m \u001B[0mr\u001B[0m\u001B[0;34m\u001B[0m\u001B[0;34m\u001B[0m\u001B[0m\n",
      "\u001B[0;31mApiException\u001B[0m: (500)\nReason: \nHTTP response headers: HTTPHeaderDict({'Date': 'Wed, 03 Nov 2021 14:48:55 GMT', 'Server': 'Apache', 'X-Frame-Options': 'SAMEORIGIN', 'Access-Control-Allow-Headers': 'DNT,User-Agent,X-Requested-With,If-Modified-Since,Cache-Control,Content-Type,Range,Authorization,Accept,Referer,X-App-Id,Origin', 'Access-Control-Allow-Methods': 'GET,POST,DELETE,PUT,PATCH,OPTIONS,HEAD', 'X-Content-Type-Options': 'nosniff', 'Strict-Transport-Security': 'max-age=31536000;includeSubDomains', 'Content-Type': 'application/json', 'Vary': 'Origin', 'Transfer-Encoding': 'chunked', 'Via': '1.1 google', 'Alt-Svc': 'clear'})\nHTTP response body: {\"message\":\"Failed to construct exception: com.azure.storage.blob.models.BlobStorageException; Exception message: Status code 401, \\\"﻿<?xml version=\\\"1.0\\\" encoding=\\\"utf-8\\\"?><Error><Code>InvalidAuthenticationInfo</Code><Message>Server failed to authenticate the request. Please refer to the information in the www-authenticate header.\\nRequestId:76c3d9e7-601e-004e-7ac1-d07962000000\\nTime:2021-11-03T14:48:42.4015069Z</Message><AuthenticationErrorDetail>Issuer validation failed. Issuer did not match.</AuthenticationErrorDetail></Error>\\\"\",\"errorDetail\":[]}\n"
     ]
    }
   ],
   "source": [
    "# Look at the dataset parquet location\n",
    "snapshot = snapshots_api.retrieve_snapshot(create_snapshot_result['id'], include=[\"ACCESS_INFORMATION\"])\n",
    "table = next(iter(snapshot.access_information.parquet.tables), lambda t: t.name == \"demo_pheno_data\")\n",
    "print(pretty_print_tdr_object(table))"
   ]
  },
  {
   "cell_type": "code",
   "execution_count": 26,
   "id": "promotional-trinidad",
   "metadata": {},
   "outputs": [],
   "source": [
    "os.system(\"rm -r %s/%s.parquet\" % (local_parquet_dir, table.name))\n",
    "os.system(\"azcopy cp '%s?%s' '%s' --recursive\" % (table.url, table.sas_token, local_parquet_dir))\n",
    "df = pd.read_parquet(\"%s/%s.parquet\" % (local_parquet_dir, table.name))\n",
    "# Convert the UUID from binary to readable UUID\n",
    "df[\"datarepo_row_id\"] = df[\"datarepo_row_id\"].apply(UUID)\n",
    "df.head(10)"
   ]
  },
  {
   "cell_type": "markdown",
   "id": "tested-defeat",
   "metadata": {
    "pycharm": {
     "name": "#%% md\n"
    }
   },
   "source": [
    "## Given a Drs ID, access file data\n",
    "From the previous cell, copy a DRS ID and extract the object ID (in the format `v1_<uuid>_<uuid>`) and save if in the drs_id variable.\n",
    "\n",
    "The following cell obtains a signed URL from TDR using a DRS ID then reads the first few bytes."
   ]
  },
  {
   "cell_type": "code",
   "execution_count": 43,
   "id": "likely-dispatch",
   "metadata": {},
   "outputs": [
    {
     "data": {
      "text/plain": [
       "0"
      ]
     },
     "execution_count": 43,
     "metadata": {},
     "output_type": "execute_result"
    }
   ],
   "source": [
    "# Get access to DRS object\n",
    "drs_id = \"\"\n",
    "drs_object = drs_api.get_object(drs_id)\n",
    "drs_access = drs_api.get_access_url(drs_id, drs_object.access_methods[0].access_id)\n",
    "print(drs_access)"
   ]
  },
  {
   "cell_type": "markdown",
   "id": "opposed-china",
   "metadata": {
    "pycharm": {
     "name": "#%% md\n"
    }
   },
   "source": [
    "## Read the first 100 bytes of the file represented by DRS ID"
   ]
  },
  {
   "cell_type": "code",
   "execution_count": 29,
   "id": "catholic-southwest",
   "metadata": {
    "pycharm": {
     "name": "#%%\n"
    }
   },
   "outputs": [
    {
     "data": {
      "text/plain": [
       "{'items': [{'application_deployment_name': 'tdrdeployment1',\n",
       "            'biller': 'direct',\n",
       "            'billing_account_id': '00708C-45D19D-27AAFA',\n",
       "            'cloud_platform': 'azure',\n",
       "            'created_by': 'nmalfroy@azure.dev.envs-terra.bio',\n",
       "            'created_date': '2021-10-28T02:13:55.111926Z',\n",
       "            'description': 'Azure profile cdac1ca4 created on 2021-10-27',\n",
       "            'id': 'cdac1ca4-049c-4711-8f4b-1010d71680cb',\n",
       "            'profile_name': 'azureprofile-cdac1ca4-2021-10-27',\n",
       "            'resource_group_name': 'TDR',\n",
       "            'subscription_id': '71d52ec1-5886-480a-9d6e-ed98cbf1f69f',\n",
       "            'tenant_id': 'efc08443-0082-4d6c-8931-c5794c156abd'},\n",
       "           {'application_deployment_name': 'tdrtitle2',\n",
       "            'biller': 'direct',\n",
       "            'billing_account_id': '00708C-45D19D-27AAFA',\n",
       "            'cloud_platform': 'azure',\n",
       "            'created_by': 'rtitle@broadinstitute.org',\n",
       "            'created_date': '2021-11-02T20:25:37.522165Z',\n",
       "            'description': 'Azure profile f8fff75d created on 2021-11-02',\n",
       "            'id': 'f8fff75d-fb09-492c-a2c0-dd0df70f379f',\n",
       "            'profile_name': 'azureprofile-f8fff75d-2021-11-02',\n",
       "            'resource_group_name': 'rtitle-managed-app-resource-group',\n",
       "            'subscription_id': '3efc5bdf-be0e-44e7-b1d7-c08931e3c16c',\n",
       "            'tenant_id': '0cb7a640-45a2-4ed6-be9f-63519f86e04b'}],\n",
       " 'total': 2}"
      ]
     },
     "execution_count": 29,
     "metadata": {},
     "output_type": "execute_result"
    }
   ],
   "source": [
    "# Read the first 100 bytes of the file represented by DRS ID\n",
    "print(urllib.request.urlopen(drs_access.url).read()[:100])"
   ]
  }
 ],
 "metadata": {
  "kernelspec": {
   "display_name": "Python 3",
   "language": "python",
   "name": "python3"
  },
  "language_info": {
   "codemirror_mode": {
    "name": "ipython",
    "version": 3
   },
   "file_extension": ".py",
   "mimetype": "text/x-python",
   "name": "python",
   "nbconvert_exporter": "python",
   "pygments_lexer": "ipython3",
   "version": "3.8.2"
  }
 },
 "nbformat": 4,
 "nbformat_minor": 5
}