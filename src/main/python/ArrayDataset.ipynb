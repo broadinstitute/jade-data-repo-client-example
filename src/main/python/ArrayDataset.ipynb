{
 "cells": [
  {
   "cell_type": "markdown",
   "metadata": {},
   "source": [
    "# Dataset w/ Array Load"
   ]
  },
  {
   "cell_type": "code",
   "execution_count": 1,
   "metadata": {},
   "outputs": [
    {
     "name": "stdout",
     "output_type": "stream",
     "text": [
      "Requirement already satisfied: data-repo-client in /opt/conda/lib/python3.9/site-packages (1.341.0)\n",
      "Requirement already satisfied: python-dateutil in /opt/conda/lib/python3.9/site-packages (from data-repo-client) (2.8.2)\n",
      "Requirement already satisfied: six>=1.10 in /opt/conda/lib/python3.9/site-packages (from data-repo-client) (1.16.0)\n",
      "Requirement already satisfied: certifi in /opt/conda/lib/python3.9/site-packages (from data-repo-client) (2021.10.8)\n",
      "Requirement already satisfied: urllib3>=1.15 in /opt/conda/lib/python3.9/site-packages (from data-repo-client) (1.26.9)\n",
      "Note: you may need to restart the kernel to use updated packages.\n"
     ]
    }
   ],
   "source": [
    "pip install data-repo-client"
   ]
  },
  {
   "cell_type": "markdown",
   "metadata": {},
   "source": [
    "## Configuration"
   ]
  },
  {
   "cell_type": "markdown",
   "metadata": {},
   "source": [
    "### Import libraries"
   ]
  },
  {
   "cell_type": "code",
   "execution_count": 2,
   "metadata": {},
   "outputs": [],
   "source": [
    "import datetime, getpass, uuid\n",
    "from data_repo_client import RepositoryApi\n",
    "from data_repo_client import ResourcesApi\n",
    "from data_repo_client import ApiClient\n",
    "from data_repo_client import Configuration\n",
    "from data_repo_client import UnauthenticatedApi"
   ]
  },
  {
   "cell_type": "markdown",
   "metadata": {},
   "source": [
    "### Authenticate"
   ]
  },
  {
   "cell_type": "markdown",
   "metadata": {},
   "source": [
    "Retrieve your access token by running these commands in your terminal\n",
    "\n",
    "  1. Login in with desired user\n",
    "\n",
    "`gcloud auth login`\n",
    "\n",
    "  2. Print the token to use in the next step\n",
    "\n",
    "`gcloud auth print-access-token`"
   ]
  },
  {
   "cell_type": "code",
   "execution_count": 3,
   "metadata": {},
   "outputs": [],
   "source": [
    "# Set up configuration\n",
    "config = Configuration()\n",
    "config.host=\"https://jade-sh.datarepo-dev.broadinstitute.org/\"\n",
    "\n",
    "# Use access token printed in last step\n",
    "config.access_token= getpass.getpass(\"Paste token data \")\n",
    "apiClient = ApiClient(configuration=config)\n",
    "apiClient.client_side_validation = False\n"
   ]
  },
  {
   "cell_type": "code",
   "execution_count": 4,
   "metadata": {},
   "outputs": [],
   "source": [
    "# Init api \n",
    "unauthenticated = UnauthenticatedApi(api_client=apiClient)\n",
    "resourceApi = ResourcesApi(api_client=apiClient)\n",
    "repoApi = RepositoryApi(api_client=apiClient)"
   ]
  },
  {
   "cell_type": "markdown",
   "metadata": {},
   "source": [
    "Billing profile"
   ]
  },
  {
   "cell_type": "code",
   "execution_count": 26,
   "metadata": {},
   "outputs": [
    {
     "data": {
      "text/plain": [
       "{'application_deployment_name': None,\n",
       " 'biller': 'direct',\n",
       " 'billing_account_id': '00708C-45D19D-27AAFA',\n",
       " 'cloud_platform': 'gcp',\n",
       " 'created_by': 'sholden@broadinstitute.org',\n",
       " 'created_date': '2022-05-10T13:05:29.766698Z',\n",
       " 'description': 'test for c89c2668 on 2022-05-10',\n",
       " 'id': 'c89c2668-3b0d-4c47-810d-c306b52a2088',\n",
       " 'profile_name': 'test-c89c2668-2022-05-10',\n",
       " 'resource_group_name': None,\n",
       " 'subscription_id': None,\n",
       " 'tenant_id': None}"
      ]
     },
     "execution_count": 26,
     "metadata": {},
     "output_type": "execute_result"
    }
   ],
   "source": [
    "# Get first billing profile id that you have acccess to\n",
    "profileId = resourceApi.enumerate_profiles().items[0].id\n",
    "resourceApi.retrieve_profile(profileId)"
   ]
  },
  {
   "cell_type": "markdown",
   "metadata": {},
   "source": [
    "## Use the new billing profile to create dataset"
   ]
  },
  {
   "cell_type": "markdown",
   "metadata": {},
   "source": [
    "### Define parameters  & format request"
   ]
  },
  {
   "cell_type": "code",
   "execution_count": 15,
   "metadata": {
    "code_folding": []
   },
   "outputs": [
    {
     "name": "stdout",
     "output_type": "stream",
     "text": [
      "{'defaultProfileId': 'c89c2668-3b0d-4c47-810d-c306b52a2088', 'description': 'Test dataset w/ Array Column c754a1cd on 2022-05-10', 'name': 'ArrayDatasetc754a1cd', 'schema': {'tables': [{'name': 'sample_info', 'columns': [{'name': 'id', 'datatype': 'string'}, {'name': 'favoriteAnimals', 'datatype': 'string', 'array_of': 'true'}]}]}}\n"
     ]
    }
   ],
   "source": [
    "str_uuid = str(uuid.uuid4())\n",
    "strHashId = str_uuid[0:8]\n",
    "strToday = str(datetime.date.today())\n",
    "datasetDescription = \"Test dataset w/ Array Column \" + strHashId + \" on \" + strToday\n",
    "datasetName = \"ArrayDataset\" + strHashId\n",
    "\n",
    "datasetRequest = {\n",
    "    \"defaultProfileId\": profileId,\n",
    "    \"description\": datasetDescription,\n",
    "    \"name\": datasetName,\n",
    "    \"schema\": {\n",
    "        \"tables\": [\n",
    "            {\n",
    "                \"name\": \"sample_info\",\n",
    "                \"columns\": [\n",
    "                    {\n",
    "                        \"name\": \"id\",\n",
    "                        \"datatype\": \"string\"\n",
    "                    },\n",
    "                    {\n",
    "                        \"name\": \"favoriteAnimals\",\n",
    "                        \"datatype\": \"string\",\n",
    "                        \"array_of\": \"true\"\n",
    "                    }\n",
    "                ]\n",
    "            }\n",
    "        ]\n",
    "    }\n",
    "}\n",
    "\n",
    "print(datasetRequest)\n"
   ]
  },
  {
   "cell_type": "markdown",
   "metadata": {},
   "source": [
    "### Make async request to create new dataset and check job status"
   ]
  },
  {
   "cell_type": "code",
   "execution_count": 16,
   "metadata": {},
   "outputs": [],
   "source": [
    "#async request to create dataset\n",
    "createDatasetThread = repoApi.create_dataset(async_req=True, dataset=datasetRequest)"
   ]
  },
  {
   "cell_type": "code",
   "execution_count": 18,
   "metadata": {},
   "outputs": [
    {
     "data": {
      "text/plain": [
       "{'class_name': 'bio.terra.service.dataset.flight.create.DatasetCreateFlight',\n",
       " 'completed': None,\n",
       " 'description': 'Create dataset ArrayDatasetc754a1cd',\n",
       " 'id': 'moO-FhIhTD-_6Sk2CN7W5g',\n",
       " 'job_status': 'running',\n",
       " 'status_code': 202,\n",
       " 'submitted': '2022-05-10T14:41:34.100586Z'}"
      ]
     },
     "execution_count": 18,
     "metadata": {},
     "output_type": "execute_result"
    }
   ],
   "source": [
    "# retrieve JobModel generated by create_dataset request\n",
    "createDatasetJobId = createDatasetThread.get().id"
   ]
  },
  {
   "cell_type": "code",
   "execution_count": 20,
   "metadata": {},
   "outputs": [
    {
     "data": {
      "text/plain": [
       "{'class_name': 'bio.terra.service.dataset.flight.create.DatasetCreateFlight',\n",
       " 'completed': '2022-05-10T14:42:01.831979Z',\n",
       " 'description': 'Create dataset ArrayDatasetc754a1cd',\n",
       " 'id': 'moO-FhIhTD-_6Sk2CN7W5g',\n",
       " 'job_status': 'succeeded',\n",
       " 'status_code': 201,\n",
       " 'submitted': '2022-05-10T14:41:34.100586Z'}"
      ]
     },
     "execution_count": 20,
     "metadata": {},
     "output_type": "execute_result"
    }
   ],
   "source": [
    "# wait for job_status to equal succeeded\n",
    "repoApi.retrieve_job(createDatasetJobId)"
   ]
  },
  {
   "cell_type": "code",
   "execution_count": 21,
   "metadata": {},
   "outputs": [
    {
     "data": {
      "text/plain": [
       "{'filtered_total': 4,\n",
       " 'items': [{'cloud_platform': 'gcp',\n",
       "            'created_date': '2022-05-10T14:41:52.539677Z',\n",
       "            'data_project': 'datarepo-dev-805a6735',\n",
       "            'default_profile_id': 'c89c2668-3b0d-4c47-810d-c306b52a2088',\n",
       "            'description': 'Test dataset w/ Array Column c754a1cd on '\n",
       "                           '2022-05-10',\n",
       "            'id': '18091a44-ea7d-461f-b9dc-e6fee18620fc',\n",
       "            'name': 'ArrayDatasetc754a1cd',\n",
       "            'phs_id': None,\n",
       "            'secure_monitoring_enabled': False,\n",
       "            'self_hosted': False,\n",
       "            'storage': [{'cloud_platform': 'gcp',\n",
       "                         'cloud_resource': 'bigquery',\n",
       "                         'region': 'us-central1'},\n",
       "                        {'cloud_platform': 'gcp',\n",
       "                         'cloud_resource': 'firestore',\n",
       "                         'region': 'us-east4'},\n",
       "                        {'cloud_platform': 'gcp',\n",
       "                         'cloud_resource': 'bucket',\n",
       "                         'region': 'us-central1'}],\n",
       "            'storage_account': None},\n",
       "           {'cloud_platform': 'gcp',\n",
       "            'created_date': '2022-05-10T13:47:38.566826Z',\n",
       "            'data_project': 'datarepo-dev-7b3eab56',\n",
       "            'default_profile_id': 'c89c2668-3b0d-4c47-810d-c306b52a2088',\n",
       "            'description': 'Public dataset 1000 Genomes. 56199aaa on '\n",
       "                           '2022-05-10',\n",
       "            'id': 'c5248002-05d6-469e-bf31-38f1792198f3',\n",
       "            'name': '1000GenomesDataset56199aaa',\n",
       "            'phs_id': None,\n",
       "            'secure_monitoring_enabled': False,\n",
       "            'self_hosted': False,\n",
       "            'storage': [{'cloud_platform': 'gcp',\n",
       "                         'cloud_resource': 'bigquery',\n",
       "                         'region': 'us-central1'},\n",
       "                        {'cloud_platform': 'gcp',\n",
       "                         'cloud_resource': 'firestore',\n",
       "                         'region': 'us-east4'},\n",
       "                        {'cloud_platform': 'gcp',\n",
       "                         'cloud_resource': 'bucket',\n",
       "                         'region': 'us-central1'}],\n",
       "            'storage_account': None},\n",
       "           {'cloud_platform': 'gcp',\n",
       "            'created_date': '2022-05-10T13:45:47.657832Z',\n",
       "            'data_project': 'datarepo-dev-4c5417a3',\n",
       "            'default_profile_id': 'c89c2668-3b0d-4c47-810d-c306b52a2088',\n",
       "            'description': '1000Genomes-Shelby',\n",
       "            'id': '0c0e328b-94c3-417a-8c51-890eb259ff31',\n",
       "            'name': '1000GenomesShelby',\n",
       "            'phs_id': None,\n",
       "            'secure_monitoring_enabled': False,\n",
       "            'self_hosted': False,\n",
       "            'storage': [{'cloud_platform': 'gcp',\n",
       "                         'cloud_resource': 'bigquery',\n",
       "                         'region': 'us-central1'},\n",
       "                        {'cloud_platform': 'gcp',\n",
       "                         'cloud_resource': 'firestore',\n",
       "                         'region': 'us-east4'},\n",
       "                        {'cloud_platform': 'gcp',\n",
       "                         'cloud_resource': 'bucket',\n",
       "                         'region': 'us-central1'}],\n",
       "            'storage_account': None},\n",
       "           {'cloud_platform': 'gcp',\n",
       "            'created_date': '2022-03-22T17:45:19.773737Z',\n",
       "            'data_project': 'datarepo-dev-203025dd',\n",
       "            'default_profile_id': '333a0a9d-8cf6-4862-bc9d-dbb6c8d148d5',\n",
       "            'description': 'Dataset with a bunch of rows',\n",
       "            'id': 'e0df79b9-1e5e-4d77-8380-bbb81915288c',\n",
       "            'name': 'update_test',\n",
       "            'phs_id': None,\n",
       "            'secure_monitoring_enabled': False,\n",
       "            'self_hosted': False,\n",
       "            'storage': [{'cloud_platform': 'gcp',\n",
       "                         'cloud_resource': 'bigquery',\n",
       "                         'region': 'us-central1'},\n",
       "                        {'cloud_platform': 'gcp',\n",
       "                         'cloud_resource': 'firestore',\n",
       "                         'region': 'us-east4'},\n",
       "                        {'cloud_platform': 'gcp',\n",
       "                         'cloud_resource': 'bucket',\n",
       "                         'region': 'us-central1'}],\n",
       "            'storage_account': None}],\n",
       " 'role_map': {'0c0e328b-94c3-417a-8c51-890eb259ff31': ['steward', 'custodian'],\n",
       "              '18091a44-ea7d-461f-b9dc-e6fee18620fc': ['steward', 'custodian'],\n",
       "              'c5248002-05d6-469e-bf31-38f1792198f3': ['steward', 'custodian'],\n",
       "              'e0df79b9-1e5e-4d77-8380-bbb81915288c': ['steward']},\n",
       " 'total': 4}"
      ]
     },
     "execution_count": 21,
     "metadata": {},
     "output_type": "execute_result"
    }
   ],
   "source": [
    "#Once job_status = succeeded, check if dataset appears in recently created datasets\n",
    "repoApi.enumerate_datasets(sort=\"created_date\", direction=\"desc\", limit=5)"
   ]
  },
  {
   "cell_type": "markdown",
   "metadata": {},
   "source": [
    "### Retrieve newly created dataset"
   ]
  },
  {
   "cell_type": "code",
   "execution_count": 22,
   "metadata": {},
   "outputs": [
    {
     "data": {
      "text/plain": [
       "{'access_information': None,\n",
       " 'created_date': '2022-05-10T14:41:52.539677Z',\n",
       " 'data_project': 'datarepo-dev-805a6735',\n",
       " 'default_profile_id': 'c89c2668-3b0d-4c47-810d-c306b52a2088',\n",
       " 'default_snapshot_id': None,\n",
       " 'description': 'Test dataset w/ Array Column c754a1cd on 2022-05-10',\n",
       " 'id': '18091a44-ea7d-461f-b9dc-e6fee18620fc',\n",
       " 'name': 'ArrayDatasetc754a1cd',\n",
       " 'phs_id': None,\n",
       " 'schema': {'assets': [],\n",
       "            'relationships': [],\n",
       "            'tables': [{'columns': [{'array_of': False,\n",
       "                                     'datatype': 'string',\n",
       "                                     'name': 'id',\n",
       "                                     'required': False},\n",
       "                                    {'array_of': True,\n",
       "                                     'datatype': 'string',\n",
       "                                     'name': 'favoriteAnimals',\n",
       "                                     'required': False}],\n",
       "                        'date_partition_options': None,\n",
       "                        'int_partition_options': None,\n",
       "                        'name': 'sample_info',\n",
       "                        'partition_mode': 'none',\n",
       "                        'primary_key': [],\n",
       "                        'row_count': None}]},\n",
       " 'secure_monitoring_enabled': False,\n",
       " 'self_hosted': False,\n",
       " 'storage': [{'cloud_platform': 'gcp',\n",
       "              'cloud_resource': 'bigquery',\n",
       "              'region': 'us-central1'},\n",
       "             {'cloud_platform': 'gcp',\n",
       "              'cloud_resource': 'firestore',\n",
       "              'region': 'us-east4'},\n",
       "             {'cloud_platform': 'gcp',\n",
       "              'cloud_resource': 'bucket',\n",
       "              'region': 'us-central1'}]}"
      ]
     },
     "execution_count": 22,
     "metadata": {},
     "output_type": "execute_result"
    }
   ],
   "source": [
    "# Retrieve Dataset\n",
    "datasetList = repoApi.enumerate_datasets(sort=\"created_date\", direction=\"desc\", limit=1)\n",
    "newDatasetId = datasetList.items[0].id\n",
    "repoApi.retrieve_dataset(newDatasetId)"
   ]
  },
  {
   "cell_type": "markdown",
   "metadata": {},
   "source": [
    "## Ingest Metadata (AKA Tabular Data) into Table"
   ]
  },
  {
   "cell_type": "code",
   "execution_count": 27,
   "metadata": {},
   "outputs": [],
   "source": [
    "# Ingest Request\n",
    "str_uuid_ingest = str(uuid.uuid4())\n",
    "strHashIdIngest = str_uuid_ingest[0:8]\n",
    "ingestRequest = {\n",
    "  \"table\": \"sample_info\",\n",
    "  \"records\": [\n",
    "    {\n",
    "      \"id\": \"2355\",\n",
    "      \"favoriteAnimals\": [\"horse\", \"dog\", \"zebra\", \"moose\", \"kangaroo\", \"mouse\", \"rat\", \"hamster\", \"cat\", \"lizard\"]\n",
    "    }\n",
    "  ],\n",
    "  \"format\": \"array\",\n",
    "  \"load_tag\": strHashIdIngest,\n",
    "  \"profile_id\": profileId\n",
    "}"
   ]
  },
  {
   "cell_type": "code",
   "execution_count": 28,
   "metadata": {},
   "outputs": [],
   "source": [
    "ingestSampleInfoThread = repoApi.ingest_dataset(async_req=True, id=newDatasetId, ingest=ingestRequest)"
   ]
  },
  {
   "cell_type": "code",
   "execution_count": 29,
   "metadata": {},
   "outputs": [],
   "source": [
    "\n",
    "ingestDatasetJobId = ingestSampleInfoThread.get().id"
   ]
  },
  {
   "cell_type": "code",
   "execution_count": 30,
   "metadata": {},
   "outputs": [
    {
     "data": {
      "text/plain": [
       "{'class_name': 'bio.terra.service.dataset.flight.ingest.DatasetIngestFlight',\n",
       " 'completed': '2022-05-10T15:02:29.667271Z',\n",
       " 'description': 'Ingest tabular data to sample_info in dataset id '\n",
       "                '18091a44-ea7d-461f-b9dc-e6fee18620fc',\n",
       " 'id': 'YKDr1dqwSJ6CC67Va5BD7Q',\n",
       " 'job_status': 'succeeded',\n",
       " 'status_code': 200,\n",
       " 'submitted': '2022-05-10T15:02:12.801973Z'}"
      ]
     },
     "execution_count": 30,
     "metadata": {},
     "output_type": "execute_result"
    }
   ],
   "source": [
    "repoApi.retrieve_job(ingestDatasetJobId)"
   ]
  }
 ],
 "metadata": {
  "kernelspec": {
   "display_name": "Python 3 (ipykernel)",
   "language": "python",
   "name": "python3"
  },
  "language_info": {
   "codemirror_mode": {
    "name": "ipython",
    "version": 3
   },
   "file_extension": ".py",
   "mimetype": "text/x-python",
   "name": "python",
   "nbconvert_exporter": "python",
   "pygments_lexer": "ipython3",
   "version": "3.9.12"
  },
  "toc": {
   "base_numbering": 1,
   "nav_menu": {},
   "number_sections": true,
   "sideBar": true,
   "skip_h1_title": false,
   "title_cell": "Table of Contents",
   "title_sidebar": "Contents",
   "toc_cell": false,
   "toc_position": {},
   "toc_section_display": true,
   "toc_window_display": false
  }
 },
 "nbformat": 4,
 "nbformat_minor": 2
}
