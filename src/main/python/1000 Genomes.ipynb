{
 "cells": [
  {
   "cell_type": "markdown",
   "metadata": {},
   "source": [
    "# 1000 Genomes Load"
   ]
  },
  {
   "cell_type": "code",
   "execution_count": null,
   "metadata": {},
   "outputs": [],
   "source": [
    "pip install data-repo-client"
   ]
  },
  {
   "cell_type": "markdown",
   "metadata": {},
   "source": [
    "## Configuration"
   ]
  },
  {
   "cell_type": "markdown",
   "metadata": {},
   "source": [
    "### Import libraries"
   ]
  },
  {
   "cell_type": "code",
   "execution_count": null,
   "metadata": {},
   "outputs": [],
   "source": [
    "import datetime, getpass, uuid\n",
    "from data_repo_client import RepositoryApi\n",
    "from data_repo_client import ResourcesApi\n",
    "from data_repo_client import ApiClient\n",
    "from data_repo_client import Configuration\n",
    "from data_repo_client import UnauthenticatedApi"
   ]
  },
  {
   "cell_type": "markdown",
   "metadata": {},
   "source": [
    "### Authenticate"
   ]
  },
  {
   "cell_type": "markdown",
   "metadata": {},
   "source": [
    "Retrieve your access token by running these commands in your terminal\n",
    "\n",
    "  1. Login in with desired user\n",
    "\n",
    "`gcloud auth login`\n",
    "\n",
    "  2. Print the token to use in the next step\n",
    "\n",
    "`gcloud auth print-access-token`"
   ]
  },
  {
   "cell_type": "code",
   "execution_count": null,
   "metadata": {},
   "outputs": [],
   "source": [
    "# Set up configuration\n",
    "config = Configuration()\n",
    "#config.host=\"https://jade-sh.datarepo-dev.broadinstitute.org/\"\n",
    "# config.host=\"http://localhost:8080/\"\n",
    "config.host=\"https://data.shelby-test-tdr-apr-13.bee.envs-terra.bio/\"\n",
    "\n",
    "# Use access token printed in last step\n",
    "config.access_token= getpass.getpass(\"Paste token data \")\n",
    "apiClient = ApiClient(configuration=config)\n",
    "apiClient.client_side_validation = False\n"
   ]
  },
  {
   "cell_type": "code",
   "execution_count": null,
   "metadata": {},
   "outputs": [],
   "source": [
    "# Init api \n",
    "unauthenticated = UnauthenticatedApi(api_client=apiClient)\n",
    "resourceApi = ResourcesApi(api_client=apiClient)\n",
    "repoApi = RepositoryApi(api_client=apiClient)"
   ]
  },
  {
   "cell_type": "markdown",
   "metadata": {},
   "source": [
    "### Basic Examples"
   ]
  },
  {
   "cell_type": "code",
   "execution_count": null,
   "metadata": {},
   "outputs": [],
   "source": [
    "# Example Unauthenicated command\n",
    "print(unauthenticated.retrieve_repository_config())"
   ]
  },
  {
   "cell_type": "code",
   "execution_count": null,
   "metadata": {},
   "outputs": [],
   "source": [
    "# List Billing Profiles\n",
    "resourceApi.enumerate_profiles()"
   ]
  },
  {
   "cell_type": "markdown",
   "metadata": {},
   "source": [
    "## Create Billing Profile"
   ]
  },
  {
   "cell_type": "markdown",
   "metadata": {},
   "source": [
    "### Define parameters  & format request"
   ]
  },
  {
   "cell_type": "code",
   "execution_count": null,
   "metadata": {},
   "outputs": [],
   "source": [
    "billingProfileId = str(uuid.uuid4())\n",
    "print(\"Billing Profile Id: \" + billingProfileId)\n",
    "billingAccountId = \"00708C-45D19D-27AAFA\"\n",
    "\n",
    "strHashId = billingProfileId[0:8]\n",
    "strToday = str(datetime.date.today())\n",
    "description = \"test for \" + strHashId + \" on \" + strToday\n",
    "profileName = \"test-\" + strHashId + \"-\" + strToday\n",
    "\n",
    "print(\"Profile Name: \" + profileName + \"\\nProfile Description: \" + description)"
   ]
  },
  {
   "cell_type": "code",
   "execution_count": null,
   "metadata": {},
   "outputs": [],
   "source": [
    "# B) Format the request - must be json w/ single quotes\n",
    "profileRequest = {\n",
    "    \"biller\": \"direct\",\n",
    "    \"billingAccountId\": billingAccountId,\n",
    "    \"description\": description,\n",
    "    \"id\": billingProfileId,\n",
    "    \"profileName\": profileName\n",
    "}\n",
    "print(profileRequest)"
   ]
  },
  {
   "cell_type": "markdown",
   "metadata": {},
   "source": [
    "### Make async request to create new profile and check job status"
   ]
  },
  {
   "cell_type": "code",
   "execution_count": null,
   "metadata": {
    "code_folding": []
   },
   "outputs": [],
   "source": [
    "createProfileThread = resourceApi.create_profile(async_req=True, billing_profile_request=profileRequest)\n",
    "createProfileJobId = createProfileThread.get().id\n",
    "repoApi.retrieve_job(createProfileJobId)"
   ]
  },
  {
   "cell_type": "code",
   "execution_count": null,
   "metadata": {},
   "outputs": [],
   "source": [
    "# Wait until status = succeeded\n",
    "repoApi.retrieve_job(createProfileJobId)"
   ]
  },
  {
   "cell_type": "code",
   "execution_count": null,
   "metadata": {},
   "outputs": [],
   "source": [
    "#E) Check to see new profile added\n",
    "resourceApi.enumerate_profiles()"
   ]
  },
  {
   "cell_type": "markdown",
   "metadata": {},
   "source": [
    "### Retrieve newly created profile"
   ]
  },
  {
   "cell_type": "code",
   "execution_count": null,
   "metadata": {},
   "outputs": [],
   "source": [
    "#retrieve new profile\n",
    "profileId = resourceApi.enumerate_profiles().items[0].id\n",
    "resourceApi.retrieve_profile(profileId)"
   ]
  },
  {
   "cell_type": "markdown",
   "metadata": {},
   "source": [
    "## Use the new billing profile to create dataset"
   ]
  },
  {
   "cell_type": "markdown",
   "metadata": {},
   "source": [
    "### Define parameters  & format request"
   ]
  },
  {
   "cell_type": "code",
   "execution_count": null,
   "metadata": {
    "code_folding": []
   },
   "outputs": [],
   "source": [
    "str_uuid = str(uuid.uuid4())\n",
    "strHashId = str_uuid[0:8]\n",
    "strToday = str(datetime.date.today())\n",
    "datasetDescription = \"Public dataset 1000 Genomes. \" + strHashId + \" on \" + strToday\n",
    "datasetName = \"1000GenomesDataset\" + strHashId\n",
    "\n",
    "datasetRequest = {\n",
    "    \"defaultProfileId\": profileId,\n",
    "    \"description\": datasetDescription,\n",
    "    \"name\": datasetName,\n",
    "    \"schema\": {\n",
    "        \"tables\": [\n",
    "            {\n",
    "                \"name\": \"sample_info\",\n",
    "                \"columns\": [\n",
    "                    {\n",
    "                        \"name\": \"Sample\",\n",
    "                        \"datatype\": \"string\"\n",
    "                    },\n",
    "                    {\n",
    "                        \"name\": \"Family_ID\",\n",
    "                        \"datatype\": \"string\"\n",
    "                    },\n",
    "                    {\n",
    "                        \"name\": \"Population\",\n",
    "                        \"datatype\": \"string\"\n",
    "                    },\n",
    "                    {\n",
    "                        \"name\": \"Population_Description\",\n",
    "                        \"datatype\": \"string\"\n",
    "                    },\n",
    "                    {\n",
    "                        \"name\": \"Gender\",\n",
    "                        \"datatype\": \"string\"\n",
    "                    },\n",
    "                    {\n",
    "                        \"name\": \"Relationship\",\n",
    "                        \"datatype\": \"string\"\n",
    "                    },\n",
    "                    {\n",
    "                        \"name\": \"Unexpected_Parent_Child\",\n",
    "                        \"datatype\": \"string\"\n",
    "                    },\n",
    "                    {\n",
    "                        \"name\": \"Non_Paternity\",\n",
    "                        \"datatype\": \"string\"\n",
    "                    },\n",
    "                    {\n",
    "                        \"name\": \"Siblings\",\n",
    "                        \"datatype\": \"string\"\n",
    "                    },\n",
    "                    {\n",
    "                        \"name\": \"Grandparents\",\n",
    "                        \"datatype\": \"string\"\n",
    "                    },\n",
    "                    {\n",
    "                        \"name\": \"Avuncular\",\n",
    "                        \"datatype\": \"string\"\n",
    "                    },\n",
    "                    {\n",
    "                        \"name\": \"Half_Siblings\",\n",
    "                        \"datatype\": \"string\"\n",
    "                    },\n",
    "                    {\n",
    "                        \"name\": \"Unknown_Second_Order\",\n",
    "                        \"datatype\": \"string\"\n",
    "                    },\n",
    "                    {\n",
    "                        \"name\": \"Third_Order\",\n",
    "                        \"datatype\": \"string\"\n",
    "                    },\n",
    "                    {\n",
    "                        \"name\": \"In_Low_Coverage_Pilot\",\n",
    "                        \"datatype\": \"boolean\"\n",
    "                    },\n",
    "                    {\n",
    "                        \"name\": \"LC_Pilot_Platforms\",\n",
    "                        \"datatype\": \"string\"\n",
    "                    },\n",
    "                    {\n",
    "                        \"name\": \"LC_Pilot_Centers\",\n",
    "                        \"datatype\": \"string\"\n",
    "                    },\n",
    "                    {\n",
    "                        \"name\": \"In_High_Coverage_Pilot\",\n",
    "                        \"datatype\": \"boolean\"\n",
    "                    },\n",
    "                    {\n",
    "                        \"name\": \"HC_Pilot_Platforms\",\n",
    "                        \"datatype\": \"string\"\n",
    "                    },\n",
    "                    {\n",
    "                        \"name\": \"HC_Pilot_Centers\",\n",
    "                        \"datatype\": \"string\"\n",
    "                    },\n",
    "                    {\n",
    "                        \"name\": \"In_Exon_Targetted_Pilot\",\n",
    "                        \"datatype\": \"boolean\"\n",
    "                    },\n",
    "                    {\n",
    "                        \"name\": \"ET_Pilot_Platforms\",\n",
    "                        \"datatype\": \"string\"\n",
    "                    },\n",
    "                    {\n",
    "                        \"name\": \"ET_Pilot_Centers\",\n",
    "                        \"datatype\": \"string\"\n",
    "                    },\n",
    "                    {\n",
    "                        \"name\": \"Has_Sequence_in_Phase1\",\n",
    "                        \"datatype\": \"boolean\"\n",
    "                    },\n",
    "                    {\n",
    "                        \"name\": \"Phase1_LC_Platform\",\n",
    "                        \"datatype\": \"string\"\n",
    "                    },\n",
    "                    {\n",
    "                        \"name\": \"Phase1_LC_Centers\",\n",
    "                        \"datatype\": \"string\"\n",
    "                    },\n",
    "                    {\n",
    "                        \"name\": \"Phase1_E_Platform\",\n",
    "                        \"datatype\": \"string\"\n",
    "                    },\n",
    "                    {\n",
    "                        \"name\": \"Phase1_E_Centers\",\n",
    "                        \"datatype\": \"string\"\n",
    "                    },\n",
    "                    {\n",
    "                        \"name\": \"In_Phase1_Integrated_Variant_Set\",\n",
    "                        \"datatype\": \"boolean\"\n",
    "                    },\n",
    "                    {\n",
    "                        \"name\": \"Has_Phase1_chrY_SNPS\",\n",
    "                        \"datatype\": \"boolean\"\n",
    "                    },\n",
    "                    {\n",
    "                        \"name\": \"Has_phase1_chrY_Deletions\",\n",
    "                        \"datatype\": \"boolean\"\n",
    "                    },\n",
    "                    {\n",
    "                        \"name\": \"Has_phase1_chrMT_SNPs\",\n",
    "                        \"datatype\": \"boolean\"\n",
    "                    },\n",
    "                    {\n",
    "                        \"name\": \"Main_project_LC_Centers\",\n",
    "                        \"datatype\": \"string\"\n",
    "                    },\n",
    "                    {\n",
    "                        \"name\": \"Main_project_LC_platform\",\n",
    "                        \"datatype\": \"string\"\n",
    "                    },\n",
    "                    {\n",
    "                        \"name\": \"Total_LC_Sequence\",\n",
    "                        \"datatype\": \"float\"\n",
    "                    },\n",
    "                    {\n",
    "                        \"name\": \"LC_Non_Duplicated_Aligned_Coverage\",\n",
    "                        \"datatype\": \"float\"\n",
    "                    },\n",
    "                    {\n",
    "                        \"name\": \"Main_Project_E_Centers\",\n",
    "                        \"datatype\": \"string\"\n",
    "                    },\n",
    "                    {\n",
    "                        \"name\": \"Main_Project_E_Platform\",\n",
    "                        \"datatype\": \"string\"\n",
    "                    },\n",
    "                    {\n",
    "                        \"name\": \"Total_Exome_Sequence\",\n",
    "                        \"datatype\": \"float\"\n",
    "                    },\n",
    "                    {\n",
    "                        \"name\": \"X_Targets_Covered_to_20x_or_greater\",\n",
    "                        \"datatype\": \"float\"\n",
    "                    },\n",
    "                    {\n",
    "                        \"name\": \"VerifyBam_E_Omni_Free\",\n",
    "                        \"datatype\": \"float\"\n",
    "                    },\n",
    "                    {\n",
    "                        \"name\": \"VerifyBam_E_Affy_Free\",\n",
    "                        \"datatype\": \"float\"\n",
    "                    },\n",
    "                    {\n",
    "                        \"name\": \"VerifyBam_E_Omni_Chip\",\n",
    "                        \"datatype\": \"float\"\n",
    "                    },\n",
    "                    {\n",
    "                        \"name\": \"VerifyBam_E_Affy_Chip\",\n",
    "                        \"datatype\": \"float\"\n",
    "                    },\n",
    "                    {\n",
    "                        \"name\": \"VerifyBam_LC_Omni_Free\",\n",
    "                        \"datatype\": \"float\"\n",
    "                    },\n",
    "                    {\n",
    "                        \"name\": \"VerifyBam_LC_Affy_Free\",\n",
    "                        \"datatype\": \"float\"\n",
    "                    },\n",
    "                    {\n",
    "                        \"name\": \"VerifyBam_LC_Omni_Chip\",\n",
    "                        \"datatype\": \"float\"\n",
    "                    },\n",
    "                    {\n",
    "                        \"name\": \"VerifyBam_LC_Affy_Chip\",\n",
    "                        \"datatype\": \"float\"\n",
    "                    },\n",
    "                    {\n",
    "                        \"name\": \"LC_Indel_Ratio\",\n",
    "                        \"datatype\": \"float\"\n",
    "                    },\n",
    "                    {\n",
    "                        \"name\": \"E_Indel_Ratio\",\n",
    "                        \"datatype\": \"float\"\n",
    "                    },\n",
    "                    {\n",
    "                        \"name\": \"LC_Passed_QC\",\n",
    "                        \"datatype\": \"boolean\"\n",
    "                    },\n",
    "                    {\n",
    "                        \"name\": \"E_Passed_QC\",\n",
    "                        \"datatype\": \"boolean\"\n",
    "                    },\n",
    "                    {\n",
    "                        \"name\": \"In_Final_Phase_Variant_Calling\",\n",
    "                        \"datatype\": \"boolean\"\n",
    "                    },\n",
    "                    {\n",
    "                        \"name\": \"Has_Omni_Genotypes\",\n",
    "                        \"datatype\": \"boolean\"\n",
    "                    },\n",
    "                    {\n",
    "                        \"name\": \"Has_Axiom_Genotypes\",\n",
    "                        \"datatype\": \"boolean\"\n",
    "                    },\n",
    "                    {\n",
    "                        \"name\": \"Has_Affy_6_0_Genotypes\",\n",
    "                        \"datatype\": \"boolean\"\n",
    "                    },\n",
    "                    {\n",
    "                        \"name\": \"Has_Exome_LOF_Genotypes\",\n",
    "                        \"datatype\": \"boolean\"\n",
    "                    },\n",
    "                    {\n",
    "                        \"name\": \"EBV_Coverage\",\n",
    "                        \"datatype\": \"float\"\n",
    "                    },\n",
    "                    {\n",
    "                        \"name\": \"DNA_Source_from_Coriell\",\n",
    "                        \"datatype\": \"string\"\n",
    "                    },\n",
    "                    {\n",
    "                        \"name\": \"Has_Sequence_from_Blood_in_Index\",\n",
    "                        \"datatype\": \"boolean\"\n",
    "                    },\n",
    "                    {\n",
    "                        \"name\": \"Super_Population\",\n",
    "                        \"datatype\": \"string\"\n",
    "                    },\n",
    "                    {\n",
    "                        \"name\": \"Super_Population_Description\",\n",
    "                        \"datatype\": \"string\"\n",
    "                    }\n",
    "                ]\n",
    "            },\n",
    "            {\n",
    "                \"name\": \"pedigree\",\n",
    "                \"columns\": [\n",
    "                    {\n",
    "                        \"name\": \"Family_ID\",\n",
    "                        \"datatype\": \"string\"\n",
    "                    },\n",
    "                    {\n",
    "                        \"name\": \"Individual_ID\",\n",
    "                        \"datatype\": \"string\"\n",
    "                    },\n",
    "                    {\n",
    "                        \"name\": \"Paternal_ID\",\n",
    "                        \"datatype\": \"string\"\n",
    "                    },\n",
    "                    {\n",
    "                        \"name\": \"Maternal_ID\",\n",
    "                        \"datatype\": \"string\"\n",
    "                    },\n",
    "                    {\n",
    "                        \"name\": \"Gender\",\n",
    "                        \"datatype\": \"integer\"\n",
    "                    },\n",
    "                    {\n",
    "                        \"name\": \"Phenotype\",\n",
    "                        \"datatype\": \"integer\"\n",
    "                    },\n",
    "                    {\n",
    "                        \"name\": \"Population\",\n",
    "                        \"datatype\": \"string\"\n",
    "                    },\n",
    "                    {\n",
    "                        \"name\": \"Relationship\",\n",
    "                        \"datatype\": \"string\"\n",
    "                    },\n",
    "                    {\n",
    "                        \"name\": \"Siblings\",\n",
    "                        \"datatype\": \"string\"\n",
    "                    },\n",
    "                    {\n",
    "                        \"name\": \"Second_Order\",\n",
    "                        \"datatype\": \"string\"\n",
    "                    },\n",
    "                    {\n",
    "                        \"name\": \"Third_Order\",\n",
    "                        \"datatype\": \"string\"\n",
    "                    },\n",
    "                    {\n",
    "                        \"name\": \"Other_Comments\",\n",
    "                        \"datatype\": \"string\"\n",
    "                    }\n",
    "                ]\n",
    "            },\n",
    "            {\n",
    "                \"name\": \"bam_file\",\n",
    "                \"columns\": [\n",
    "                    {\n",
    "                        \"name\": \"Sample\",\n",
    "                        \"datatype\": \"string\"\n",
    "                    },\n",
    "                    {\n",
    "                        \"name\": \"BAM_File_Path\",\n",
    "                        \"datatype\": \"string\"\n",
    "                    },\n",
    "                    {\n",
    "                        \"name\": \"BAM_File_Ref\",\n",
    "                        \"datatype\": \"fileref\"\n",
    "                    }\n",
    "                ]\n",
    "            },\n",
    "            {\n",
    "                \"name\": \"vcf_file\",\n",
    "                \"columns\": [\n",
    "                    {\n",
    "                        \"name\": \"VCF_File_Path\",\n",
    "                        \"datatype\": \"string\"\n",
    "                    },\n",
    "                    {\n",
    "                        \"name\": \"VCF_File_Ref\",\n",
    "                        \"datatype\": \"fileref\"\n",
    "                    },\n",
    "                    {\n",
    "                        \"name\": \"Description\",\n",
    "                        \"datatype\": \"string\"\n",
    "                    }\n",
    "                ]\n",
    "            }\n",
    "        ],\n",
    "        \"relationships\": [\n",
    "            {\n",
    "                \"name\": \"pedigree_sample\",\n",
    "                \"to\": {\n",
    "                    \"table\": \"sample_info\",\n",
    "                    \"column\": \"Family_ID\"\n",
    "                },\n",
    "                \"from\": {\n",
    "                    \"table\": \"pedigree\",\n",
    "                    \"column\": \"Family_ID\"\n",
    "                }\n",
    "            },\n",
    "            {\n",
    "                \"name\": \"sample_bam\",\n",
    "                \"to\": {\n",
    "                    \"table\": \"bam_file\",\n",
    "                    \"column\": \"Sample\"\n",
    "                },\n",
    "                \"from\": {\n",
    "                    \"table\": \"sample_info\",\n",
    "                    \"column\": \"Sample\"\n",
    "                }\n",
    "            }\n",
    "        ],\n",
    "        \"assets\": [\n",
    "            {\n",
    "                \"name\": \"sample_pedigree\",\n",
    "                \"rootTable\": \"sample_info\",\n",
    "                \"rootColumn\": \"Sample\",\n",
    "                \"tables\": [\n",
    "                    {\n",
    "                        \"name\": \"sample_info\",\n",
    "                        \"columns\": []\n",
    "                    },\n",
    "                    {\n",
    "                        \"name\": \"pedigree\",\n",
    "                        \"columns\": []\n",
    "                    }\n",
    "                ],\n",
    "                \"follow\": [\n",
    "                    \"pedigree_sample\"\n",
    "                ]\n",
    "            },\n",
    "            {\n",
    "                \"name\": \"sample_bam\",\n",
    "                \"rootTable\": \"sample_info\",\n",
    "                \"rootColumn\": \"Sample\",\n",
    "                \"tables\": [\n",
    "                    {\n",
    "                        \"name\": \"sample_info\",\n",
    "                        \"columns\": []\n",
    "                    },\n",
    "                    {\n",
    "                        \"name\": \"bam_file\",\n",
    "                        \"columns\": []\n",
    "                    }\n",
    "                ],\n",
    "                \"follow\": [\n",
    "                    \"sample_bam\"\n",
    "                ]\n",
    "            }\n",
    "        ]\n",
    "    }\n",
    "}\n",
    "\n",
    "print(datasetRequest)\n"
   ]
  },
  {
   "cell_type": "markdown",
   "metadata": {},
   "source": [
    "### Make async request to create new dataset and check job status"
   ]
  },
  {
   "cell_type": "code",
   "execution_count": null,
   "metadata": {},
   "outputs": [],
   "source": [
    "#async request to create dataset\n",
    "createDatasetThread = repoApi.create_dataset(async_req=True, dataset=datasetRequest)"
   ]
  },
  {
   "cell_type": "code",
   "execution_count": null,
   "metadata": {},
   "outputs": [],
   "source": [
    "createDatasetThread.get()"
   ]
  },
  {
   "cell_type": "code",
   "execution_count": null,
   "metadata": {},
   "outputs": [],
   "source": [
    "# retrieve JobModel generated by create_dataset request\n",
    "createDatasetJobId = createDatasetThread.get().id\n",
    "# Check status of job\n",
    "repoApi.retrieve_job(createDatasetJobId)"
   ]
  },
  {
   "cell_type": "code",
   "execution_count": null,
   "metadata": {},
   "outputs": [],
   "source": [
    "# wait for job_status to equal succeeded\n",
    "repoApi.retrieve_job(createDatasetJobId)"
   ]
  },
  {
   "cell_type": "code",
   "execution_count": null,
   "metadata": {},
   "outputs": [],
   "source": [
    "#Once job_status = succeeded, check if dataset appears in recently created datasets\n",
    "repoApi.enumerate_datasets(sort=\"created_date\", direction=\"desc\", limit=5)"
   ]
  },
  {
   "cell_type": "markdown",
   "metadata": {},
   "source": [
    "### Retrieve newly created dataset"
   ]
  },
  {
   "cell_type": "code",
   "execution_count": null,
   "metadata": {},
   "outputs": [],
   "source": [
    "# Retrieve Dataset\n",
    "datasetList = repoApi.enumerate_datasets(sort=\"created_date\", direction=\"desc\", limit=1)\n",
    "newDatasetId = datasetList.items[0].id\n",
    "repoApi.retrieve_dataset(newDatasetId)\n",
    "# newDatasetId = \"c5248002-05d6-469e-bf31-38f1792198f3\""
   ]
  },
  {
   "cell_type": "markdown",
   "metadata": {},
   "source": [
    "## Ingest Metadata (AKA Tabular Data) into Sample Info and Pedigree tables"
   ]
  },
  {
   "cell_type": "code",
   "execution_count": null,
   "metadata": {},
   "outputs": [],
   "source": [
    "# Ingest Request\n",
    "str_uuid_ingest = str(uuid.uuid4())\n",
    "strHashIdIngest = str_uuid_ingest[0:8]\n",
    "ingestRequest = {\n",
    "  \"table\": \"sample_info\",\n",
    "  \"path\": \"gs://jade-testdata/1000_genomes_sample_info.json\",\n",
    "  \"format\": \"json\",\n",
    "  \"load_tag\": strHashIdIngest,\n",
    "  \"profile_id\": profileId\n",
    "}"
   ]
  },
  {
   "cell_type": "code",
   "execution_count": null,
   "metadata": {},
   "outputs": [],
   "source": [
    "ingestSampleInfoThread = repoApi.ingest_dataset(async_req=True, id=newDatasetId, ingest=ingestRequest)"
   ]
  },
  {
   "cell_type": "code",
   "execution_count": null,
   "metadata": {},
   "outputs": [],
   "source": [
    "\n",
    "ingestDatasetJobId = ingestSampleInfoThread.get().id\n",
    "repoApi.retrieve_job(ingestDatasetJobId)"
   ]
  },
  {
   "cell_type": "code",
   "execution_count": null,
   "metadata": {},
   "outputs": [],
   "source": [
    "# Ingest pedigree tabular data\n",
    "str_uuid_ingest = str(uuid.uuid4())\n",
    "strHashIdIngest = str_uuid_ingest[0:8]\n",
    "ingestPedigreeRequest = {\n",
    "  \"table\": \"pedigree\",\n",
    "  \"path\": \"gs://jade-testdata/1000_genomes_pedigree.json\",\n",
    "  \"format\": \"json\",\n",
    "  \"load_tag\": strHashIdIngest,\n",
    "  \"profile_id\": profileId\n",
    "}"
   ]
  },
  {
   "cell_type": "code",
   "execution_count": null,
   "metadata": {},
   "outputs": [],
   "source": [
    "ingestPedigreeThread = repoApi.ingest_dataset(async_req=True, id=newDatasetId, ingest=ingestPedigreeRequest)"
   ]
  },
  {
   "cell_type": "code",
   "execution_count": null,
   "metadata": {},
   "outputs": [],
   "source": [
    "ingestDatasetJobId = ingestPedigreeThread.get().id"
   ]
  },
  {
   "cell_type": "code",
   "execution_count": null,
   "metadata": {},
   "outputs": [],
   "source": [
    "repoApi.retrieve_job(ingestDatasetJobId)"
   ]
  },
  {
   "cell_type": "markdown",
   "metadata": {},
   "source": [
    "# Combined ingest into BAM table\n",
    "Files listed here: https://github.com/DataBiosphere/jade-search-poc/blob/master/1000Genomes/file-load/filepath-list.txt"
   ]
  },
  {
   "cell_type": "code",
   "execution_count": null,
   "metadata": {},
   "outputs": [],
   "source": [
    "str_uuid_ingest = str(uuid.uuid4())\n",
    "strHashIdIngest = str_uuid_ingest[0:8]\n",
    "ingestRequest = {\n",
    "  \"table\": \"bam_file\",\n",
    "  \"records\": [\n",
    "    {\n",
    "      \"Sample\": \"HG00096\",\n",
    "      \"BAM_File_Path\": \"genomics-public-data/1000-genomes/bam/HG00096.mapped.ILLUMINA.bwa.GBR.low_coverage.20120522.bam\",\n",
    "      \"BAM_File_Ref\": { \"source_path\": \"gs://genomics-public-data/1000-genomes/bam/HG00096.mapped.ILLUMINA.bwa.GBR.low_coverage.20120522.bam\", \"target_path\": \"/1000-genomes/bam/HG00096.mapped.ILLUMINA.bwa.GBR.low_coverage.20120522.bam\", \"mime_type\": \"text/plain\"}\n",
    "    }\n",
    "  ],\n",
    "  \"format\": \"array\",\n",
    "  \"load_tag\": strHashIdIngest,\n",
    "  \"profile_id\": profileId\n",
    "}"
   ]
  },
  {
   "cell_type": "code",
   "execution_count": null,
   "metadata": {},
   "outputs": [],
   "source": [
    "ingestSampleInfoThread = repoApi.ingest_dataset(async_req=True, id=newDatasetId, ingest=ingestRequest)"
   ]
  },
  {
   "cell_type": "code",
   "execution_count": null,
   "metadata": {},
   "outputs": [],
   "source": [
    "ingestDatasetJobId = ingestSampleInfoThread.get().id"
   ]
  },
  {
   "cell_type": "code",
   "execution_count": null,
   "metadata": {},
   "outputs": [],
   "source": [
    "repoApi.retrieve_job(ingestDatasetJobId)"
   ]
  }
 ],
 "metadata": {
  "kernelspec": {
   "display_name": "Python 3.9.9 64-bit",
   "language": "python",
   "name": "python3"
  },
  "language_info": {
   "codemirror_mode": {
    "name": "ipython",
    "version": 3
   },
   "file_extension": ".py",
   "mimetype": "text/x-python",
   "name": "python",
   "nbconvert_exporter": "python",
   "pygments_lexer": "ipython3",
   "version": "3.9.9"
  },
  "toc": {
   "base_numbering": 1,
   "nav_menu": {},
   "number_sections": true,
   "sideBar": true,
   "skip_h1_title": false,
   "title_cell": "Table of Contents",
   "title_sidebar": "Contents",
   "toc_cell": false,
   "toc_position": {},
   "toc_section_display": true,
   "toc_window_display": false
  },
  "vscode": {
   "interpreter": {
    "hash": "aee8b7b246df8f9039afb4144a1f6fd8d2ca17a180786b69acc140d282b71a49"
   }
  }
 },
 "nbformat": 4,
 "nbformat_minor": 2
}
