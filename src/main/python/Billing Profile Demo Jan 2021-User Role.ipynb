{
 "cells": [
  {
   "cell_type": "markdown",
   "metadata": {},
   "source": [
    "# Billing Profile Demo - User"
   ]
  },
  {
   "cell_type": "markdown",
   "metadata": {},
   "source": [
    "## Configuration"
   ]
  },
  {
   "cell_type": "markdown",
   "metadata": {},
   "source": [
    "### Import libraries"
   ]
  },
  {
   "cell_type": "code",
   "execution_count": 2,
   "metadata": {},
   "outputs": [],
   "source": [
    "import datetime, getpass, uuid\n",
    "from data_repo_client import RepositoryApi\n",
    "from data_repo_client import ResourcesApi\n",
    "from data_repo_client import ApiClient\n",
    "from data_repo_client import Configuration\n",
    "from data_repo_client import UnauthenticatedApi"
   ]
  },
  {
   "cell_type": "markdown",
   "metadata": {},
   "source": [
    "### Authenticate"
   ]
  },
  {
   "cell_type": "markdown",
   "metadata": {},
   "source": [
    "Retrieve your access token by running these commands in your terminal\n",
    "\n",
    "  1. Login in with desired user\n",
    "\n",
    "`gcloud auth login`\n",
    "\n",
    "  2. Print the token to use in the next step\n",
    "\n",
    "`gcloud auth print-access-token`"
   ]
  },
  {
   "cell_type": "code",
   "execution_count": 3,
   "metadata": {},
   "outputs": [
    {
     "name": "stdout",
     "output_type": "stream",
     "text": [
      "Paste token data········\n"
     ]
    }
   ],
   "source": [
    "# Set up configuration\n",
    "config = Configuration()\n",
    "config.host=\"https://jade-sh.datarepo-dev.broadinstitute.org/\"\n",
    "# Use access token printed in last step\n",
    "config.access_token= getpass.getpass(\"Paste token data \")\n",
    "apiClient = ApiClient(configuration=config)"
   ]
  },
  {
   "cell_type": "markdown",
   "metadata": {},
   "source": [
    "### Basic Examples"
   ]
  },
  {
   "cell_type": "code",
   "execution_count": 4,
   "metadata": {},
   "outputs": [
    {
     "name": "stdout",
     "output_type": "stream",
     "text": [
      "{'active_profiles': ['google', 'cloudsql', 'dev', 'sh'],\n",
      " 'client_id': '970791974390-1581mjhtp2b3jmg4avhor1vabs13b7ur.apps.googleusercontent.com',\n",
      " 'git_hash': '1c49b84b',\n",
      " 'sem_ver': '1.0.192-SNAPSHOT'}\n"
     ]
    }
   ],
   "source": [
    "# Example Unauthenicated command\n",
    "unauthenticated = UnauthenticatedApi(api_client=apiClient)\n",
    "print(unauthenticated.retrieve_repository_config())"
   ]
  },
  {
   "cell_type": "code",
   "execution_count": 5,
   "metadata": {},
   "outputs": [
    {
     "name": "stdout",
     "output_type": "stream",
     "text": [
      "{'items': None, 'total': 0}\n"
     ]
    }
   ],
   "source": [
    "# List Datasets\n",
    "repoApi = RepositoryApi(api_client=apiClient)\n",
    "print(repoApi.enumerate_datasets())"
   ]
  },
  {
   "cell_type": "code",
   "execution_count": 10,
   "metadata": {},
   "outputs": [
    {
     "data": {
      "text/plain": [
       "{'items': [{'biller': 'direct',\n",
       "            'billing_account_id': '00708C-45D19D-27AAFA',\n",
       "            'created_by': 'sholdendev@gmail.com',\n",
       "            'created_date': '2021-01-07T14:34:48.817329Z',\n",
       "            'description': 'test for 87e57797 on 2021-01-07',\n",
       "            'id': '87e57797-eb1b-4761-b253-3a60d61bbcf0',\n",
       "            'profile_name': 'test-87e57797-2021-01-07'}],\n",
       " 'total': 1}"
      ]
     },
     "execution_count": 10,
     "metadata": {},
     "output_type": "execute_result"
    }
   ],
   "source": [
    "# List Billing Profiles\n",
    "resourceApi = ResourcesApi(api_client=apiClient)\n",
    "resourceApi.enumerate_profiles()"
   ]
  },
  {
   "cell_type": "markdown",
   "metadata": {},
   "source": [
    "## Share Billing Profile Demo"
   ]
  },
  {
   "cell_type": "markdown",
   "metadata": {},
   "source": [
    "### User CANNOT see the billing profile created by steward"
   ]
  },
  {
   "cell_type": "code",
   "execution_count": 6,
   "metadata": {},
   "outputs": [
    {
     "data": {
      "text/plain": [
       "{'items': None, 'total': 0}"
      ]
     },
     "execution_count": 6,
     "metadata": {},
     "output_type": "execute_result"
    }
   ],
   "source": [
    "# List Billing Profiles\n",
    "resourceApi = ResourcesApi(api_client=apiClient)\n",
    "resourceApi.enumerate_profiles()"
   ]
  },
  {
   "cell_type": "markdown",
   "metadata": {},
   "source": [
    "### *STEWARD GRANTS THIS USER ACCESS TO BILLING PROFILE*"
   ]
  },
  {
   "cell_type": "markdown",
   "metadata": {},
   "source": [
    "### User CAN see the billing profile created by steward now"
   ]
  },
  {
   "cell_type": "code",
   "execution_count": 7,
   "metadata": {},
   "outputs": [
    {
     "name": "stdout",
     "output_type": "stream",
     "text": [
      "Steward's billing account id: 87e57797-eb1b-4761-b253-3a60d61bbcf0\n"
     ]
    }
   ],
   "source": [
    "# List Billing Profiles\n",
    "resourceApi = ResourcesApi(api_client=apiClient)\n",
    "resourceApi.enumerate_profiles()\n",
    "profileId = resourceApi.enumerate_profiles().items[0].id\n",
    "print(\"Steward's billing account id: \" + profileId)"
   ]
  }
 ],
 "metadata": {
  "kernelspec": {
   "display_name": "Python 3",
   "language": "python",
   "name": "python3"
  },
  "language_info": {
   "codemirror_mode": {
    "name": "ipython",
    "version": 3
   },
   "file_extension": ".py",
   "mimetype": "text/x-python",
   "name": "python",
   "nbconvert_exporter": "python",
   "pygments_lexer": "ipython3",
   "version": "3.7.9"
  },
  "toc": {
   "base_numbering": 1,
   "nav_menu": {},
   "number_sections": true,
   "sideBar": true,
   "skip_h1_title": false,
   "title_cell": "Table of Contents",
   "title_sidebar": "Contents",
   "toc_cell": false,
   "toc_position": {},
   "toc_section_display": true,
   "toc_window_display": false
  }
 },
 "nbformat": 4,
 "nbformat_minor": 2
}
