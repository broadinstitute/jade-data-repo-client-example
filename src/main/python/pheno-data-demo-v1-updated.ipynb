{
 "cells": [
  {
   "cell_type": "markdown",
   "metadata": {},
   "source": [
    "# Introduction"
   ]
  },
  {
   "cell_type": "markdown",
   "metadata": {},
   "source": [
    "This notebook demonstrates typical initial steps to exploring phenotype distributions. It has been written to be interactive, allowing you to make choices as you go."
   ]
  },
  {
   "cell_type": "markdown",
   "metadata": {},
   "source": [
    "## Data disclaimer\n",
    "----\n",
    "\n",
    "All data in this notebook (and this workspace) are publicly available thanks to the effort of many dedicated individuals: \n",
    "\n",
    "- Genotype and some phenotypic data were produced by the [1000 Genomes Project (phase 3)](https://www.internationalgenome.org/)\n",
    "\n",
    "- Individual phenotypes were modeling using the [GCTA software](cnsgenomics.com/software/gcta) and variant-level summary statistics from [MAGIC](https://www.magicinvestigators.org/), the [GIANT Consortium](https://portals.broadinstitute.org/collaboration/giant/index.php/Main_Page), the [UK Biobank](https://www.ukbiobank.ac.uk/), and the [MVP](https://www.research.va.gov/mvp/)  \n",
    "\n",
    "Phenotypes were modeled to reflect the actual genetic architecture of these complex traits as closely as possible. Most single variant association results should correspond well to published GWAS, but others may not. **Results produced from these data should not be taken as representing real, replicable genetic associations. These data are provided for demonstration and training purposes only.**"
   ]
  },
  {
   "cell_type": "markdown",
   "metadata": {},
   "source": [
    "## Load Python packages\n",
    "----\n",
    "\n",
    "* **Pandas & Numpy** - packages for data analysis  \n",
    "* **Pprint** - for pretty printing  \n",
    "* **Matplotlib & Seaborn** - for plotting  \n",
    "\n",
    "To see the entire list of Python packages, click the purple arrow to the right below."
   ]
  },
  {
   "cell_type": "code",
   "execution_count": 1,
   "metadata": {
    "code_folding": []
   },
   "outputs": [],
   "source": [
    "%%capture \n",
    "import pandas as pd\n",
    "import numpy as np\n",
    "from pprint import pprint\n",
    "import matplotlib.pyplot as plt\n",
    "import seaborn as sns"
   ]
  },
  {
   "cell_type": "markdown",
   "metadata": {},
   "source": [
    "# Load phenotypes \n",
    "\n",
    "Phenotypic data for each individual in the study are stored locally in a CSV file. To analyze inside this notebook, we have to explicitly load the data in our notebook environment. "
   ]
  },
  {
   "cell_type": "markdown",
   "metadata": {},
   "source": [
    "## Load phenotype data\n",
    "\n",
    "We'll use <font color='red'>read_csv</font> to load the phenotypes from a CSV file. The columns correspond to:  \n",
    "\n",
    "* **sample:** a unique label for each individual sample in our dataset\n",
    "* **age:** numerical age of the individual at the time of each phenotype measure\n",
    "* **ancestry:** superpopulation group of each individual\n",
    "  * AFR: African\n",
    "  * AMR: Ad Mixed American\n",
    "  * EAS: East Asian\n",
    "  * EUR: European\n",
    "  * SAS: South Asian\n",
    "* **bmi:** body mass index\n",
    "* **fg:** fasting glucose\n",
    "* **fi:** fasting insulin\n",
    "* **hdl:** high density lipoprotein\n",
    "* **height:** standing height\n",
    "* **ldl:** low density lipoprotein\n",
    "* **population:** population of each sample, see [1000 Genomes description](https://www.internationalgenome.org/category/population/)\n",
    "* **sex:** biological sex\n",
    "* **tc:** total cholesteral\n",
    "* **tg:** total triglycerides\n",
    "* **whr:** waist-to-hip ratio\n"
   ]
  },
  {
   "cell_type": "code",
   "execution_count": 2,
   "metadata": {},
   "outputs": [
    {
     "name": "stdout",
     "output_type": "stream",
     "text": [
      "Copying gs://fc-25187567-7377-4b5f-8e64-fa21b1363d1d/demo-pheno-data.txt...\n",
      "/ [1 files][263.4 KiB/263.4 KiB]                                                \n",
      "Operation completed over 1 objects/263.4 KiB.                                    \n"
     ]
    }
   ],
   "source": [
    "# remember to change the workspace bucket ID in the code below\n",
    "# !gsutil cp gs://your-workspace-bucket-id/your-CSV-file-name.txt .\n",
    "\n",
    "!gsutil cp gs://fc-25187567-7377-4b5f-8e64-fa21b1363d1d/demo-pheno-data.txt ."
   ]
  },
  {
   "cell_type": "code",
   "execution_count": 3,
   "metadata": {},
   "outputs": [
    {
     "name": "stdout",
     "output_type": "stream",
     "text": [
      "demo-pheno-data.txt\t\t  pheno-data-demo-v2.ipynb\r\n",
      "gpu_tests_verily_01.ipynb\t  scVI-test.ipynb\r\n",
      "ML_Test_1.ipynb\t\t\t  tensorflow_test_01.ipynb\r\n",
      "ML_Test_Torch.ipynb\t\t  Test_02.ipynb\r\n",
      "pheno-data-demo.ipynb\t\t  torch-test.ipynb\r\n",
      "pheno-data-demo-v1-updated.ipynb\r\n"
     ]
    }
   ],
   "source": [
    "# Check if the file is in the Cloud Environment VM\n",
    "! ls"
   ]
  },
  {
   "cell_type": "code",
   "execution_count": 4,
   "metadata": {
    "code_folding": []
   },
   "outputs": [
    {
     "data": {
      "text/html": [
       "<div>\n",
       "<style scoped>\n",
       "    .dataframe tbody tr th:only-of-type {\n",
       "        vertical-align: middle;\n",
       "    }\n",
       "\n",
       "    .dataframe tbody tr th {\n",
       "        vertical-align: top;\n",
       "    }\n",
       "\n",
       "    .dataframe thead th {\n",
       "        text-align: right;\n",
       "    }\n",
       "</style>\n",
       "<table border=\"1\" class=\"dataframe\">\n",
       "  <thead>\n",
       "    <tr style=\"text-align: right;\">\n",
       "      <th></th>\n",
       "      <th>pheno-data-id</th>\n",
       "      <th>age</th>\n",
       "      <th>bmi_baseline</th>\n",
       "      <th>dbgap_accession_number</th>\n",
       "      <th>height_baseline</th>\n",
       "      <th>ldl</th>\n",
       "      <th>lhdl</th>\n",
       "      <th>population</th>\n",
       "      <th>program_name</th>\n",
       "      <th>sample_specimen_id</th>\n",
       "      <th>sex</th>\n",
       "      <th>total_cholesterol</th>\n",
       "      <th>triglycerides</th>\n",
       "    </tr>\n",
       "  </thead>\n",
       "  <tbody>\n",
       "    <tr>\n",
       "      <th>0</th>\n",
       "      <td>HG00096</td>\n",
       "      <td>75</td>\n",
       "      <td>25.3</td>\n",
       "      <td>synthetic_data_set_1</td>\n",
       "      <td>181.9</td>\n",
       "      <td>105.968</td>\n",
       "      <td>91.179</td>\n",
       "      <td>GBR</td>\n",
       "      <td>tutorial</td>\n",
       "      <td>HG00096_sample</td>\n",
       "      <td>male</td>\n",
       "      <td>243.646</td>\n",
       "      <td>62.498</td>\n",
       "    </tr>\n",
       "    <tr>\n",
       "      <th>1</th>\n",
       "      <td>HG00097</td>\n",
       "      <td>63</td>\n",
       "      <td>26.9</td>\n",
       "      <td>synthetic_data_set_1</td>\n",
       "      <td>171.4</td>\n",
       "      <td>114.580</td>\n",
       "      <td>60.695</td>\n",
       "      <td>GBR</td>\n",
       "      <td>tutorial</td>\n",
       "      <td>HG00097_sample</td>\n",
       "      <td>female</td>\n",
       "      <td>356.595</td>\n",
       "      <td>197.320</td>\n",
       "    </tr>\n",
       "    <tr>\n",
       "      <th>2</th>\n",
       "      <td>HG00099</td>\n",
       "      <td>48</td>\n",
       "      <td>23.9</td>\n",
       "      <td>synthetic_data_set_1</td>\n",
       "      <td>187.7</td>\n",
       "      <td>52.246</td>\n",
       "      <td>56.254</td>\n",
       "      <td>GBR</td>\n",
       "      <td>tutorial</td>\n",
       "      <td>HG00099_sample</td>\n",
       "      <td>female</td>\n",
       "      <td>263.123</td>\n",
       "      <td>170.623</td>\n",
       "    </tr>\n",
       "    <tr>\n",
       "      <th>3</th>\n",
       "      <td>HG00100</td>\n",
       "      <td>46</td>\n",
       "      <td>24.3</td>\n",
       "      <td>synthetic_data_set_1</td>\n",
       "      <td>174.6</td>\n",
       "      <td>88.706</td>\n",
       "      <td>63.895</td>\n",
       "      <td>GBR</td>\n",
       "      <td>tutorial</td>\n",
       "      <td>HG00100_sample</td>\n",
       "      <td>female</td>\n",
       "      <td>255.708</td>\n",
       "      <td>119.108</td>\n",
       "    </tr>\n",
       "    <tr>\n",
       "      <th>4</th>\n",
       "      <td>HG00101</td>\n",
       "      <td>37</td>\n",
       "      <td>24.9</td>\n",
       "      <td>synthetic_data_set_1</td>\n",
       "      <td>176.0</td>\n",
       "      <td>109.677</td>\n",
       "      <td>85.614</td>\n",
       "      <td>GBR</td>\n",
       "      <td>tutorial</td>\n",
       "      <td>HG00101_sample</td>\n",
       "      <td>male</td>\n",
       "      <td>226.317</td>\n",
       "      <td>47.026</td>\n",
       "    </tr>\n",
       "  </tbody>\n",
       "</table>\n",
       "</div>"
      ],
      "text/plain": [
       "  pheno-data-id  age  bmi_baseline dbgap_accession_number  height_baseline  \\\n",
       "0       HG00096   75          25.3   synthetic_data_set_1            181.9   \n",
       "1       HG00097   63          26.9   synthetic_data_set_1            171.4   \n",
       "2       HG00099   48          23.9   synthetic_data_set_1            187.7   \n",
       "3       HG00100   46          24.3   synthetic_data_set_1            174.6   \n",
       "4       HG00101   37          24.9   synthetic_data_set_1            176.0   \n",
       "\n",
       "       ldl    lhdl population program_name sample_specimen_id     sex  \\\n",
       "0  105.968  91.179        GBR     tutorial     HG00096_sample    male   \n",
       "1  114.580  60.695        GBR     tutorial     HG00097_sample  female   \n",
       "2   52.246  56.254        GBR     tutorial     HG00099_sample  female   \n",
       "3   88.706  63.895        GBR     tutorial     HG00100_sample  female   \n",
       "4  109.677  85.614        GBR     tutorial     HG00101_sample    male   \n",
       "\n",
       "   total_cholesterol  triglycerides  \n",
       "0            243.646         62.498  \n",
       "1            356.595        197.320  \n",
       "2            263.123        170.623  \n",
       "3            255.708        119.108  \n",
       "4            226.317         47.026  "
      ]
     },
     "execution_count": 4,
     "metadata": {},
     "output_type": "execute_result"
    }
   ],
   "source": [
    "# Get all of the phenotype data and load into a pandas dataframe\n",
    "samples = pd.read_csv(\"demo-pheno-data.txt\", sep='\\t')\n",
    "samples.rename(columns = {'entity:sample_id':'sample'}, inplace = True)\n",
    "\n",
    "# Take a look at the top of our table\n",
    "samples.head()"
   ]
  },
  {
   "cell_type": "code",
   "execution_count": 5,
   "metadata": {},
   "outputs": [
    {
     "name": "stdout",
     "output_type": "stream",
     "text": [
      "demo-pheno-data.txt\t\t  pheno-data-demo-v2.ipynb\r\n",
      "gpu_tests_verily_01.ipynb\t  scVI-test.ipynb\r\n",
      "ML_Test_1.ipynb\t\t\t  tensorflow_test_01.ipynb\r\n",
      "ML_Test_Torch.ipynb\t\t  Test_02.ipynb\r\n",
      "pheno-data-demo.ipynb\t\t  torch-test.ipynb\r\n",
      "pheno-data-demo-v1-updated.ipynb\r\n"
     ]
    }
   ],
   "source": [
    "! ls"
   ]
  },
  {
   "cell_type": "markdown",
   "metadata": {},
   "source": [
    "# Examine phenotype data\n",
    "----\n",
    "\n",
    "Let's take a look at the phenotype distributions. In a GWAS - and statistical genetics more generally - we should always be on the lookout for correlations within our dataset. Correlations between phenotypic values can confound our analysis, leading to results that may not represent true genetic associations with our traits. Exploring these relationships may help in choosing a reasonable set of covariates to model.    \n",
    "\n",
    "We've included a number of plotting functions below to make this as easy as possible. Feel free to modify - or write your own functions - as you explore the data. \n",
    "\n",
    "\n",
    "## Goals of this section\n",
    "----\n",
    "    \n",
    "1. Visualize the distribution of phenotype values  \n",
    "    - Within each continuous trait (using the kdplot function)  \n",
    "    - Within each continuous trait, organized by dichotomous data (ex: the distribution of BMI in each ancestry group - using the boxPlot function)  \n",
    "    - Between two continuous traits (with the bivariateDistributionPlot function)\n",
    "2. Determine whether trait distributions follow patterns we might expect"
   ]
  },
  {
   "cell_type": "markdown",
   "metadata": {},
   "source": [
    "## Code for plotting functions\n",
    "    \n",
    "The next code block defines the plotting functions. Because running the plotting functions doesn't require understanding the syntax of the code, we have collapsed this block. Feel free to uncollapse (click the purple arrow at the right) if you're interested in all the details!"
   ]
  },
  {
   "cell_type": "code",
   "execution_count": 6,
   "metadata": {
    "code_folding": []
   },
   "outputs": [],
   "source": [
    "# Define functions to easily plot phenotypes\n",
    "plt.rcParams[\"figure.figsize\"] = [6,4]\n",
    "    \n",
    "# Visualize distribution with each continuous trait\n",
    "def kdPlot(data, var):\n",
    "    sns.set_style(\"whitegrid\")\n",
    "    sns.set_context(\"poster\", \n",
    "                    font_scale = 0.9, \n",
    "                    rc={\"grid.linewidth\": 0.6, 'lines.linewidth': 1.6})\n",
    "    sns.distplot(data[(var)])\n",
    "    \n",
    "# Visualize the distribution between two continuous traits\n",
    "def bivariateDistributionPlot(data, var1, var2, kind = \"scatter\"):\n",
    "    with sns.axes_style(\"whitegrid\"):\n",
    "        jplot = sns.jointplot(x = data[var1], y = data[var2], kind=kind, color=\"k\", s=1)\n",
    "        jplot.set_axis_labels(var1, var2)\n",
    "        \n",
    "# Visualize within each continuous trait, organized by dichotomous data\n",
    "def boxPlot(data, catagorical_var, continuous_var, color_by = None, force_x = False, force_color = False):\n",
    "    make_plot = True\n",
    "    if len(data[catagorical_var].unique().tolist()) > 10 and force_x is not True:\n",
    "        make_plot = False\n",
    "        print(\"catagorical_var must be catagorical. If you insist on using these x values, set force_x = True.\")\n",
    "    if color_by is not None:\n",
    "        if len(data[color_by].unique()) > 5 and force_color is not True:\n",
    "            make_plot = False\n",
    "            print(\"color_by column must be catagorical. If you insist on using these values, set force_color = True.\")\n",
    "    \n",
    "    if (make_plot is True):\n",
    "        sns.set_style(\"whitegrid\")\n",
    "        sns.set_context(\"poster\", \n",
    "                        font_scale = 0.7, \n",
    "                        rc={\"grid.linewidth\": 0.6, 'lines.linewidth': 1.6})\n",
    "        sns.boxplot(x = catagorical_var, \n",
    "                    y = continuous_var, \n",
    "                    hue = color_by, \n",
    "                    data = data, \n",
    "                    palette = [\"#275F9A\", \"#A2C353\"],\n",
    "                    saturation = 1)\n",
    "        plt.legend(bbox_to_anchor=(1.05, 1), loc=2, borderaxespad=0.)\n"
   ]
  },
  {
   "cell_type": "markdown",
   "metadata": {},
   "source": [
    "## Generating distribution plots"
   ]
  },
  {
   "cell_type": "markdown",
   "metadata": {},
   "source": [
    "<img src=\"https://raw.githubusercontent.com/tmajaria/ashg_2019_workshop/master/ldl_kdplot.png\" align=\"left\" width=\"20%\">\n",
    "\n",
    "***Univariate distributions*** are easily visualized in histograms or density plots. We provide a function (<font color='red'>kdplot</font>) that will generate both types of plots, overlayed in a single figure. A continuously-valued variable corresponding to a column in the phenotype dataframe should be used as input, *ldl* in this example. The function is called with the following syntax:\n",
    "\n",
    "```python\n",
    "kdPlot(samples, var = \"ldl\")\n",
    "```"
   ]
  },
  {
   "cell_type": "markdown",
   "metadata": {},
   "source": [
    "<img src=\"https://raw.githubusercontent.com/tmajaria/ashg_2019_workshop/master/whr_hdl_bivariateDistributionPlot.png\" align=\"left\" width=\"20%\"> \n",
    "\n",
    "***Bivariate distributions*** can be visualized using a scatterplot. Use the function <font color='red'>bivariateDistributionPlot</font> to visualize two continuously values variables. The *type* argument determines the type of plot generated and can be one of: \"scatter\", \"reg\", \"resid\", \"kde\", and \"hex\".\n",
    "\n",
    "```python\n",
    "bivariateDistributionPlot(samples, var1 = \"hdl\", var2 = \"whr\", kind = \"scatter\")\n",
    "```"
   ]
  },
  {
   "cell_type": "markdown",
   "metadata": {},
   "source": [
    "<img src=\"https://raw.githubusercontent.com/tmajaria/ashg_2019_workshop/master/height_ancestry_boxPlot.png\" align=\"left\" width=\"20%\">\n",
    "\n",
    "***Boxplots*** can be used to further interogate relationships between continuous and categorical variables, using the <font color='red'>boxPlot</font> function. Distributions can be further subset by sex (by setting *color_by* = \"sex\").\n",
    "\n",
    "```python\n",
    "boxPlot(samples, catagorical_var = \"population\", continuous_var = \"height\", color_by = \"sex\")\n",
    "```"
   ]
  },
  {
   "cell_type": "markdown",
   "metadata": {},
   "source": [
    "### Exercise: Univariate distributions\n",
    "\n",
    "Use the code cells below to plot the distribution of single variables of your choice (such as ldl or bmi). You may need to refer to section 3.2 above for the list of variables and to section 4.1 for the plotting syntax. "
   ]
  },
  {
   "cell_type": "code",
   "execution_count": 7,
   "metadata": {},
   "outputs": [
    {
     "name": "stderr",
     "output_type": "stream",
     "text": [
      "/opt/conda/lib/python3.7/site-packages/seaborn/distributions.py:2619: FutureWarning: `distplot` is a deprecated function and will be removed in a future version. Please adapt your code to use either `displot` (a figure-level function with similar flexibility) or `histplot` (an axes-level function for histograms).\n",
      "  warnings.warn(msg, FutureWarning)\n"
     ]
    },
    {
     "data": {
      "image/png": "[encoded data removed]",
      "text/plain": [
       "<Figure size 432x288 with 1 Axes>"
      ]
     },
     "metadata": {},
     "output_type": "display_data"
    }
   ],
   "source": [
    "kdPlot(samples, var = \"ldl\")"
   ]
  },
  {
   "cell_type": "code",
   "execution_count": null,
   "metadata": {},
   "outputs": [],
   "source": []
  },
  {
   "cell_type": "markdown",
   "metadata": {},
   "source": [
    "### Exercise: Bivariate distributions\n",
    "\n",
    "Generate scatter plots with different combinations of variables. Think about what you would expect versus what you see in the plot. You may need to refer to 3.2 for the list of variables and to section 4.1 for the plotting syntax. "
   ]
  },
  {
   "cell_type": "code",
   "execution_count": 8,
   "metadata": {},
   "outputs": [
    {
     "data": {
      "image/png": "[encoded data removed]",
      "text/plain": [
       "<Figure size 432x432 with 3 Axes>"
      ]
     },
     "metadata": {},
     "output_type": "display_data"
    }
   ],
   "source": [
    "bivariateDistributionPlot(samples, var1 = \"bmi_baseline\", var2 = \"ldl\", kind = \"scatter\")"
   ]
  },
  {
   "cell_type": "code",
   "execution_count": null,
   "metadata": {},
   "outputs": [],
   "source": []
  },
  {
   "cell_type": "markdown",
   "metadata": {},
   "source": [
    "### Exercise: Boxplots \n",
    "\n",
    "Boxplots show relationships between continuous and categorical variables. Use the code cell below to generate a boxplot showing the relationship between height and ancestry. Try adding sex as another delineator with the `color_by` argument. You may need to refer to 3.2 for the list of variables and to section 4.1 for the plotting syntax.\n",
    "\n",
    "In the next code block, try a boxplot with variables of your choice."
   ]
  },
  {
   "cell_type": "code",
   "execution_count": 9,
   "metadata": {},
   "outputs": [
    {
     "data": {
      "image/png": "[encoded data removed]",
      "text/plain": [
       "<Figure size 432x288 with 1 Axes>"
      ]
     },
     "metadata": {},
     "output_type": "display_data"
    }
   ],
   "source": [
    "boxPlot(samples, catagorical_var = \"population\", continuous_var = \"height_baseline\", color_by = \"sex\", force_x = True)"
   ]
  },
  {
   "cell_type": "code",
   "execution_count": null,
   "metadata": {},
   "outputs": [],
   "source": []
  }
 ],
 "metadata": {
  "kernelspec": {
   "display_name": "Python 3",
   "language": "python",
   "name": "python3"
  },
  "language_info": {
   "codemirror_mode": {
    "name": "ipython",
    "version": 3
   },
   "file_extension": ".py",
   "mimetype": "text/x-python",
   "name": "python",
   "nbconvert_exporter": "python",
   "pygments_lexer": "ipython3",
   "version": "3.7.10"
  },
  "toc": {
   "base_numbering": 1,
   "nav_menu": {},
   "number_sections": true,
   "sideBar": true,
   "skip_h1_title": false,
   "title_cell": "Table of Contents",
   "title_sidebar": "Contents",
   "toc_cell": false,
   "toc_position": {
    "height": "calc(100% - 180px)",
    "left": "10px",
    "top": "150px",
    "width": "258.641px"
   },
   "toc_section_display": true,
   "toc_window_display": true
  }
 },
 "nbformat": 4,
 "nbformat_minor": 2
}
