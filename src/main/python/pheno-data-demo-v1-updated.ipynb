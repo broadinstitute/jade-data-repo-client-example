{
 "cells": [
  {
   "cell_type": "markdown",
   "metadata": {},
   "source": [
    "# Introduction"
   ]
  },
  {
   "cell_type": "markdown",
   "metadata": {},
   "source": [
    "This notebook demonstrates typical initial steps to exploring phenotype distributions. It has been written to be interactive, allowing you to make choices as you go."
   ]
  },
  {
   "cell_type": "markdown",
   "metadata": {},
   "source": [
    "## Data disclaimer\n",
    "----\n",
    "\n",
    "All data in this notebook (and this workspace) are publicly available thanks to the effort of many dedicated individuals: \n",
    "\n",
    "- Genotype and some phenotypic data were produced by the [1000 Genomes Project (phase 3)](https://www.internationalgenome.org/)\n",
    "\n",
    "- Individual phenotypes were modeling using the [GCTA software](cnsgenomics.com/software/gcta) and variant-level summary statistics from [MAGIC](https://www.magicinvestigators.org/), the [GIANT Consortium](https://portals.broadinstitute.org/collaboration/giant/index.php/Main_Page), the [UK Biobank](https://www.ukbiobank.ac.uk/), and the [MVP](https://www.research.va.gov/mvp/)  \n",
    "\n",
    "Phenotypes were modeled to reflect the actual genetic architecture of these complex traits as closely as possible. Most single variant association results should correspond well to published GWAS, but others may not. **Results produced from these data should not be taken as representing real, replicable genetic associations. These data are provided for demonstration and training purposes only.**"
   ]
  },
  {
   "cell_type": "markdown",
   "metadata": {},
   "source": [
    "## Load Python packages\n",
    "----\n",
    "\n",
    "* **Pandas & Numpy** - packages for data analysis  \n",
    "* **Pprint** - for pretty printing  \n",
    "* **Matplotlib & Seaborn** - for plotting  \n",
    "\n",
    "To see the entire list of Python packages, click the purple arrow to the right below."
   ]
  },
  {
   "cell_type": "code",
   "execution_count": null,
   "metadata": {
    "code_folding": []
   },
   "outputs": [],
   "source": [
    "%%capture \n",
    "import pandas as pd\n",
    "import numpy as np\n",
    "from pprint import pprint\n",
    "import matplotlib.pyplot as plt\n",
    "import seaborn as sns\n",
    "import json\n",
    "import os\n",
    "import uuid\n",
    "import urllib"
   ]
  },
  {
   "cell_type": "code",
   "execution_count": null,
   "metadata": {
    "code_folding": []
   },
   "outputs": [],
   "source": [
    "# Paste in the JWT token obtained via Azure B2C\n",
    "token = \"\"\n",
    "# Paste snapshot ID generated from the AzureY1Demo notebook\n",
    "snapshot_id = \"\""
   ]
  },
  {
   "cell_type": "markdown",
   "metadata": {},
   "source": [
    "# Load phenotypes \n",
    "\n",
    "Phenotypic data for each individual in the study are stored in Azure TDR. To analyze inside this notebook, we have to explicitly load the data in our notebook environment. "
   ]
  },
  {
   "cell_type": "markdown",
   "metadata": {},
   "source": [
    "## Retrieve TDR snapshot and copy parquet data to the notebook\n",
    "\n",
    "Note: this duplicates some functionality from the `AzureY1Demo` notebook. Omit this step if the parquet file has already been copied to the notebook disk."
   ]
  },
  {
   "cell_type": "code",
   "execution_count": null,
   "metadata": {},
   "outputs": [],
   "source": [
    "from data_repo_client import Configuration\n",
    "from data_repo_client import ApiClient\n",
    "from data_repo_client import SnapshotsApi\n",
    "\n",
    "# Set up configuration\n",
    "config = Configuration()\n",
    "config.host=\"https://jade-nm.datarepo-dev.broadinstitute.org/\"\n",
    "config.access_token = token\n",
    "api_client = ApiClient(configuration=config)\n",
    "api_client.client_side_validation = False\n",
    "local_parquet_dir = \"/tmp/az\"\n",
    "\n",
    "# Create required API Clients\n",
    "snapshots_api = SnapshotsApi(api_client=api_client)\n",
    "\n",
    "# Copy parquet data from TDR\n",
    "snapshot = snapshots_api.retrieve_snapshot(snapshot_id, include=[\"ACCESS_INFORMATION\"])\n",
    "table = next(iter(snapshot.access_information.parquet.tables), lambda t: t.name == \"demo_pheno_data\")\n",
    "os.system(\"rm -r %s/%s.parquet\" % (local_parquet_dir, table.name))\n",
    "os.system(\"azcopy cp '%s?%s' '%s' --recursive\" % (table.url, table.sas_token, local_parquet_dir))"
   ]
  },
  {
   "cell_type": "markdown",
   "metadata": {},
   "source": [
    "## Load phenotype data\n",
    "\n",
    "Load phenotype data into a pandas dataframe. The columns correspond to:  \n",
    "\n",
    "* **sample:** a unique label for each individual sample in our dataset\n",
    "* **age:** numerical age of the individual at the time of each phenotype measure\n",
    "* **ancestry:** superpopulation group of each individual\n",
    "  * AFR: African\n",
    "  * AMR: Ad Mixed American\n",
    "  * EAS: East Asian\n",
    "  * EUR: European\n",
    "  * SAS: South Asian\n",
    "* **bmi:** body mass index\n",
    "* **fg:** fasting glucose\n",
    "* **fi:** fasting insulin\n",
    "* **hdl:** high density lipoprotein\n",
    "* **height:** standing height\n",
    "* **ldl:** low density lipoprotein\n",
    "* **population:** population of each sample, see [1000 Genomes description](https://www.internationalgenome.org/category/population/)\n",
    "* **sex:** biological sex\n",
    "* **tc:** total cholesteral\n",
    "* **tg:** total triglycerides\n",
    "* **whr:** waist-to-hip ratio"
   ]
  },
  {
   "cell_type": "code",
   "execution_count": null,
   "metadata": {},
   "outputs": [],
   "source": [
    "samples = pd.read_parquet(\"%s/%s.parquet\" % (local_parquet_dir, table.name))\n",
    "samples = samples.drop(columns=[\"datarepo_row_id\"])\n",
    "samples.head(10)"
   ]
  },
  {
   "cell_type": "markdown",
   "metadata": {},
   "source": [
    "# Examine phenotype data\n",
    "----\n",
    "\n",
    "Let's take a look at the phenotype distributions. In a GWAS - and statistical genetics more generally - we should always be on the lookout for correlations within our dataset. Correlations between phenotypic values can confound our analysis, leading to results that may not represent true genetic associations with our traits. Exploring these relationships may help in choosing a reasonable set of covariates to model.    \n",
    "\n",
    "We've included a number of plotting functions below to make this as easy as possible. Feel free to modify - or write your own functions - as you explore the data. \n",
    "\n",
    "\n",
    "## Goals of this section\n",
    "----\n",
    "    \n",
    "1. Visualize the distribution of phenotype values  \n",
    "    - Within each continuous trait (using the kdplot function)  \n",
    "    - Within each continuous trait, organized by dichotomous data (ex: the distribution of BMI in each ancestry group - using the boxPlot function)  \n",
    "    - Between two continuous traits (with the bivariateDistributionPlot function)\n",
    "2. Determine whether trait distributions follow patterns we might expect"
   ]
  },
  {
   "cell_type": "markdown",
   "metadata": {},
   "source": [
    "## Code for plotting functions\n",
    "    \n",
    "The next code block defines the plotting functions. Because running the plotting functions doesn't require understanding the syntax of the code, we have collapsed this block. Feel free to uncollapse (click the purple arrow at the right) if you're interested in all the details!"
   ]
  },
  {
   "cell_type": "code",
   "execution_count": null,
   "metadata": {
    "code_folding": []
   },
   "outputs": [],
   "source": [
    "# Define functions to easily plot phenotypes\n",
    "plt.rcParams[\"figure.figsize\"] = [6,4]\n",
    "    \n",
    "# Visualize distribution with each continuous trait\n",
    "def kdPlot(data, var):\n",
    "    sns.set_style(\"whitegrid\")\n",
    "    sns.set_context(\"poster\", \n",
    "                    font_scale = 0.9, \n",
    "                    rc={\"grid.linewidth\": 0.6, 'lines.linewidth': 1.6})\n",
    "    sns.distplot(data[(var)])\n",
    "    \n",
    "# Visualize the distribution between two continuous traits\n",
    "def bivariateDistributionPlot(data, var1, var2, kind = \"scatter\"):\n",
    "    with sns.axes_style(\"whitegrid\"):\n",
    "        jplot = sns.jointplot(x = data[var1], y = data[var2], kind=kind, color=\"k\", s=1)\n",
    "        jplot.set_axis_labels(var1, var2)\n",
    "        \n",
    "# Visualize within each continuous trait, organized by dichotomous data\n",
    "def boxPlot(data, catagorical_var, continuous_var, color_by = None, force_x = False, force_color = False):\n",
    "    make_plot = True\n",
    "    if len(data[catagorical_var].unique().tolist()) > 10 and force_x is not True:\n",
    "        make_plot = False\n",
    "        print(\"catagorical_var must be catagorical. If you insist on using these x values, set force_x = True.\")\n",
    "    if color_by is not None:\n",
    "        if len(data[color_by].unique()) > 5 and force_color is not True:\n",
    "            make_plot = False\n",
    "            print(\"color_by column must be catagorical. If you insist on using these values, set force_color = True.\")\n",
    "    \n",
    "    if (make_plot is True):\n",
    "        sns.set_style(\"whitegrid\")\n",
    "        sns.set_context(\"poster\", \n",
    "                        font_scale = 0.7, \n",
    "                        rc={\"grid.linewidth\": 0.6, 'lines.linewidth': 1.6})\n",
    "        sns.boxplot(x = catagorical_var, \n",
    "                    y = continuous_var, \n",
    "                    hue = color_by, \n",
    "                    data = data, \n",
    "                    palette = [\"#275F9A\", \"#A2C353\"],\n",
    "                    saturation = 1)\n",
    "        plt.legend(bbox_to_anchor=(1.05, 1), loc=2, borderaxespad=0.)\n"
   ]
  },
  {
   "cell_type": "markdown",
   "metadata": {},
   "source": [
    "## Generating distribution plots"
   ]
  },
  {
   "cell_type": "markdown",
   "metadata": {},
   "source": [
    "<img src=\"https://raw.githubusercontent.com/tmajaria/ashg_2019_workshop/master/ldl_kdplot.png\" align=\"left\" width=\"20%\">\n",
    "\n",
    "***Univariate distributions*** are easily visualized in histograms or density plots. We provide a function (<font color='red'>kdplot</font>) that will generate both types of plots, overlayed in a single figure. A continuously-valued variable corresponding to a column in the phenotype dataframe should be used as input, *ldl* in this example. The function is called with the following syntax:\n",
    "\n",
    "```python\n",
    "kdPlot(samples, var = \"ldl\")\n",
    "```"
   ]
  },
  {
   "cell_type": "markdown",
   "metadata": {},
   "source": [
    "<img src=\"https://raw.githubusercontent.com/tmajaria/ashg_2019_workshop/master/whr_hdl_bivariateDistributionPlot.png\" align=\"left\" width=\"20%\"> \n",
    "\n",
    "***Bivariate distributions*** can be visualized using a scatterplot. Use the function <font color='red'>bivariateDistributionPlot</font> to visualize two continuously values variables. The *type* argument determines the type of plot generated and can be one of: \"scatter\", \"reg\", \"resid\", \"kde\", and \"hex\".\n",
    "\n",
    "```python\n",
    "bivariateDistributionPlot(samples, var1 = \"hdl\", var2 = \"whr\", kind = \"scatter\")\n",
    "```"
   ]
  },
  {
   "cell_type": "markdown",
   "metadata": {},
   "source": [
    "<img src=\"https://raw.githubusercontent.com/tmajaria/ashg_2019_workshop/master/height_ancestry_boxPlot.png\" align=\"left\" width=\"20%\">\n",
    "\n",
    "***Boxplots*** can be used to further interogate relationships between continuous and categorical variables, using the <font color='red'>boxPlot</font> function. Distributions can be further subset by sex (by setting *color_by* = \"sex\").\n",
    "\n",
    "```python\n",
    "boxPlot(samples, catagorical_var = \"population\", continuous_var = \"height\", color_by = \"sex\")\n",
    "```"
   ]
  },
  {
   "cell_type": "markdown",
   "metadata": {},
   "source": [
    "### Exercise: Univariate distributions\n",
    "\n",
    "Use the code cells below to plot the distribution of single variables of your choice (such as ldl or bmi). You may need to refer to section 3.2 above for the list of variables and to section 4.1 for the plotting syntax. "
   ]
  },
  {
   "cell_type": "code",
   "execution_count": null,
   "metadata": {},
   "outputs": [],
   "source": [
    "kdPlot(samples, var = \"ldl\")"
   ]
  },
  {
   "cell_type": "code",
   "execution_count": null,
   "metadata": {},
   "outputs": [],
   "source": []
  },
  {
   "cell_type": "markdown",
   "metadata": {},
   "source": [
    "### Exercise: Bivariate distributions\n",
    "\n",
    "Generate scatter plots with different combinations of variables. Think about what you would expect versus what you see in the plot. You may need to refer to 3.2 for the list of variables and to section 4.1 for the plotting syntax. "
   ]
  },
  {
   "cell_type": "code",
   "execution_count": null,
   "metadata": {},
   "outputs": [],
   "source": [
    "bivariateDistributionPlot(samples, var1 = \"bmi_baseline\", var2 = \"ldl\", kind = \"scatter\")"
   ]
  },
  {
   "cell_type": "code",
   "execution_count": null,
   "metadata": {},
   "outputs": [],
   "source": []
  },
  {
   "cell_type": "markdown",
   "metadata": {},
   "source": [
    "### Exercise: Boxplots \n",
    "\n",
    "Boxplots show relationships between continuous and categorical variables. Use the code cell below to generate a boxplot showing the relationship between height and ancestry. Try adding sex as another delineator with the `color_by` argument. You may need to refer to 3.2 for the list of variables and to section 4.1 for the plotting syntax.\n",
    "\n",
    "In the next code block, try a boxplot with variables of your choice."
   ]
  },
  {
   "cell_type": "code",
   "execution_count": null,
   "metadata": {},
   "outputs": [],
   "source": [
    "boxPlot(samples, catagorical_var = \"population\", continuous_var = \"height_baseline\", color_by = \"sex\", force_x = True)"
   ]
  },
  {
   "cell_type": "markdown",
   "metadata": {},
   "source": [
    "# Look at IGV\n",
    "----\n",
    "\n",
    "Just for fun, let's use the `igv-jupyter` notebook extension to look at genotype information for 1 sample.\n"
   ]
  },
  {
   "cell_type": "code",
   "execution_count": null,
   "metadata": {},
   "outputs": [],
   "source": [
    "# Get the DRS URLs from the sample table\n",
    "bam_file = samples.at[0, 'bam_file']\n",
    "bam_file_index = samples.at[0, 'bam_file_index']\n",
    "\n",
    "print(f'bam_file: {bam_file}')\n",
    "print(f'bam_file_index: {bam_file_index}')"
   ]
  },
  {
   "cell_type": "code",
   "execution_count": null,
   "metadata": {},
   "outputs": [],
   "source": [
    "# Use terra-notebook-utils to resolve the DRS\n",
    "# TODO doesn't work, complains about gcloud at import time\n",
    "\n",
    "#from terra_notebook_utils import drs\n",
    "#drs.info(bam_file)\n",
    "#drs.access(bam_file)"
   ]
  },
  {
   "cell_type": "code",
   "execution_count": null,
   "metadata": {},
   "outputs": [],
   "source": [
    "# Call Martha to resolve the DRS\n",
    "# TODO this succeeds but doesn't return the access_url - why?\n",
    "\n",
    "#import requests\n",
    "#endpoint = 'https://us-central1-broad-dsde-dev.cloudfunctions.net/martha_v3'\n",
    "#data = {\"url\": bam_file}\n",
    "#headers = {\"Authorization\": f\"Bearer {token}\", \"Content-Type\": \"application/json\"}\n",
    "\n",
    "#requests.post(endpoint, data=json.dumps(data), headers=headers).json()"
   ]
  },
  {
   "cell_type": "code",
   "execution_count": null,
   "metadata": {},
   "outputs": [],
   "source": [
    "# Just resolve the DRS directly with TDR\n",
    "from data_repo_client import DataRepositoryServiceApi\n",
    "drs_api = DataRepositoryServiceApi(api_client=api_client)\n",
    "\n",
    "def get_access_url(drs):\n",
    "    drs_id = drs[drs.rfind(\"/\")+1:]\n",
    "    drs_object = drs_api.get_object(drs_id)\n",
    "    drs_access = drs_api.get_access_url(drs_id, drs_object.access_methods[0].access_id)\n",
    "    return drs_access.url\n",
    "\n",
    "bam_file_access_url = get_access_url(bam_file)\n",
    "bam_file_index_access_url = get_access_url(bam_file_index)\n",
    "\n",
    "print(f\"bam_file access: {bam_file_access_url}\")\n",
    "print(f\"bam_file_index access: {bam_file_index_access_url}\")"
   ]
  },
  {
   "cell_type": "code",
   "execution_count": null,
   "metadata": {},
   "outputs": [],
   "source": [
    "# Copy the files to the notebook disk\n",
    "! wget -O HG00096.chrom20.ILLUMINA.bwa.GBR.low_coverage.20101123.bam \"{bam_file_access_url}\"\n",
    "! wget -O HG00096.chrom20.ILLUMINA.bwa.GBR.low_coverage.20101123.bam.bai \"{bam_file_index_access_url}\""
   ]
  },
  {
   "cell_type": "code",
   "execution_count": null,
   "metadata": {},
   "outputs": [],
   "source": [
    "# Load up IGV\n",
    "import igv\n",
    "\n",
    "b = igv.Browser({\"genome\": \"hg38\"})\n",
    "\n",
    "b.load_track(\n",
    "  {\n",
    "    \"name\": \"HG00096.chrom20.ILLUMINA.bwa.GBR.low_coverage.20101123.bam\",\n",
    "    \"url\": \"HG00096.chrom20.ILLUMINA.bwa.GBR.low_coverage.20101123.bam\",\n",
    "    \"indexURL\": \"HG00096.chrom20.ILLUMINA.bwa.GBR.low_coverage.20101123.bam.bai\",\n",
    "    \"format\": \"bam\",\n",
    "    \"type\": \"alignment\"\n",
    "  }\n",
    ")\n",
    "\n",
    "b.search('chr20:32,214,217-32,229,950')\n",
    "\n",
    "b.show()"
   ]
  },
  {
   "cell_type": "code",
   "execution_count": null,
   "metadata": {},
   "outputs": [],
   "source": []
  }
 ],
 "metadata": {
  "kernelspec": {
   "display_name": "Python 3 (ipykernel)",
   "language": "python",
   "name": "python3"
  },
  "language_info": {
   "codemirror_mode": {
    "name": "ipython",
    "version": 3
   },
   "file_extension": ".py",
   "mimetype": "text/x-python",
   "name": "python",
   "nbconvert_exporter": "python",
   "pygments_lexer": "ipython3",
   "version": "3.8.10"
  },
  "toc": {
   "base_numbering": 1,
   "nav_menu": {},
   "number_sections": true,
   "sideBar": true,
   "skip_h1_title": false,
   "title_cell": "Table of Contents",
   "title_sidebar": "Contents",
   "toc_cell": false,
   "toc_position": {
    "height": "calc(100% - 180px)",
    "left": "10px",
    "top": "150px",
    "width": "258.641px"
   },
   "toc_section_display": true,
   "toc_window_display": true
  }
 },
 "nbformat": 4,
 "nbformat_minor": 4
}
