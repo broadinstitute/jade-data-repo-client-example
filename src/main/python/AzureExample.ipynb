{
 "cells": [
  {
   "cell_type": "markdown",
   "id": "composed-vacuum",
   "metadata": {},
   "source": [
    "# Terra Data Repository on Azure Year 1 Demo\n",
    "\n",
    "This notebook runs through the following steps:\n",
    "- Authenticate using B2C\n",
    "- Create an Azure *billing Profile* in TDR\n",
    "- Create a *dataset*\n",
    "- Ingest 1000 Genomes data into the *dataset*\n",
    "- Create a *snapshot* from the *dataset*\n",
    "- Read the the metadata from the *snapshot* into a Pandas data frame\n",
    "- Read a Drs object from the metadata and use it to access file data\n"
   ]
  },
  {
   "cell_type": "markdown",
   "id": "difficult-youth",
   "metadata": {},
   "source": [
    "## Import dependencies"
   ]
  },
  {
   "cell_type": "code",
   "execution_count": 1,
   "id": "ready-original",
   "metadata": {},
   "outputs": [],
   "source": [
    "%%capture\n",
    "import sys\n",
    "!{sys.executable} -m pip install --upgrade pip\n",
    "!{sys.executable} -m pip install pandas\n",
    "!{sys.executable} -m pip install --upgrade data_repo_client\n",
    "!{sys.executable} -m pip install pyarrow\n",
    "!{sys.executable} -m pip install fastparquet\n",
    "\n",
    "import pandas as pd\n",
    "import datetime, uuid, urllib, os, time\n",
    "from tdr_utils import TdrUtils\n",
    "import logging\n",
    "logger = logging.getLogger()\n",
    "logger.setLevel(logging.CRITICAL)\n",
    "from data_repo_client import ApiClient, ApiException, Configuration, DatasetsApi, SnapshotsApi, JobsApi, ResourcesApi, DataRepositoryServiceApi"
   ]
  },
  {
   "cell_type": "markdown",
   "id": "continuing-stomach",
   "metadata": {
    "pycharm": {
     "name": "#%% md\n"
    }
   },
   "source": [
    "## Set configuration\n",
    "\n",
    "Obtain a JWT by going through the auth flow here:\n",
    "\n",
    "https://terradevb2c.b2clogin.com/terradevb2c.onmicrosoft.com/b2c_1a_signup_signin_tdr/oauth2/v2.0/authorize?client_id=bbd07d43-01cb-4b69-8fd0-5746d9a5c9fe&nonce=defaultNonce&redirect_uri=https%3A%2F%2Fjwt.ms&scope=openid&response_type=id_token&prompt=login\n",
    "\n",
    "Save the JWT into the token field"
   ]
  },
  {
   "cell_type": "code",
   "execution_count": 10,
   "id": "ecological-facility",
   "metadata": {},
   "outputs": [],
   "source": [
    "# Set up configuration\n",
    "config = Configuration()\n",
    "config.host=\"http://localhost:8080\"\n",
    "# Paste in the JWT token obtained via the auth link above\n",
    "token=\"eyJhbGciOiJSUzI1NiIsImtpZCI6Inp4UnJ6aEw4OTBrYi1vVkZOWkdWUFlxSzYtSkI3RFRlTGVvMllTbzRtc1UiLCJ0eXAiOiJKV1QifQ.eyJ2ZXIiOiIxLjAiLCJpc3MiOiJodHRwczovL3RlcnJhZGV2YjJjLmIyY2xvZ2luLmNvbS9mZDBiYzBlZi0xNzQ3LTRlZTYtYWIzZS1kNGQ2YmI4ODJkNDAvdjIuMC8iLCJzdWIiOiJjNjljNmFiYi1mMzQ1LTRkMWYtOTdkMi1mODBkOWQ3ZjM2NTEiLCJhdWQiOiJiYmQwN2Q0My0wMWNiLTRiNjktOGZkMC01NzQ2ZDlhNWM5ZmUiLCJleHAiOjE2OTUxNTgyNzAsImFjciI6ImIyY18xYV9zaWdudXBfc2lnbmluX3RkciIsIm5vbmNlIjoiZGVmYXVsdE5vbmNlIiwiaWF0IjoxNjk1MTU0NjcwLCJhdXRoX3RpbWUiOjE2OTUxNTQ2NzAsImVtYWlsIjoic2hvbGRlbmRldkBnbWFpbC5jb20iLCJnaXZlbl9uYW1lIjoiU2hlbGJ5IiwiZmFtaWx5X25hbWUiOiJIb2xkZW4iLCJuYW1lIjoiU2hlbGJ5IEhvbGRlbiIsImlkcCI6Imdvb2dsZS5jb20iLCJpZHBfYWNjZXNzX3Rva2VuIjoieWEyOS5hMEFmQl9ieUFtOWZROENRMkVCbEFEeWJvOUxWYWJpZkRJV0dpc1V4NmQ0bTAyQVVaeVc3MFVnaFM1XzZrVUNCQkRkbGgtRGsyanRlaGlpb3ZaWGwzTXQ4SDFrbVRFU3FxNGFvMk1sWjZIeE1BbzIzX0doT1BYdTRENzlWNUpSNTRLelhVbzhhdjJMMFdYQm96SkxpanVaMThQRC1XTjZGV0lYa2xMdzNVeWw0VnEzUWhYb1lNYUNnWUtBUllTQVJJU0ZRR09jTm5DM1Y5WlZobkpwS2hMMERldnpEVjVqZzAxODYiLCJnb29nbGVfaWQiOiIxMDcyNDcxOTcxMTU2OTc0ODU0MjQiLCJwaWN0dXJlIjoiaHR0cHM6Ly9saDMuZ29vZ2xldXNlcmNvbnRlbnQuY29tL2EvQUNnOG9jSTd1dm9jRWlJNzQ1dFVXTVZoam9OeThMYTVoQWtEQVB6bldQdnpTekc5PXM5Ni1jIiwidGlkIjoiZmQwYmMwZWYtMTc0Ny00ZWU2LWFiM2UtZDRkNmJiODgyZDQwIiwibmJmIjoxNjk1MTU0NjcwfQ.sLLYruwdWsPWZ04lM5rKdoSXpKsJDRq0MwxAF9i_IEQIFtlg4D4pZ5aqIaTMtZkPhm84IqmOp0ZHpj8irevq5Z1zhzjFW9rKcWtFviaMH0hyqWrkhzQlN6HT28ujMqZAG4aLi0lM55cqMgFZKUQ03X-GHP4LtUMCBcYTCwO0LAXyEuuAOuS5fM1mhxzBfqgRkT9oAJ-me4yLk2UiFfFteo0nFffr84itPVREchVrK9I6zafJoro8HjUazIY5KFl7FbwrZnAOUavPxDEmCGLp3V9xrtdRklsx0YZWV1HE-OC_iqZaiEshBTUzlCux_vfCzCTKfyLDj0FOoTMhvvWdAQ\"\n",
    "config.access_token = token\n",
    "api_client = ApiClient(configuration=config)\n",
    "api_client.client_side_validation = False\n",
    "\n",
    "# Obtain a sas token for the folder that contains the source metadata to ingest\n",
    "ingest_sas_token = \"\"\n",
    "\n",
    "# Azure managed managed application configuration.  These are obtained from the Azure portal\n",
    "application_deployment_name = \"michael\"\n",
    "resource_group_name = \"TDR\"\n",
    "subscription_id = \"71d52ec1-5886-480a-9d6e-ed98cbf1f69f\"\n",
    "tenant_id = \"efc08443-0082-4d6c-8931-c5794c156abd\"\n",
    "\n",
    "# Enter a billing profile or leave blank to generate a new one when creating a new billing profile\n",
    "billing_profile_id = \"2444825a-733c-4306-ba16-c0f2423dc63e\"\n",
    "\n",
    "ingest_file_base = \"https://tdrtestdatauscentral.blob.core.windows.net/1000genomes/metadata\"\n",
    "\n",
    "local_parquet_dir = \"/tmp/az\"\n",
    "\n",
    "# Create required API Clients\n",
    "jobs_api = JobsApi(api_client=api_client)\n",
    "resources_api = ResourcesApi(api_client=api_client)\n",
    "datasets_api = DatasetsApi(api_client=api_client)\n",
    "snapshots_api = SnapshotsApi(api_client=api_client)\n",
    "drs_api = DataRepositoryServiceApi(api_client=api_client)\n",
    "tdr_utils = TdrUtils(jobs_api)"
   ]
  },
  {
   "cell_type": "markdown",
   "id": "urban-reduction",
   "metadata": {
    "pycharm": {
     "name": "#%% md\n"
    }
   },
   "source": [
    "## Create the Terra Data Repo billing profile\n",
    "This will check the current logged in user against the user specified when deploying the TDR managed application.  The following step can be skipped if a billing profile already exists in TDR that you wish to use.  Just be sure to record the billing profile id in the `billing_profile_id` variable."
   ]
  },
  {
   "cell_type": "code",
   "execution_count": 11,
   "id": "stylish-category",
   "metadata": {
    "pycharm": {
     "name": "#%%\n"
    }
   },
   "outputs": [
    {
     "data": {
      "text/html": [
       "<b>Running job \"Create billing profile 'azureprofile-michael'\" (vMWFjFdISJyObGo3ypZU5g): <span style=\"color:rgb(219, 50, 20);\">failed</span></b>"
      ],
      "text/plain": [
       "<IPython.core.display.HTML object>"
      ]
     },
     "metadata": {},
     "output_type": "display_data"
    },
    {
     "ename": "TypeError",
     "evalue": "Object of type ApiException is not JSON serializable",
     "output_type": "error",
     "traceback": [
      "\u001b[0;31m---------------------------------------------------------------------------\u001b[0m",
      "\u001b[0;31mApiException\u001b[0m                              Traceback (most recent call last)",
      "File \u001b[0;32m~/broad/jade-data-repo-client-example/src/main/python/tdr_utils.py:41\u001b[0m, in \u001b[0;36mTdrUtils.wait_for_job\u001b[0;34m(self, job_model)\u001b[0m\n\u001b[1;32m     40\u001b[0m \u001b[39mtry\u001b[39;00m:\n\u001b[0;32m---> 41\u001b[0m     result \u001b[39m=\u001b[39m \u001b[39mself\u001b[39;49m\u001b[39m.\u001b[39;49mjobs_api\u001b[39m.\u001b[39;49mretrieve_job_result(job_model\u001b[39m.\u001b[39;49mid)\n\u001b[1;32m     42\u001b[0m \u001b[39mexcept\u001b[39;00m ApiException \u001b[39mas\u001b[39;00m e:\n",
      "File \u001b[0;32m/usr/local/lib/python3.9/site-packages/data_repo_client/api/jobs_api.py:301\u001b[0m, in \u001b[0;36mJobsApi.retrieve_job_result\u001b[0;34m(self, id, **kwargs)\u001b[0m\n\u001b[1;32m    300\u001b[0m kwargs[\u001b[39m'\u001b[39m\u001b[39m_return_http_data_only\u001b[39m\u001b[39m'\u001b[39m] \u001b[39m=\u001b[39m \u001b[39mTrue\u001b[39;00m\n\u001b[0;32m--> 301\u001b[0m \u001b[39mreturn\u001b[39;00m \u001b[39mself\u001b[39;49m\u001b[39m.\u001b[39;49mretrieve_job_result_with_http_info(\u001b[39mid\u001b[39;49m, \u001b[39m*\u001b[39;49m\u001b[39m*\u001b[39;49mkwargs)\n",
      "File \u001b[0;32m/usr/local/lib/python3.9/site-packages/data_repo_client/api/jobs_api.py:376\u001b[0m, in \u001b[0;36mJobsApi.retrieve_job_result_with_http_info\u001b[0;34m(self, id, **kwargs)\u001b[0m\n\u001b[1;32m    374\u001b[0m auth_settings \u001b[39m=\u001b[39m [\u001b[39m'\u001b[39m\u001b[39mgoogleoauth\u001b[39m\u001b[39m'\u001b[39m, \u001b[39m'\u001b[39m\u001b[39moidc\u001b[39m\u001b[39m'\u001b[39m]  \u001b[39m# noqa: E501\u001b[39;00m\n\u001b[0;32m--> 376\u001b[0m \u001b[39mreturn\u001b[39;00m \u001b[39mself\u001b[39;49m\u001b[39m.\u001b[39;49mapi_client\u001b[39m.\u001b[39;49mcall_api(\n\u001b[1;32m    377\u001b[0m     \u001b[39m'\u001b[39;49m\u001b[39m/api/repository/v1/jobs/\u001b[39;49m\u001b[39m{id}\u001b[39;49;00m\u001b[39m/result\u001b[39;49m\u001b[39m'\u001b[39;49m, \u001b[39m'\u001b[39;49m\u001b[39mGET\u001b[39;49m\u001b[39m'\u001b[39;49m,\n\u001b[1;32m    378\u001b[0m     path_params,\n\u001b[1;32m    379\u001b[0m     query_params,\n\u001b[1;32m    380\u001b[0m     header_params,\n\u001b[1;32m    381\u001b[0m     body\u001b[39m=\u001b[39;49mbody_params,\n\u001b[1;32m    382\u001b[0m     post_params\u001b[39m=\u001b[39;49mform_params,\n\u001b[1;32m    383\u001b[0m     files\u001b[39m=\u001b[39;49mlocal_var_files,\n\u001b[1;32m    384\u001b[0m     response_type\u001b[39m=\u001b[39;49m\u001b[39m'\u001b[39;49m\u001b[39mobject\u001b[39;49m\u001b[39m'\u001b[39;49m,  \u001b[39m# noqa: E501\u001b[39;49;00m\n\u001b[1;32m    385\u001b[0m     auth_settings\u001b[39m=\u001b[39;49mauth_settings,\n\u001b[1;32m    386\u001b[0m     async_req\u001b[39m=\u001b[39;49mlocal_var_params\u001b[39m.\u001b[39;49mget(\u001b[39m'\u001b[39;49m\u001b[39masync_req\u001b[39;49m\u001b[39m'\u001b[39;49m),\n\u001b[1;32m    387\u001b[0m     _return_http_data_only\u001b[39m=\u001b[39;49mlocal_var_params\u001b[39m.\u001b[39;49mget(\u001b[39m'\u001b[39;49m\u001b[39m_return_http_data_only\u001b[39;49m\u001b[39m'\u001b[39;49m),  \u001b[39m# noqa: E501\u001b[39;49;00m\n\u001b[1;32m    388\u001b[0m     _preload_content\u001b[39m=\u001b[39;49mlocal_var_params\u001b[39m.\u001b[39;49mget(\u001b[39m'\u001b[39;49m\u001b[39m_preload_content\u001b[39;49m\u001b[39m'\u001b[39;49m, \u001b[39mTrue\u001b[39;49;00m),\n\u001b[1;32m    389\u001b[0m     _request_timeout\u001b[39m=\u001b[39;49mlocal_var_params\u001b[39m.\u001b[39;49mget(\u001b[39m'\u001b[39;49m\u001b[39m_request_timeout\u001b[39;49m\u001b[39m'\u001b[39;49m),\n\u001b[1;32m    390\u001b[0m     collection_formats\u001b[39m=\u001b[39;49mcollection_formats)\n",
      "File \u001b[0;32m/usr/local/lib/python3.9/site-packages/data_repo_client/api_client.py:364\u001b[0m, in \u001b[0;36mApiClient.call_api\u001b[0;34m(self, resource_path, method, path_params, query_params, header_params, body, post_params, files, response_type, auth_settings, async_req, _return_http_data_only, collection_formats, _preload_content, _request_timeout, _host)\u001b[0m\n\u001b[1;32m    363\u001b[0m \u001b[39mif\u001b[39;00m \u001b[39mnot\u001b[39;00m async_req:\n\u001b[0;32m--> 364\u001b[0m     \u001b[39mreturn\u001b[39;00m \u001b[39mself\u001b[39;49m\u001b[39m.\u001b[39;49m__call_api(resource_path, method,\n\u001b[1;32m    365\u001b[0m                            path_params, query_params, header_params,\n\u001b[1;32m    366\u001b[0m                            body, post_params, files,\n\u001b[1;32m    367\u001b[0m                            response_type, auth_settings,\n\u001b[1;32m    368\u001b[0m                            _return_http_data_only, collection_formats,\n\u001b[1;32m    369\u001b[0m                            _preload_content, _request_timeout, _host)\n\u001b[1;32m    371\u001b[0m \u001b[39mreturn\u001b[39;00m \u001b[39mself\u001b[39m\u001b[39m.\u001b[39mpool\u001b[39m.\u001b[39mapply_async(\u001b[39mself\u001b[39m\u001b[39m.\u001b[39m__call_api, (resource_path,\n\u001b[1;32m    372\u001b[0m                                                method, path_params,\n\u001b[1;32m    373\u001b[0m                                                query_params,\n\u001b[0;32m   (...)\u001b[0m\n\u001b[1;32m    381\u001b[0m                                                _request_timeout,\n\u001b[1;32m    382\u001b[0m                                                _host))\n",
      "File \u001b[0;32m/usr/local/lib/python3.9/site-packages/data_repo_client/api_client.py:188\u001b[0m, in \u001b[0;36mApiClient.__call_api\u001b[0;34m(self, resource_path, method, path_params, query_params, header_params, body, post_params, files, response_type, auth_settings, _return_http_data_only, collection_formats, _preload_content, _request_timeout, _host)\u001b[0m\n\u001b[1;32m    187\u001b[0m     e\u001b[39m.\u001b[39mbody \u001b[39m=\u001b[39m e\u001b[39m.\u001b[39mbody\u001b[39m.\u001b[39mdecode(\u001b[39m'\u001b[39m\u001b[39mutf-8\u001b[39m\u001b[39m'\u001b[39m) \u001b[39mif\u001b[39;00m six\u001b[39m.\u001b[39mPY3 \u001b[39melse\u001b[39;00m e\u001b[39m.\u001b[39mbody\n\u001b[0;32m--> 188\u001b[0m     \u001b[39mraise\u001b[39;00m e\n\u001b[1;32m    190\u001b[0m content_type \u001b[39m=\u001b[39m response_data\u001b[39m.\u001b[39mgetheader(\u001b[39m'\u001b[39m\u001b[39mcontent-type\u001b[39m\u001b[39m'\u001b[39m)\n",
      "File \u001b[0;32m/usr/local/lib/python3.9/site-packages/data_repo_client/api_client.py:181\u001b[0m, in \u001b[0;36mApiClient.__call_api\u001b[0;34m(self, resource_path, method, path_params, query_params, header_params, body, post_params, files, response_type, auth_settings, _return_http_data_only, collection_formats, _preload_content, _request_timeout, _host)\u001b[0m\n\u001b[1;32m    179\u001b[0m \u001b[39mtry\u001b[39;00m:\n\u001b[1;32m    180\u001b[0m     \u001b[39m# perform request and return response\u001b[39;00m\n\u001b[0;32m--> 181\u001b[0m     response_data \u001b[39m=\u001b[39m \u001b[39mself\u001b[39;49m\u001b[39m.\u001b[39;49mrequest(\n\u001b[1;32m    182\u001b[0m         method, url, query_params\u001b[39m=\u001b[39;49mquery_params, headers\u001b[39m=\u001b[39;49mheader_params,\n\u001b[1;32m    183\u001b[0m         post_params\u001b[39m=\u001b[39;49mpost_params, body\u001b[39m=\u001b[39;49mbody,\n\u001b[1;32m    184\u001b[0m         _preload_content\u001b[39m=\u001b[39;49m_preload_content,\n\u001b[1;32m    185\u001b[0m         _request_timeout\u001b[39m=\u001b[39;49m_request_timeout)\n\u001b[1;32m    186\u001b[0m \u001b[39mexcept\u001b[39;00m ApiException \u001b[39mas\u001b[39;00m e:\n",
      "File \u001b[0;32m/usr/local/lib/python3.9/site-packages/data_repo_client/api_client.py:389\u001b[0m, in \u001b[0;36mApiClient.request\u001b[0;34m(self, method, url, query_params, headers, post_params, body, _preload_content, _request_timeout)\u001b[0m\n\u001b[1;32m    388\u001b[0m \u001b[39mif\u001b[39;00m method \u001b[39m==\u001b[39m \u001b[39m\"\u001b[39m\u001b[39mGET\u001b[39m\u001b[39m\"\u001b[39m:\n\u001b[0;32m--> 389\u001b[0m     \u001b[39mreturn\u001b[39;00m \u001b[39mself\u001b[39;49m\u001b[39m.\u001b[39;49mrest_client\u001b[39m.\u001b[39;49mGET(url,\n\u001b[1;32m    390\u001b[0m                                 query_params\u001b[39m=\u001b[39;49mquery_params,\n\u001b[1;32m    391\u001b[0m                                 _preload_content\u001b[39m=\u001b[39;49m_preload_content,\n\u001b[1;32m    392\u001b[0m                                 _request_timeout\u001b[39m=\u001b[39;49m_request_timeout,\n\u001b[1;32m    393\u001b[0m                                 headers\u001b[39m=\u001b[39;49mheaders)\n\u001b[1;32m    394\u001b[0m \u001b[39melif\u001b[39;00m method \u001b[39m==\u001b[39m \u001b[39m\"\u001b[39m\u001b[39mHEAD\u001b[39m\u001b[39m\"\u001b[39m:\n",
      "File \u001b[0;32m/usr/local/lib/python3.9/site-packages/data_repo_client/rest.py:230\u001b[0m, in \u001b[0;36mRESTClientObject.GET\u001b[0;34m(self, url, headers, query_params, _preload_content, _request_timeout)\u001b[0m\n\u001b[1;32m    228\u001b[0m \u001b[39mdef\u001b[39;00m \u001b[39mGET\u001b[39m(\u001b[39mself\u001b[39m, url, headers\u001b[39m=\u001b[39m\u001b[39mNone\u001b[39;00m, query_params\u001b[39m=\u001b[39m\u001b[39mNone\u001b[39;00m, _preload_content\u001b[39m=\u001b[39m\u001b[39mTrue\u001b[39;00m,\n\u001b[1;32m    229\u001b[0m         _request_timeout\u001b[39m=\u001b[39m\u001b[39mNone\u001b[39;00m):\n\u001b[0;32m--> 230\u001b[0m     \u001b[39mreturn\u001b[39;00m \u001b[39mself\u001b[39;49m\u001b[39m.\u001b[39;49mrequest(\u001b[39m\"\u001b[39;49m\u001b[39mGET\u001b[39;49m\u001b[39m\"\u001b[39;49m, url,\n\u001b[1;32m    231\u001b[0m                         headers\u001b[39m=\u001b[39;49mheaders,\n\u001b[1;32m    232\u001b[0m                         _preload_content\u001b[39m=\u001b[39;49m_preload_content,\n\u001b[1;32m    233\u001b[0m                         _request_timeout\u001b[39m=\u001b[39;49m_request_timeout,\n\u001b[1;32m    234\u001b[0m                         query_params\u001b[39m=\u001b[39;49mquery_params)\n",
      "File \u001b[0;32m/usr/local/lib/python3.9/site-packages/data_repo_client/rest.py:224\u001b[0m, in \u001b[0;36mRESTClientObject.request\u001b[0;34m(self, method, url, query_params, headers, body, post_params, _preload_content, _request_timeout)\u001b[0m\n\u001b[1;32m    223\u001b[0m \u001b[39mif\u001b[39;00m \u001b[39mnot\u001b[39;00m \u001b[39m200\u001b[39m \u001b[39m<\u001b[39m\u001b[39m=\u001b[39m r\u001b[39m.\u001b[39mstatus \u001b[39m<\u001b[39m\u001b[39m=\u001b[39m \u001b[39m299\u001b[39m:\n\u001b[0;32m--> 224\u001b[0m     \u001b[39mraise\u001b[39;00m ApiException(http_resp\u001b[39m=\u001b[39mr)\n\u001b[1;32m    226\u001b[0m \u001b[39mreturn\u001b[39;00m r\n",
      "\u001b[0;31mApiException\u001b[0m: (400)\nReason: \nHTTP response headers: HTTPHeaderDict({'X-Request-ID': 'pVv7OY8p', 'Content-Type': 'application/json', 'Content-Length': '144', 'Date': 'Tue, 19 Sep 2023 20:54:48 GMT', 'Connection': 'close'})\nHTTP response body: {\"message\":\"The user 'sholdendev@gmail.com' needs access to deployed application 'michael' to perform the requested operation\",\"errorDetail\":[]}\n",
      "\nDuring handling of the above exception, another exception occurred:\n",
      "\u001b[0;31mTypeError\u001b[0m                                 Traceback (most recent call last)",
      "\u001b[1;32m/Users/sholden/broad/jade-data-repo-client-example/src/main/python/AzureExample.ipynb Cell 7\u001b[0m in \u001b[0;36m<cell line: 18>\u001b[0;34m()\u001b[0m\n\u001b[1;32m      <a href='vscode-notebook-cell:/Users/sholden/broad/jade-data-repo-client-example/src/main/python/AzureExample.ipynb#W6sZmlsZQ%3D%3D?line=2'>3</a>\u001b[0m     billing_profile_id \u001b[39m=\u001b[39m \u001b[39mstr\u001b[39m(uuid\u001b[39m.\u001b[39muuid4());\n\u001b[1;32m      <a href='vscode-notebook-cell:/Users/sholden/broad/jade-data-repo-client-example/src/main/python/AzureExample.ipynb#W6sZmlsZQ%3D%3D?line=4'>5</a>\u001b[0m profile_request \u001b[39m=\u001b[39m {\n\u001b[1;32m      <a href='vscode-notebook-cell:/Users/sholden/broad/jade-data-repo-client-example/src/main/python/AzureExample.ipynb#W6sZmlsZQ%3D%3D?line=5'>6</a>\u001b[0m   \u001b[39m\"\u001b[39m\u001b[39mid\u001b[39m\u001b[39m\"\u001b[39m: billing_profile_id,\n\u001b[1;32m      <a href='vscode-notebook-cell:/Users/sholden/broad/jade-data-repo-client-example/src/main/python/AzureExample.ipynb#W6sZmlsZQ%3D%3D?line=6'>7</a>\u001b[0m   \u001b[39m\"\u001b[39m\u001b[39mbiller\u001b[39m\u001b[39m\"\u001b[39m: \u001b[39m\"\u001b[39m\u001b[39mdirect\u001b[39m\u001b[39m\"\u001b[39m,\n\u001b[0;32m   (...)\u001b[0m\n\u001b[1;32m     <a href='vscode-notebook-cell:/Users/sholden/broad/jade-data-repo-client-example/src/main/python/AzureExample.ipynb#W6sZmlsZQ%3D%3D?line=13'>14</a>\u001b[0m   \u001b[39m\"\u001b[39m\u001b[39mtenantId\u001b[39m\u001b[39m\"\u001b[39m: tenant_id\n\u001b[1;32m     <a href='vscode-notebook-cell:/Users/sholden/broad/jade-data-repo-client-example/src/main/python/AzureExample.ipynb#W6sZmlsZQ%3D%3D?line=14'>15</a>\u001b[0m }\n\u001b[0;32m---> <a href='vscode-notebook-cell:/Users/sholden/broad/jade-data-repo-client-example/src/main/python/AzureExample.ipynb#W6sZmlsZQ%3D%3D?line=17'>18</a>\u001b[0m create_profile_result \u001b[39m=\u001b[39m tdr_utils\u001b[39m.\u001b[39;49mwait_for_job(resources_api\u001b[39m.\u001b[39;49mcreate_profile(billing_profile_request\u001b[39m=\u001b[39;49mprofile_request))\n",
      "File \u001b[0;32m~/broad/jade-data-repo-client-example/src/main/python/tdr_utils.py:43\u001b[0m, in \u001b[0;36mTdrUtils.wait_for_job\u001b[0;34m(self, job_model)\u001b[0m\n\u001b[1;32m     41\u001b[0m         result \u001b[39m=\u001b[39m \u001b[39mself\u001b[39m\u001b[39m.\u001b[39mjobs_api\u001b[39m.\u001b[39mretrieve_job_result(job_model\u001b[39m.\u001b[39mid)\n\u001b[1;32m     42\u001b[0m     \u001b[39mexcept\u001b[39;00m ApiException \u001b[39mas\u001b[39;00m e:\n\u001b[0;32m---> 43\u001b[0m         result \u001b[39m=\u001b[39m display(HTML(\u001b[39m'\u001b[39m\u001b[39m<p>Job result is:</p><pre>\u001b[39m\u001b[39m%s\u001b[39;00m\u001b[39m</pre>\u001b[39m\u001b[39m'\u001b[39m \u001b[39m%\u001b[39m \u001b[39mself\u001b[39;49m\u001b[39m.\u001b[39;49mtdr_object_to_json(e)))\n\u001b[1;32m     44\u001b[0m     \u001b[39mreturn\u001b[39;00m result\n\u001b[1;32m     45\u001b[0m \u001b[39melif\u001b[39;00m (result\u001b[39m.\u001b[39mjob_status \u001b[39m==\u001b[39m \u001b[39m\"\u001b[39m\u001b[39msucceeded\u001b[39m\u001b[39m\"\u001b[39m):\n",
      "File \u001b[0;32m~/broad/jade-data-repo-client-example/src/main/python/tdr_utils.py:16\u001b[0m, in \u001b[0;36mTdrUtils.tdr_object_to_json\u001b[0;34m(self, obj)\u001b[0m\n\u001b[1;32m     14\u001b[0m     \u001b[39mreturn\u001b[39;00m json\u001b[39m.\u001b[39mdumps(obj\u001b[39m.\u001b[39mto_dict(), indent\u001b[39m=\u001b[39m\u001b[39m4\u001b[39m)\n\u001b[1;32m     15\u001b[0m \u001b[39melse\u001b[39;00m:\n\u001b[0;32m---> 16\u001b[0m     \u001b[39mreturn\u001b[39;00m json\u001b[39m.\u001b[39;49mdumps(obj, indent\u001b[39m=\u001b[39;49m\u001b[39m4\u001b[39;49m)\n",
      "File \u001b[0;32m/usr/local/Cellar/python@3.9/3.9.9/Frameworks/Python.framework/Versions/3.9/lib/python3.9/json/__init__.py:234\u001b[0m, in \u001b[0;36mdumps\u001b[0;34m(obj, skipkeys, ensure_ascii, check_circular, allow_nan, cls, indent, separators, default, sort_keys, **kw)\u001b[0m\n\u001b[1;32m    232\u001b[0m \u001b[39mif\u001b[39;00m \u001b[39mcls\u001b[39m \u001b[39mis\u001b[39;00m \u001b[39mNone\u001b[39;00m:\n\u001b[1;32m    233\u001b[0m     \u001b[39mcls\u001b[39m \u001b[39m=\u001b[39m JSONEncoder\n\u001b[0;32m--> 234\u001b[0m \u001b[39mreturn\u001b[39;00m \u001b[39mcls\u001b[39;49m(\n\u001b[1;32m    235\u001b[0m     skipkeys\u001b[39m=\u001b[39;49mskipkeys, ensure_ascii\u001b[39m=\u001b[39;49mensure_ascii,\n\u001b[1;32m    236\u001b[0m     check_circular\u001b[39m=\u001b[39;49mcheck_circular, allow_nan\u001b[39m=\u001b[39;49mallow_nan, indent\u001b[39m=\u001b[39;49mindent,\n\u001b[1;32m    237\u001b[0m     separators\u001b[39m=\u001b[39;49mseparators, default\u001b[39m=\u001b[39;49mdefault, sort_keys\u001b[39m=\u001b[39;49msort_keys,\n\u001b[1;32m    238\u001b[0m     \u001b[39m*\u001b[39;49m\u001b[39m*\u001b[39;49mkw)\u001b[39m.\u001b[39;49mencode(obj)\n",
      "File \u001b[0;32m/usr/local/Cellar/python@3.9/3.9.9/Frameworks/Python.framework/Versions/3.9/lib/python3.9/json/encoder.py:201\u001b[0m, in \u001b[0;36mJSONEncoder.encode\u001b[0;34m(self, o)\u001b[0m\n\u001b[1;32m    199\u001b[0m chunks \u001b[39m=\u001b[39m \u001b[39mself\u001b[39m\u001b[39m.\u001b[39miterencode(o, _one_shot\u001b[39m=\u001b[39m\u001b[39mTrue\u001b[39;00m)\n\u001b[1;32m    200\u001b[0m \u001b[39mif\u001b[39;00m \u001b[39mnot\u001b[39;00m \u001b[39misinstance\u001b[39m(chunks, (\u001b[39mlist\u001b[39m, \u001b[39mtuple\u001b[39m)):\n\u001b[0;32m--> 201\u001b[0m     chunks \u001b[39m=\u001b[39m \u001b[39mlist\u001b[39;49m(chunks)\n\u001b[1;32m    202\u001b[0m \u001b[39mreturn\u001b[39;00m \u001b[39m'\u001b[39m\u001b[39m'\u001b[39m\u001b[39m.\u001b[39mjoin(chunks)\n",
      "File \u001b[0;32m/usr/local/Cellar/python@3.9/3.9.9/Frameworks/Python.framework/Versions/3.9/lib/python3.9/json/encoder.py:438\u001b[0m, in \u001b[0;36m_make_iterencode.<locals>._iterencode\u001b[0;34m(o, _current_indent_level)\u001b[0m\n\u001b[1;32m    436\u001b[0m         \u001b[39mraise\u001b[39;00m \u001b[39mValueError\u001b[39;00m(\u001b[39m\"\u001b[39m\u001b[39mCircular reference detected\u001b[39m\u001b[39m\"\u001b[39m)\n\u001b[1;32m    437\u001b[0m     markers[markerid] \u001b[39m=\u001b[39m o\n\u001b[0;32m--> 438\u001b[0m o \u001b[39m=\u001b[39m _default(o)\n\u001b[1;32m    439\u001b[0m \u001b[39myield from\u001b[39;00m _iterencode(o, _current_indent_level)\n\u001b[1;32m    440\u001b[0m \u001b[39mif\u001b[39;00m markers \u001b[39mis\u001b[39;00m \u001b[39mnot\u001b[39;00m \u001b[39mNone\u001b[39;00m:\n",
      "File \u001b[0;32m/usr/local/Cellar/python@3.9/3.9.9/Frameworks/Python.framework/Versions/3.9/lib/python3.9/json/encoder.py:179\u001b[0m, in \u001b[0;36mJSONEncoder.default\u001b[0;34m(self, o)\u001b[0m\n\u001b[1;32m    160\u001b[0m \u001b[39mdef\u001b[39;00m \u001b[39mdefault\u001b[39m(\u001b[39mself\u001b[39m, o):\n\u001b[1;32m    161\u001b[0m     \u001b[39m\"\"\"Implement this method in a subclass such that it returns\u001b[39;00m\n\u001b[1;32m    162\u001b[0m \u001b[39m    a serializable object for ``o``, or calls the base implementation\u001b[39;00m\n\u001b[1;32m    163\u001b[0m \u001b[39m    (to raise a ``TypeError``).\u001b[39;00m\n\u001b[0;32m   (...)\u001b[0m\n\u001b[1;32m    177\u001b[0m \n\u001b[1;32m    178\u001b[0m \u001b[39m    \"\"\"\u001b[39;00m\n\u001b[0;32m--> 179\u001b[0m     \u001b[39mraise\u001b[39;00m \u001b[39mTypeError\u001b[39;00m(\u001b[39mf\u001b[39m\u001b[39m'\u001b[39m\u001b[39mObject of type \u001b[39m\u001b[39m{\u001b[39;00mo\u001b[39m.\u001b[39m\u001b[39m__class__\u001b[39m\u001b[39m.\u001b[39m\u001b[39m__name__\u001b[39m\u001b[39m}\u001b[39;00m\u001b[39m \u001b[39m\u001b[39m'\u001b[39m\n\u001b[1;32m    180\u001b[0m                     \u001b[39mf\u001b[39m\u001b[39m'\u001b[39m\u001b[39mis not JSON serializable\u001b[39m\u001b[39m'\u001b[39m)\n",
      "\u001b[0;31mTypeError\u001b[0m: Object of type ApiException is not JSON serializable"
     ]
    }
   ],
   "source": [
    "# Create Billing Profile\n",
    "if (billing_profile_id == None or billing_profile_id == \"\"):\n",
    "    billing_profile_id = str(uuid.uuid4());\n",
    "\n",
    "profile_request = {\n",
    "  \"id\": billing_profile_id,\n",
    "  \"biller\": \"direct\",\n",
    "  \"description\": \"Billing profile that demonstrates use of Azure resources within TDR\",\n",
    "  \"profileName\": \"azureprofile-michael\",\n",
    "  \"cloudPlatform\": \"azure\",\n",
    "  \"applicationDeploymentName\": application_deployment_name,\n",
    "  \"resourceGroupName\": resource_group_name,\n",
    "  \"subscriptionId\": subscription_id,\n",
    "  \"tenantId\": tenant_id\n",
    "}\n",
    "\n",
    "\n",
    "create_profile_result = tdr_utils.wait_for_job(resources_api.create_profile(billing_profile_request=profile_request))"
   ]
  },
  {
   "cell_type": "markdown",
   "id": "correct-street",
   "metadata": {
    "pycharm": {
     "name": "#%% md\n"
    }
   },
   "source": [
    "## Create Dataset\n",
    "This process will trigger the creation of a storage account in the managed resource group that exists within the TDR managed application that was deployed by an Azure user in the Azure portal.  This storage account will store:\n",
    "- Arbitrary table data as Parqet files\n",
    "- Files that are ingested into the dataset\n",
    "- Metadata for the files stored in Azure Storage Tables"
   ]
  },
  {
   "cell_type": "code",
   "execution_count": 7,
   "id": "becoming-contest",
   "metadata": {},
   "outputs": [
    {
     "data": {
      "text/html": [
       "<b>Running job \"Create dataset 1000genomesdataset_azure\" (cQiYUet1QzitotHtsSJfnQ): <span style=\"color:rgb(219, 50, 20);\">failed</span></b>"
      ],
      "text/plain": [
       "<IPython.core.display.HTML object>"
      ]
     },
     "metadata": {},
     "output_type": "display_data"
    },
    {
     "ename": "TypeError",
     "evalue": "Object of type ApiException is not JSON serializable",
     "output_type": "error",
     "traceback": [
      "\u001b[0;31m---------------------------------------------------------------------------\u001b[0m",
      "\u001b[0;31mApiException\u001b[0m                              Traceback (most recent call last)",
      "File \u001b[0;32m~/broad/jade-data-repo-client-example/src/main/python/tdr_utils.py:41\u001b[0m, in \u001b[0;36mTdrUtils.wait_for_job\u001b[0;34m(self, job_model)\u001b[0m\n\u001b[1;32m     40\u001b[0m \u001b[39mtry\u001b[39;00m:\n\u001b[0;32m---> 41\u001b[0m     result \u001b[39m=\u001b[39m \u001b[39mself\u001b[39;49m\u001b[39m.\u001b[39;49mjobs_api\u001b[39m.\u001b[39;49mretrieve_job_result(job_model\u001b[39m.\u001b[39;49mid)\n\u001b[1;32m     42\u001b[0m \u001b[39mexcept\u001b[39;00m ApiException \u001b[39mas\u001b[39;00m e:\n",
      "File \u001b[0;32m/usr/local/lib/python3.9/site-packages/data_repo_client/api/jobs_api.py:301\u001b[0m, in \u001b[0;36mJobsApi.retrieve_job_result\u001b[0;34m(self, id, **kwargs)\u001b[0m\n\u001b[1;32m    300\u001b[0m kwargs[\u001b[39m'\u001b[39m\u001b[39m_return_http_data_only\u001b[39m\u001b[39m'\u001b[39m] \u001b[39m=\u001b[39m \u001b[39mTrue\u001b[39;00m\n\u001b[0;32m--> 301\u001b[0m \u001b[39mreturn\u001b[39;00m \u001b[39mself\u001b[39;49m\u001b[39m.\u001b[39;49mretrieve_job_result_with_http_info(\u001b[39mid\u001b[39;49m, \u001b[39m*\u001b[39;49m\u001b[39m*\u001b[39;49mkwargs)\n",
      "File \u001b[0;32m/usr/local/lib/python3.9/site-packages/data_repo_client/api/jobs_api.py:376\u001b[0m, in \u001b[0;36mJobsApi.retrieve_job_result_with_http_info\u001b[0;34m(self, id, **kwargs)\u001b[0m\n\u001b[1;32m    374\u001b[0m auth_settings \u001b[39m=\u001b[39m [\u001b[39m'\u001b[39m\u001b[39mgoogleoauth\u001b[39m\u001b[39m'\u001b[39m, \u001b[39m'\u001b[39m\u001b[39moidc\u001b[39m\u001b[39m'\u001b[39m]  \u001b[39m# noqa: E501\u001b[39;00m\n\u001b[0;32m--> 376\u001b[0m \u001b[39mreturn\u001b[39;00m \u001b[39mself\u001b[39;49m\u001b[39m.\u001b[39;49mapi_client\u001b[39m.\u001b[39;49mcall_api(\n\u001b[1;32m    377\u001b[0m     \u001b[39m'\u001b[39;49m\u001b[39m/api/repository/v1/jobs/\u001b[39;49m\u001b[39m{id}\u001b[39;49;00m\u001b[39m/result\u001b[39;49m\u001b[39m'\u001b[39;49m, \u001b[39m'\u001b[39;49m\u001b[39mGET\u001b[39;49m\u001b[39m'\u001b[39;49m,\n\u001b[1;32m    378\u001b[0m     path_params,\n\u001b[1;32m    379\u001b[0m     query_params,\n\u001b[1;32m    380\u001b[0m     header_params,\n\u001b[1;32m    381\u001b[0m     body\u001b[39m=\u001b[39;49mbody_params,\n\u001b[1;32m    382\u001b[0m     post_params\u001b[39m=\u001b[39;49mform_params,\n\u001b[1;32m    383\u001b[0m     files\u001b[39m=\u001b[39;49mlocal_var_files,\n\u001b[1;32m    384\u001b[0m     response_type\u001b[39m=\u001b[39;49m\u001b[39m'\u001b[39;49m\u001b[39mobject\u001b[39;49m\u001b[39m'\u001b[39;49m,  \u001b[39m# noqa: E501\u001b[39;49;00m\n\u001b[1;32m    385\u001b[0m     auth_settings\u001b[39m=\u001b[39;49mauth_settings,\n\u001b[1;32m    386\u001b[0m     async_req\u001b[39m=\u001b[39;49mlocal_var_params\u001b[39m.\u001b[39;49mget(\u001b[39m'\u001b[39;49m\u001b[39masync_req\u001b[39;49m\u001b[39m'\u001b[39;49m),\n\u001b[1;32m    387\u001b[0m     _return_http_data_only\u001b[39m=\u001b[39;49mlocal_var_params\u001b[39m.\u001b[39;49mget(\u001b[39m'\u001b[39;49m\u001b[39m_return_http_data_only\u001b[39;49m\u001b[39m'\u001b[39;49m),  \u001b[39m# noqa: E501\u001b[39;49;00m\n\u001b[1;32m    388\u001b[0m     _preload_content\u001b[39m=\u001b[39;49mlocal_var_params\u001b[39m.\u001b[39;49mget(\u001b[39m'\u001b[39;49m\u001b[39m_preload_content\u001b[39;49m\u001b[39m'\u001b[39;49m, \u001b[39mTrue\u001b[39;49;00m),\n\u001b[1;32m    389\u001b[0m     _request_timeout\u001b[39m=\u001b[39;49mlocal_var_params\u001b[39m.\u001b[39;49mget(\u001b[39m'\u001b[39;49m\u001b[39m_request_timeout\u001b[39;49m\u001b[39m'\u001b[39;49m),\n\u001b[1;32m    390\u001b[0m     collection_formats\u001b[39m=\u001b[39;49mcollection_formats)\n",
      "File \u001b[0;32m/usr/local/lib/python3.9/site-packages/data_repo_client/api_client.py:364\u001b[0m, in \u001b[0;36mApiClient.call_api\u001b[0;34m(self, resource_path, method, path_params, query_params, header_params, body, post_params, files, response_type, auth_settings, async_req, _return_http_data_only, collection_formats, _preload_content, _request_timeout, _host)\u001b[0m\n\u001b[1;32m    363\u001b[0m \u001b[39mif\u001b[39;00m \u001b[39mnot\u001b[39;00m async_req:\n\u001b[0;32m--> 364\u001b[0m     \u001b[39mreturn\u001b[39;00m \u001b[39mself\u001b[39;49m\u001b[39m.\u001b[39;49m__call_api(resource_path, method,\n\u001b[1;32m    365\u001b[0m                            path_params, query_params, header_params,\n\u001b[1;32m    366\u001b[0m                            body, post_params, files,\n\u001b[1;32m    367\u001b[0m                            response_type, auth_settings,\n\u001b[1;32m    368\u001b[0m                            _return_http_data_only, collection_formats,\n\u001b[1;32m    369\u001b[0m                            _preload_content, _request_timeout, _host)\n\u001b[1;32m    371\u001b[0m \u001b[39mreturn\u001b[39;00m \u001b[39mself\u001b[39m\u001b[39m.\u001b[39mpool\u001b[39m.\u001b[39mapply_async(\u001b[39mself\u001b[39m\u001b[39m.\u001b[39m__call_api, (resource_path,\n\u001b[1;32m    372\u001b[0m                                                method, path_params,\n\u001b[1;32m    373\u001b[0m                                                query_params,\n\u001b[0;32m   (...)\u001b[0m\n\u001b[1;32m    381\u001b[0m                                                _request_timeout,\n\u001b[1;32m    382\u001b[0m                                                _host))\n",
      "File \u001b[0;32m/usr/local/lib/python3.9/site-packages/data_repo_client/api_client.py:188\u001b[0m, in \u001b[0;36mApiClient.__call_api\u001b[0;34m(self, resource_path, method, path_params, query_params, header_params, body, post_params, files, response_type, auth_settings, _return_http_data_only, collection_formats, _preload_content, _request_timeout, _host)\u001b[0m\n\u001b[1;32m    187\u001b[0m     e\u001b[39m.\u001b[39mbody \u001b[39m=\u001b[39m e\u001b[39m.\u001b[39mbody\u001b[39m.\u001b[39mdecode(\u001b[39m'\u001b[39m\u001b[39mutf-8\u001b[39m\u001b[39m'\u001b[39m) \u001b[39mif\u001b[39;00m six\u001b[39m.\u001b[39mPY3 \u001b[39melse\u001b[39;00m e\u001b[39m.\u001b[39mbody\n\u001b[0;32m--> 188\u001b[0m     \u001b[39mraise\u001b[39;00m e\n\u001b[1;32m    190\u001b[0m content_type \u001b[39m=\u001b[39m response_data\u001b[39m.\u001b[39mgetheader(\u001b[39m'\u001b[39m\u001b[39mcontent-type\u001b[39m\u001b[39m'\u001b[39m)\n",
      "File \u001b[0;32m/usr/local/lib/python3.9/site-packages/data_repo_client/api_client.py:181\u001b[0m, in \u001b[0;36mApiClient.__call_api\u001b[0;34m(self, resource_path, method, path_params, query_params, header_params, body, post_params, files, response_type, auth_settings, _return_http_data_only, collection_formats, _preload_content, _request_timeout, _host)\u001b[0m\n\u001b[1;32m    179\u001b[0m \u001b[39mtry\u001b[39;00m:\n\u001b[1;32m    180\u001b[0m     \u001b[39m# perform request and return response\u001b[39;00m\n\u001b[0;32m--> 181\u001b[0m     response_data \u001b[39m=\u001b[39m \u001b[39mself\u001b[39;49m\u001b[39m.\u001b[39;49mrequest(\n\u001b[1;32m    182\u001b[0m         method, url, query_params\u001b[39m=\u001b[39;49mquery_params, headers\u001b[39m=\u001b[39;49mheader_params,\n\u001b[1;32m    183\u001b[0m         post_params\u001b[39m=\u001b[39;49mpost_params, body\u001b[39m=\u001b[39;49mbody,\n\u001b[1;32m    184\u001b[0m         _preload_content\u001b[39m=\u001b[39;49m_preload_content,\n\u001b[1;32m    185\u001b[0m         _request_timeout\u001b[39m=\u001b[39;49m_request_timeout)\n\u001b[1;32m    186\u001b[0m \u001b[39mexcept\u001b[39;00m ApiException \u001b[39mas\u001b[39;00m e:\n",
      "File \u001b[0;32m/usr/local/lib/python3.9/site-packages/data_repo_client/api_client.py:389\u001b[0m, in \u001b[0;36mApiClient.request\u001b[0;34m(self, method, url, query_params, headers, post_params, body, _preload_content, _request_timeout)\u001b[0m\n\u001b[1;32m    388\u001b[0m \u001b[39mif\u001b[39;00m method \u001b[39m==\u001b[39m \u001b[39m\"\u001b[39m\u001b[39mGET\u001b[39m\u001b[39m\"\u001b[39m:\n\u001b[0;32m--> 389\u001b[0m     \u001b[39mreturn\u001b[39;00m \u001b[39mself\u001b[39;49m\u001b[39m.\u001b[39;49mrest_client\u001b[39m.\u001b[39;49mGET(url,\n\u001b[1;32m    390\u001b[0m                                 query_params\u001b[39m=\u001b[39;49mquery_params,\n\u001b[1;32m    391\u001b[0m                                 _preload_content\u001b[39m=\u001b[39;49m_preload_content,\n\u001b[1;32m    392\u001b[0m                                 _request_timeout\u001b[39m=\u001b[39;49m_request_timeout,\n\u001b[1;32m    393\u001b[0m                                 headers\u001b[39m=\u001b[39;49mheaders)\n\u001b[1;32m    394\u001b[0m \u001b[39melif\u001b[39;00m method \u001b[39m==\u001b[39m \u001b[39m\"\u001b[39m\u001b[39mHEAD\u001b[39m\u001b[39m\"\u001b[39m:\n",
      "File \u001b[0;32m/usr/local/lib/python3.9/site-packages/data_repo_client/rest.py:230\u001b[0m, in \u001b[0;36mRESTClientObject.GET\u001b[0;34m(self, url, headers, query_params, _preload_content, _request_timeout)\u001b[0m\n\u001b[1;32m    228\u001b[0m \u001b[39mdef\u001b[39;00m \u001b[39mGET\u001b[39m(\u001b[39mself\u001b[39m, url, headers\u001b[39m=\u001b[39m\u001b[39mNone\u001b[39;00m, query_params\u001b[39m=\u001b[39m\u001b[39mNone\u001b[39;00m, _preload_content\u001b[39m=\u001b[39m\u001b[39mTrue\u001b[39;00m,\n\u001b[1;32m    229\u001b[0m         _request_timeout\u001b[39m=\u001b[39m\u001b[39mNone\u001b[39;00m):\n\u001b[0;32m--> 230\u001b[0m     \u001b[39mreturn\u001b[39;00m \u001b[39mself\u001b[39;49m\u001b[39m.\u001b[39;49mrequest(\u001b[39m\"\u001b[39;49m\u001b[39mGET\u001b[39;49m\u001b[39m\"\u001b[39;49m, url,\n\u001b[1;32m    231\u001b[0m                         headers\u001b[39m=\u001b[39;49mheaders,\n\u001b[1;32m    232\u001b[0m                         _preload_content\u001b[39m=\u001b[39;49m_preload_content,\n\u001b[1;32m    233\u001b[0m                         _request_timeout\u001b[39m=\u001b[39;49m_request_timeout,\n\u001b[1;32m    234\u001b[0m                         query_params\u001b[39m=\u001b[39;49mquery_params)\n",
      "File \u001b[0;32m/usr/local/lib/python3.9/site-packages/data_repo_client/rest.py:224\u001b[0m, in \u001b[0;36mRESTClientObject.request\u001b[0;34m(self, method, url, query_params, headers, body, post_params, _preload_content, _request_timeout)\u001b[0m\n\u001b[1;32m    223\u001b[0m \u001b[39mif\u001b[39;00m \u001b[39mnot\u001b[39;00m \u001b[39m200\u001b[39m \u001b[39m<\u001b[39m\u001b[39m=\u001b[39m r\u001b[39m.\u001b[39mstatus \u001b[39m<\u001b[39m\u001b[39m=\u001b[39m \u001b[39m299\u001b[39m:\n\u001b[0;32m--> 224\u001b[0m     \u001b[39mraise\u001b[39;00m ApiException(http_resp\u001b[39m=\u001b[39mr)\n\u001b[1;32m    226\u001b[0m \u001b[39mreturn\u001b[39;00m r\n",
      "\u001b[0;31mApiException\u001b[0m: (500)\nReason: \nHTTP response headers: HTTPHeaderDict({'X-Request-ID': 'pLndYvd2', 'Content-Type': 'application/json', 'Content-Length': '194', 'Date': 'Tue, 19 Sep 2023 20:51:41 GMT', 'Connection': 'close'})\nHTTP response body: {\"message\":\"Cannot reuse existing application deployment shelby from profile b0fe07f4-2f16-44f3-b077-ca9066ca5613 with a different profile 1444825a-733c-4306-ba16-c0f2423dc63e\",\"errorDetail\":[]}\n",
      "\nDuring handling of the above exception, another exception occurred:\n",
      "\u001b[0;31mTypeError\u001b[0m                                 Traceback (most recent call last)",
      "\u001b[1;32m/Users/sholden/broad/jade-data-repo-client-example/src/main/python/AzureExample.ipynb Cell 9\u001b[0m in \u001b[0;36m<cell line: 108>\u001b[0;34m()\u001b[0m\n\u001b[1;32m      <a href='vscode-notebook-cell:/Users/sholden/broad/jade-data-repo-client-example/src/main/python/AzureExample.ipynb#X11sZmlsZQ%3D%3D?line=0'>1</a>\u001b[0m dataset_request \u001b[39m=\u001b[39m {\n\u001b[1;32m      <a href='vscode-notebook-cell:/Users/sholden/broad/jade-data-repo-client-example/src/main/python/AzureExample.ipynb#X11sZmlsZQ%3D%3D?line=1'>2</a>\u001b[0m   \u001b[39m\"\u001b[39m\u001b[39mdefaultProfileId\u001b[39m\u001b[39m\"\u001b[39m: billing_profile_id,\n\u001b[1;32m      <a href='vscode-notebook-cell:/Users/sholden/broad/jade-data-repo-client-example/src/main/python/AzureExample.ipynb#X11sZmlsZQ%3D%3D?line=2'>3</a>\u001b[0m   \u001b[39m\"\u001b[39m\u001b[39mname\u001b[39m\u001b[39m\"\u001b[39m: \u001b[39m\"\u001b[39m\u001b[39m1000genomesdataset_azure\u001b[39m\u001b[39m\"\u001b[39m,\n\u001b[0;32m   (...)\u001b[0m\n\u001b[1;32m    <a href='vscode-notebook-cell:/Users/sholden/broad/jade-data-repo-client-example/src/main/python/AzureExample.ipynb#X11sZmlsZQ%3D%3D?line=104'>105</a>\u001b[0m   }\n\u001b[1;32m    <a href='vscode-notebook-cell:/Users/sholden/broad/jade-data-repo-client-example/src/main/python/AzureExample.ipynb#X11sZmlsZQ%3D%3D?line=105'>106</a>\u001b[0m }\n\u001b[0;32m--> <a href='vscode-notebook-cell:/Users/sholden/broad/jade-data-repo-client-example/src/main/python/AzureExample.ipynb#X11sZmlsZQ%3D%3D?line=107'>108</a>\u001b[0m create_dataset_result \u001b[39m=\u001b[39m tdr_utils\u001b[39m.\u001b[39;49mwait_for_job(datasets_api\u001b[39m.\u001b[39;49mcreate_dataset(dataset\u001b[39m=\u001b[39;49mdataset_request))\n",
      "File \u001b[0;32m~/broad/jade-data-repo-client-example/src/main/python/tdr_utils.py:43\u001b[0m, in \u001b[0;36mTdrUtils.wait_for_job\u001b[0;34m(self, job_model)\u001b[0m\n\u001b[1;32m     41\u001b[0m         result \u001b[39m=\u001b[39m \u001b[39mself\u001b[39m\u001b[39m.\u001b[39mjobs_api\u001b[39m.\u001b[39mretrieve_job_result(job_model\u001b[39m.\u001b[39mid)\n\u001b[1;32m     42\u001b[0m     \u001b[39mexcept\u001b[39;00m ApiException \u001b[39mas\u001b[39;00m e:\n\u001b[0;32m---> 43\u001b[0m         result \u001b[39m=\u001b[39m display(HTML(\u001b[39m'\u001b[39m\u001b[39m<p>Job result is:</p><pre>\u001b[39m\u001b[39m%s\u001b[39;00m\u001b[39m</pre>\u001b[39m\u001b[39m'\u001b[39m \u001b[39m%\u001b[39m \u001b[39mself\u001b[39;49m\u001b[39m.\u001b[39;49mtdr_object_to_json(e)))\n\u001b[1;32m     44\u001b[0m     \u001b[39mreturn\u001b[39;00m result\n\u001b[1;32m     45\u001b[0m \u001b[39melif\u001b[39;00m (result\u001b[39m.\u001b[39mjob_status \u001b[39m==\u001b[39m \u001b[39m\"\u001b[39m\u001b[39msucceeded\u001b[39m\u001b[39m\"\u001b[39m):\n",
      "File \u001b[0;32m~/broad/jade-data-repo-client-example/src/main/python/tdr_utils.py:16\u001b[0m, in \u001b[0;36mTdrUtils.tdr_object_to_json\u001b[0;34m(self, obj)\u001b[0m\n\u001b[1;32m     14\u001b[0m     \u001b[39mreturn\u001b[39;00m json\u001b[39m.\u001b[39mdumps(obj\u001b[39m.\u001b[39mto_dict(), indent\u001b[39m=\u001b[39m\u001b[39m4\u001b[39m)\n\u001b[1;32m     15\u001b[0m \u001b[39melse\u001b[39;00m:\n\u001b[0;32m---> 16\u001b[0m     \u001b[39mreturn\u001b[39;00m json\u001b[39m.\u001b[39;49mdumps(obj, indent\u001b[39m=\u001b[39;49m\u001b[39m4\u001b[39;49m)\n",
      "File \u001b[0;32m/usr/local/Cellar/python@3.9/3.9.9/Frameworks/Python.framework/Versions/3.9/lib/python3.9/json/__init__.py:234\u001b[0m, in \u001b[0;36mdumps\u001b[0;34m(obj, skipkeys, ensure_ascii, check_circular, allow_nan, cls, indent, separators, default, sort_keys, **kw)\u001b[0m\n\u001b[1;32m    232\u001b[0m \u001b[39mif\u001b[39;00m \u001b[39mcls\u001b[39m \u001b[39mis\u001b[39;00m \u001b[39mNone\u001b[39;00m:\n\u001b[1;32m    233\u001b[0m     \u001b[39mcls\u001b[39m \u001b[39m=\u001b[39m JSONEncoder\n\u001b[0;32m--> 234\u001b[0m \u001b[39mreturn\u001b[39;00m \u001b[39mcls\u001b[39;49m(\n\u001b[1;32m    235\u001b[0m     skipkeys\u001b[39m=\u001b[39;49mskipkeys, ensure_ascii\u001b[39m=\u001b[39;49mensure_ascii,\n\u001b[1;32m    236\u001b[0m     check_circular\u001b[39m=\u001b[39;49mcheck_circular, allow_nan\u001b[39m=\u001b[39;49mallow_nan, indent\u001b[39m=\u001b[39;49mindent,\n\u001b[1;32m    237\u001b[0m     separators\u001b[39m=\u001b[39;49mseparators, default\u001b[39m=\u001b[39;49mdefault, sort_keys\u001b[39m=\u001b[39;49msort_keys,\n\u001b[1;32m    238\u001b[0m     \u001b[39m*\u001b[39;49m\u001b[39m*\u001b[39;49mkw)\u001b[39m.\u001b[39;49mencode(obj)\n",
      "File \u001b[0;32m/usr/local/Cellar/python@3.9/3.9.9/Frameworks/Python.framework/Versions/3.9/lib/python3.9/json/encoder.py:201\u001b[0m, in \u001b[0;36mJSONEncoder.encode\u001b[0;34m(self, o)\u001b[0m\n\u001b[1;32m    199\u001b[0m chunks \u001b[39m=\u001b[39m \u001b[39mself\u001b[39m\u001b[39m.\u001b[39miterencode(o, _one_shot\u001b[39m=\u001b[39m\u001b[39mTrue\u001b[39;00m)\n\u001b[1;32m    200\u001b[0m \u001b[39mif\u001b[39;00m \u001b[39mnot\u001b[39;00m \u001b[39misinstance\u001b[39m(chunks, (\u001b[39mlist\u001b[39m, \u001b[39mtuple\u001b[39m)):\n\u001b[0;32m--> 201\u001b[0m     chunks \u001b[39m=\u001b[39m \u001b[39mlist\u001b[39;49m(chunks)\n\u001b[1;32m    202\u001b[0m \u001b[39mreturn\u001b[39;00m \u001b[39m'\u001b[39m\u001b[39m'\u001b[39m\u001b[39m.\u001b[39mjoin(chunks)\n",
      "File \u001b[0;32m/usr/local/Cellar/python@3.9/3.9.9/Frameworks/Python.framework/Versions/3.9/lib/python3.9/json/encoder.py:438\u001b[0m, in \u001b[0;36m_make_iterencode.<locals>._iterencode\u001b[0;34m(o, _current_indent_level)\u001b[0m\n\u001b[1;32m    436\u001b[0m         \u001b[39mraise\u001b[39;00m \u001b[39mValueError\u001b[39;00m(\u001b[39m\"\u001b[39m\u001b[39mCircular reference detected\u001b[39m\u001b[39m\"\u001b[39m)\n\u001b[1;32m    437\u001b[0m     markers[markerid] \u001b[39m=\u001b[39m o\n\u001b[0;32m--> 438\u001b[0m o \u001b[39m=\u001b[39m _default(o)\n\u001b[1;32m    439\u001b[0m \u001b[39myield from\u001b[39;00m _iterencode(o, _current_indent_level)\n\u001b[1;32m    440\u001b[0m \u001b[39mif\u001b[39;00m markers \u001b[39mis\u001b[39;00m \u001b[39mnot\u001b[39;00m \u001b[39mNone\u001b[39;00m:\n",
      "File \u001b[0;32m/usr/local/Cellar/python@3.9/3.9.9/Frameworks/Python.framework/Versions/3.9/lib/python3.9/json/encoder.py:179\u001b[0m, in \u001b[0;36mJSONEncoder.default\u001b[0;34m(self, o)\u001b[0m\n\u001b[1;32m    160\u001b[0m \u001b[39mdef\u001b[39;00m \u001b[39mdefault\u001b[39m(\u001b[39mself\u001b[39m, o):\n\u001b[1;32m    161\u001b[0m     \u001b[39m\"\"\"Implement this method in a subclass such that it returns\u001b[39;00m\n\u001b[1;32m    162\u001b[0m \u001b[39m    a serializable object for ``o``, or calls the base implementation\u001b[39;00m\n\u001b[1;32m    163\u001b[0m \u001b[39m    (to raise a ``TypeError``).\u001b[39;00m\n\u001b[0;32m   (...)\u001b[0m\n\u001b[1;32m    177\u001b[0m \n\u001b[1;32m    178\u001b[0m \u001b[39m    \"\"\"\u001b[39;00m\n\u001b[0;32m--> 179\u001b[0m     \u001b[39mraise\u001b[39;00m \u001b[39mTypeError\u001b[39;00m(\u001b[39mf\u001b[39m\u001b[39m'\u001b[39m\u001b[39mObject of type \u001b[39m\u001b[39m{\u001b[39;00mo\u001b[39m.\u001b[39m\u001b[39m__class__\u001b[39m\u001b[39m.\u001b[39m\u001b[39m__name__\u001b[39m\u001b[39m}\u001b[39;00m\u001b[39m \u001b[39m\u001b[39m'\u001b[39m\n\u001b[1;32m    180\u001b[0m                     \u001b[39mf\u001b[39m\u001b[39m'\u001b[39m\u001b[39mis not JSON serializable\u001b[39m\u001b[39m'\u001b[39m)\n",
      "\u001b[0;31mTypeError\u001b[0m: Object of type ApiException is not JSON serializable"
     ]
    }
   ],
   "source": [
    "dataset_request = {\n",
    "  \"defaultProfileId\": billing_profile_id,\n",
    "  \"name\": \"1000genomesdataset_azure\",\n",
    "  \"description\": \"Dataset to demonstrate storing TDR data and metadata in Azure resources\",\n",
    "  \"cloudPlatform\": \"azure\",\n",
    "  \"region\": \"westus2\",\n",
    "  \"schema\": {\n",
    "    \"tables\": [\n",
    "      {\n",
    "        \"name\": \"demo_pheno_data\",\n",
    "        \"columns\": [\n",
    "          {\n",
    "            \"name\": \"pheno_data_id\",\n",
    "            \"datatype\": \"string\",\n",
    "            \"array_of\": False\n",
    "          },\n",
    "          {\n",
    "            \"name\": \"age\",\n",
    "            \"datatype\": \"integer\",\n",
    "            \"array_of\": False\n",
    "          },\n",
    "          {\n",
    "            \"name\": \"bmi_baseline\",\n",
    "            \"datatype\": \"float\",\n",
    "            \"array_of\": False\n",
    "          },\n",
    "          {\n",
    "            \"name\": \"dbgap_accession_number\",\n",
    "            \"datatype\": \"string\",\n",
    "            \"array_of\": False\n",
    "          },\n",
    "          {\n",
    "            \"name\": \"height_baseline\",\n",
    "            \"datatype\": \"float\",\n",
    "            \"array_of\": False\n",
    "          },\n",
    "          {\n",
    "            \"name\": \"ldl\",\n",
    "            \"datatype\": \"float\",\n",
    "            \"array_of\": False\n",
    "          },\n",
    "          {\n",
    "            \"name\": \"hdl\",\n",
    "            \"datatype\": \"float\",\n",
    "            \"array_of\": False\n",
    "          },\n",
    "          {\n",
    "            \"name\": \"population\",\n",
    "            \"datatype\": \"string\",\n",
    "            \"array_of\": False\n",
    "          },\n",
    "          {\n",
    "            \"name\": \"program_name\",\n",
    "            \"datatype\": \"string\",\n",
    "            \"array_of\": False\n",
    "          },\n",
    "          {\n",
    "            \"name\": \"sample_specimen_id\",\n",
    "            \"datatype\": \"string\",\n",
    "            \"array_of\": False\n",
    "          },\n",
    "          {\n",
    "            \"name\": \"sex\",\n",
    "            \"datatype\": \"string\",\n",
    "            \"array_of\": False\n",
    "          },\n",
    "          {\n",
    "            \"name\": \"total_cholesterol\",\n",
    "            \"datatype\": \"float\",\n",
    "            \"array_of\": False\n",
    "          },\n",
    "          {\n",
    "            \"name\": \"triglycerides\",\n",
    "            \"datatype\": \"float\",\n",
    "            \"array_of\": False\n",
    "          },\n",
    "          {\n",
    "            \"name\": \"bam_file\",\n",
    "            \"datatype\": \"fileref\",\n",
    "            \"array_of\": False\n",
    "          },\n",
    "          {\n",
    "            \"name\": \"bam_file_index\",\n",
    "            \"datatype\": \"fileref\",\n",
    "            \"array_of\": False\n",
    "          }\n",
    "        ],\n",
    "        \"primaryKey\": []\n",
    "      }\n",
    "    ],\n",
    "    \"assets\": [\n",
    "      {\n",
    "        \"name\": \"default\",\n",
    "        \"tables\": [\n",
    "          {\n",
    "            \"name\": \"demo_pheno_data\",\n",
    "            \"columns\": []\n",
    "          }\n",
    "        ],\n",
    "        \"rootTable\": \"demo_pheno_data\",\n",
    "        \"rootColumn\": \"pheno_data_id\",\n",
    "        \"follow\": []\n",
    "      }\n",
    "    ]\n",
    "  }\n",
    "}\n",
    "\n",
    "create_dataset_result = tdr_utils.wait_for_job(datasets_api.create_dataset(dataset=dataset_request))"
   ]
  },
  {
   "cell_type": "markdown",
   "id": "plastic-music",
   "metadata": {},
   "source": [
    "Read in the dataset that was just created with full information"
   ]
  },
  {
   "cell_type": "code",
   "execution_count": null,
   "id": "healthy-hopkins",
   "metadata": {
    "pycharm": {
     "name": "#%%\n"
    }
   },
   "outputs": [],
   "source": [
    "dataset = datasets_api.retrieve_dataset(create_dataset_result['id'])\n",
    "tdr_utils.pretty_print_tdr_object(dataset)"
   ]
  },
  {
   "cell_type": "markdown",
   "id": "reserved-defeat",
   "metadata": {},
   "source": [
    "# Ingest Pedigree Data\n",
    "Ingest metadata and file data into TDR.  This will use Azure Synapse to convert metadata that exists in a storage account in either CSV or newline delimited JSON into Parquet files.\n",
    "\n",
    "If the input metadata is JSON, `fileref` fields can be specified as pointers to storage account files that will be copied into the storage account.\n",
    "\n",
    "An example metadata record may look like:\n",
    "\n",
    "```{\"pheno_data_id\":\"HG00096\",\"age\":75,\"bam_file\": {\"description\":\"my bam file\",\"mimeType\":\"application/octet-stream\",\"sourcePath\": \"https://myaccount.blob.core.windows.net/mycontainer/path/to/blob.bam?<sas token>\",\"targetPath\":\"/my/custom/path/file.bam\"}}```"
   ]
  },
  {
   "cell_type": "code",
   "execution_count": null,
   "id": "atomic-bacteria",
   "metadata": {},
   "outputs": [],
   "source": [
    "ingest_request = {\n",
    "  \"format\": \"json\",\n",
    "  \"ignore_unknown_values\": True,\n",
    "  \"load_tag\": \"smallload\",\n",
    "  \"max_bad_records\": 0,\n",
    "  \"path\": ingest_file_base + \"/demo-pheno-data-small.json?\" + ingest_sas_token,\n",
    "  \"profile_id\": billing_profile_id,\n",
    "  \"resolve_existing_files\": True,\n",
    "  \"table\": \"demo_pheno_data\"\n",
    "}\n",
    "ingest_request_result = tdr_utils.wait_for_job(datasets_api.ingest_dataset(dataset.id, ingest=ingest_request))"
   ]
  },
  {
   "cell_type": "markdown",
   "id": "permanent-namibia",
   "metadata": {},
   "source": [
    "## Read the Ingested Metadata\n",
    "\n",
    "The following cells demonstrate obtaining access to download metadata from the controlled storage account and viewing them with Pandas"
   ]
  },
  {
   "cell_type": "code",
   "execution_count": null,
   "id": "subjective-retro",
   "metadata": {},
   "outputs": [],
   "source": [
    "dataset_access = datasets_api.retrieve_dataset(dataset.id, include=[\"ACCESS_INFORMATION\"])\n",
    "table = next(iter(dataset_access.access_information.parquet.tables), lambda t: t.name == \"demo_pheno_data\")\n",
    "tdr_utils.pretty_print_tdr_object(table)"
   ]
  },
  {
   "cell_type": "code",
   "execution_count": null,
   "id": "proof-seller",
   "metadata": {},
   "outputs": [],
   "source": [
    "os.system(\"rm -r -f %s/%s\" % (local_parquet_dir, table.name))\n",
    "os.system(\"azcopy cp '%s?%s' '%s' --recursive > /dev/null\" % (table.url, table.sas_token, local_parquet_dir))\n",
    "df = pd.read_parquet(\"%s/%s\" % (local_parquet_dir, table.name))\n",
    "# Convert the UUID from binary to readable UUID\n",
    "df[\"datarepo_row_id\"] = df[\"datarepo_row_id\"].apply(tdr_utils.UUID)\n",
    "df.head(5)"
   ]
  },
  {
   "cell_type": "markdown",
   "id": "informed-creativity",
   "metadata": {},
   "source": [
    "## Create a Snapshot\n",
    "Snapshots are the mechanism by which datasets are shared with users.  The process:\n",
    "- Triggers the creation of a storage account to store metadata related to the snapshot (note: file data is _not_ copied into the snapshot storage account)\n",
    "- Copies relevate metadata and file information into the new storage account\n",
    "- Resolved DRS URIs"
   ]
  },
  {
   "cell_type": "code",
   "execution_count": null,
   "id": "musical-straight",
   "metadata": {},
   "outputs": [],
   "source": [
    "snapshot_request = {\n",
    "  \"contents\": [\n",
    "    {\n",
    "      \"datasetName\": dataset.name,\n",
    "      \"mode\": \"byFullView\"\n",
    "    }\n",
    "  ],\n",
    "  \"description\": \"Demonstration of Azure resource backed snapshot\",\n",
    "  \"name\": dataset.name+\"_snp\",\n",
    "  \"profileId\": billing_profile_id,\n",
    "  \"readers\": []\n",
    "}\n",
    "\n",
    "create_snapshot_result = tdr_utils.wait_for_job(snapshots_api.create_snapshot(snapshot=snapshot_request))"
   ]
  },
  {
   "cell_type": "markdown",
   "id": "continental-multiple",
   "metadata": {},
   "source": [
    "# Read the Generated Snapshot Metadata"
   ]
  },
  {
   "cell_type": "code",
   "execution_count": null,
   "id": "thermal-communist",
   "metadata": {},
   "outputs": [],
   "source": [
    "snapshot = snapshots_api.retrieve_snapshot(create_snapshot_result['id'], include=[\"ACCESS_INFORMATION\"])\n",
    "table = next(iter(snapshot.access_information.parquet.tables), lambda t: t.name == \"demo_pheno_data\")\n",
    "tdr_utils.pretty_print_tdr_object(table)"
   ]
  },
  {
   "cell_type": "code",
   "execution_count": null,
   "id": "promotional-trinidad",
   "metadata": {},
   "outputs": [],
   "source": [
    "pd.set_option('display.max_colwidth', 1000)\n",
    "os.system(\"rm -r  -f %s/%s.parquet\" % (local_parquet_dir, table.name))\n",
    "os.system(\"azcopy cp '%s?%s' '%s' --recursive > /dev/null\" % (table.url, table.sas_token, local_parquet_dir))\n",
    "df = pd.read_parquet(\"%s/%s.parquet\" % (local_parquet_dir, table.name))\n",
    "# Convert the UUID from binary to readable UUID\n",
    "df[\"datarepo_row_id\"] = df[\"datarepo_row_id\"].apply(tdr_utils.UUID)\n",
    "df.head(5)"
   ]
  },
  {
   "cell_type": "markdown",
   "id": "liquid-violin",
   "metadata": {},
   "source": [
    "# Share the Snapshot\n",
    "Below is an example of how to share the created snapshot with a Terra user"
   ]
  },
  {
   "cell_type": "code",
   "execution_count": null,
   "id": "spatial-safety",
   "metadata": {},
   "outputs": [],
   "source": [
    "policy_member_request = {\n",
    "    \"email\": \"rtitle@azure.dev.envs-terra.bio\"\n",
    "}\n",
    "tdr_utils.pretty_print_tdr_object(snapshots_api.add_snapshot_policy_member(snapshot.id, 'steward', policy_member = policy_member_request))\n"
   ]
  },
  {
   "cell_type": "code",
   "execution_count": null,
   "id": "dfd161bb",
   "metadata": {},
   "outputs": [],
   "source": [
    "policy_member_request = {\n",
    "    \"email\": \"jdewar.broad.testing@gmail.com\"\n",
    "}\n",
    "tdr_utils.pretty_print_tdr_object(snapshots_api.add_snapshot_policy_member(snapshot.id, 'steward', policy_member = policy_member_request))"
   ]
  },
  {
   "cell_type": "markdown",
   "id": "tested-defeat",
   "metadata": {
    "pycharm": {
     "name": "#%% md\n"
    }
   },
   "source": [
    "## Given a Drs ID, access file data\n",
    "From the previous cell, copy a DRS ID and extract the object ID (in the format `v1_<uuid>_<uuid>`) and save if in the drs_id variable.\n",
    "\n",
    "The following cell obtains a signed URL from TDR using a DRS ID then reads the first few bytes."
   ]
  },
  {
   "cell_type": "code",
   "execution_count": null,
   "id": "likely-dispatch",
   "metadata": {},
   "outputs": [],
   "source": [
    "# Get access to DRS object\n",
    "drs_id = \"\"\n",
    "drs_object = drs_api.get_object(drs_id)\n",
    "drs_access = drs_api.get_access_url(drs_id, drs_object.access_methods[0].access_id)\n",
    "tdr_utils.pretty_print_tdr_object(drs_access)"
   ]
  },
  {
   "cell_type": "markdown",
   "id": "opposed-china",
   "metadata": {
    "pycharm": {
     "name": "#%% md\n"
    }
   },
   "source": [
    "## Read the first 100 bytes of the file represented by DRS ID"
   ]
  },
  {
   "cell_type": "code",
   "execution_count": null,
   "id": "catholic-southwest",
   "metadata": {
    "pycharm": {
     "name": "#%%\n"
    }
   },
   "outputs": [],
   "source": [
    "# Read the first 100 bytes of the file represented by DRS ID\n",
    "print(urllib.request.urlopen(drs_access.url).read()[:100])"
   ]
  },
  {
   "cell_type": "markdown",
   "id": "exotic-space",
   "metadata": {},
   "source": [
    "## Delete Objects That Were Created\n",
    "Run through the following steps in order for objects that were created in this notebook"
   ]
  },
  {
   "cell_type": "code",
   "execution_count": null,
   "id": "individual-carrier",
   "metadata": {},
   "outputs": [],
   "source": [
    "tdr_utils.wait_for_job(snapshots_api.delete_snapshot(snapshot.id))"
   ]
  },
  {
   "cell_type": "code",
   "execution_count": null,
   "id": "lonely-discipline",
   "metadata": {},
   "outputs": [],
   "source": [
    "tdr_utils.wait_for_job(datasets_api.delete_dataset(dataset.id))"
   ]
  },
  {
   "cell_type": "code",
   "execution_count": null,
   "id": "7367466d",
   "metadata": {},
   "outputs": [],
   "source": [
    "tdr_utils.wait_for_job(profile_api.delete_profile(\"b0fe07f4-2f16-44f3-b077-ca9066ca5613\"))"
   ]
  }
 ],
 "metadata": {
  "kernelspec": {
   "display_name": "Python 3 (ipykernel)",
   "language": "python",
   "name": "python3"
  },
  "language_info": {
   "codemirror_mode": {
    "name": "ipython",
    "version": 3
   },
   "file_extension": ".py",
   "mimetype": "text/x-python",
   "name": "python",
   "nbconvert_exporter": "python",
   "pygments_lexer": "ipython3",
   "version": "3.9.9"
  }
 },
 "nbformat": 4,
 "nbformat_minor": 5
}
